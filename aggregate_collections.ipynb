{
 "cells": [
  {
   "cell_type": "code",
   "execution_count": 34,
   "metadata": {},
   "outputs": [],
   "source": [
    "import pandas as pd\n",
    "from pymongo.errors import DuplicateKeyError\n",
    "from pymongo import MongoClient\n",
    "from textblob import TextBlob\n",
    "import pprint\n",
    "\n",
    "import boto3\n",
    "import os\n",
    "import time\n",
    "import subprocess"
   ]
  },
  {
   "cell_type": "code",
   "execution_count": 14,
   "metadata": {},
   "outputs": [
    {
     "name": "stdout",
     "output_type": "stream",
     "text": [
      "['comments-2007-08', 'comments-2007-09', 'comments-2007-10', 'comments-2007-11', 'comments-2007-12', 'comments-2008-01', 'comments-2008-02', 'comments-2008-03', 'comments-2008-04', 'comments-2008-05']\n"
     ]
    }
   ],
   "source": [
    "client = MongoClient()\n",
    "\n",
    "db = client['myreddit']\n",
    "comments_sub = db['comments_sub']\n",
    "\n",
    "collection_list = sorted([collection for collection in db.list_collection_names() if collection.startswith('comments')])\n",
    "# db = client['myreddit']\n",
    "# comments = db['comments-2011-08']\n",
    "# posts = db['posts-2011-08']\n",
    "# # cmt_col2 = db['comments-2010-02']\n",
    "\n",
    "print(collection_list[:10])"
   ]
  },
  {
   "cell_type": "code",
   "execution_count": 15,
   "metadata": {
    "scrolled": true
   },
   "outputs": [
    {
     "name": "stdout",
     "output_type": "stream",
     "text": [
      "comments-2007-08\n",
      "comments-2007-09\n",
      "comments-2007-10\n",
      "comments-2007-11\n",
      "comments-2007-12\n",
      "comments-2008-01\n",
      "comments-2008-02\n",
      "comments-2008-03\n",
      "comments-2008-04\n",
      "comments-2008-05\n",
      "comments-2008-06\n",
      "comments-2008-07\n",
      "comments-2008-08\n",
      "comments-2008-09\n",
      "comments-2008-10\n",
      "comments-2008-11\n",
      "comments-2008-12\n",
      "comments-2009-01\n",
      "comments-2009-02\n",
      "comments-2009-03\n",
      "comments-2009-04\n",
      "comments-2009-05\n",
      "comments-2009-06\n",
      "comments-2009-07\n",
      "comments-2009-08\n",
      "comments-2009-09\n",
      "comments-2009-10\n",
      "comments-2009-11\n",
      "comments-2009-12\n",
      "comments-2010-01\n",
      "comments-2010-02\n",
      "comments-2010-03\n",
      "comments-2010-04\n",
      "comments-2010-05\n",
      "comments-2010-06\n",
      "comments-2010-07\n",
      "comments-2010-08\n",
      "comments-2010-09\n",
      "comments-2010-10\n",
      "comments-2010-11\n",
      "comments-2010-12\n",
      "comments-2011-01\n",
      "comments-2011-02\n",
      "comments-2011-03\n",
      "comments-2011-04\n",
      "comments-2011-05\n",
      "comments-2011-06\n",
      "comments-2011-07\n",
      "comments-2011-08\n",
      "comments-2011-09\n",
      "comments-2011-10\n",
      "comments-2011-11\n",
      "comments-2011-12\n",
      "comments-2012-01\n",
      "comments-2012-02\n",
      "comments-2012-03\n",
      "comments-2012-04\n",
      "comments-2012-05\n",
      "comments-2012-06\n",
      "comments-2012-07\n",
      "comments-2012-08\n",
      "Elapsed time: 1068.4667263031006\n"
     ]
    }
   ],
   "source": [
    "start = time.time()\n",
    "\n",
    "for collection_name in collection_list:\n",
    "    print(collection_name)\n",
    "    this_collection = db[collection_name]\n",
    "    cursor = this_collection.find()\n",
    "    for document in cursor:\n",
    "        comments_sub.insert_one(document)\n",
    "\n",
    "end = time.time()\n",
    "print('Elapsed time: {}'.format(end - start))"
   ]
  },
  {
   "cell_type": "code",
   "execution_count": 48,
   "metadata": {},
   "outputs": [
    {
     "name": "stdout",
     "output_type": "stream",
     "text": [
      "Total of comments by month:     5259375\n",
      "Total of consolidated comments: 5259375\n"
     ]
    },
    {
     "name": "stderr",
     "output_type": "stream",
     "text": [
      "/home/ubuntu/anaconda3/lib/python3.7/site-packages/ipykernel_launcher.py:4: DeprecationWarning: count is deprecated. Use estimated_document_count or count_documents instead. Please note that $where must be replaced by $expr, $near must be replaced by $geoWithin with $center, and $nearSphere must be replaced by $geoWithin with $centerSphere\n",
      "  after removing the cwd from sys.path.\n",
      "/home/ubuntu/anaconda3/lib/python3.7/site-packages/ipykernel_launcher.py:6: DeprecationWarning: count is deprecated. Use estimated_document_count or count_documents instead. Please note that $where must be replaced by $expr, $near must be replaced by $geoWithin with $center, and $nearSphere must be replaced by $geoWithin with $centerSphere\n",
      "  \n"
     ]
    }
   ],
   "source": [
    "total = 0\n",
    "for collection_name in collection_list:\n",
    "    this_collection = db[collection_name]\n",
    "    total += this_collection.count()\n",
    "\n",
    "consolidated_comment_total = comments_sub.count()\n",
    "print('Total of comments by month:     {}'.format(total))\n",
    "print('Total of consolidated comments: {}'.format(consolidated_comment_total))"
   ]
  },
  {
   "cell_type": "code",
   "execution_count": 35,
   "metadata": {
    "scrolled": true
   },
   "outputs": [
    {
     "name": "stdout",
     "output_type": "stream",
     "text": [
      "posts-2007-08\n"
     ]
    },
    {
     "name": "stderr",
     "output_type": "stream",
     "text": [
      "/home/ubuntu/anaconda3/lib/python3.7/site-packages/ipykernel_launcher.py:13: DeprecationWarning: insert is deprecated. Use insert_one or insert_many instead.\n",
      "  del sys.path[0]\n"
     ]
    },
    {
     "name": "stdout",
     "output_type": "stream",
     "text": [
      "posts-2007-09\n",
      "posts-2007-10\n",
      "posts-2007-11\n",
      "posts-2007-12\n",
      "posts-2008-01\n",
      "posts-2008-02\n",
      "posts-2008-03\n",
      "posts-2008-05\n",
      "posts-2008-06\n",
      "posts-2008-07\n",
      "posts-2008-08\n",
      "posts-2008-09\n",
      "posts-2008-10\n",
      "posts-2008-11\n",
      "posts-2008-12\n",
      "posts-2009-01\n",
      "posts-2009-02\n",
      "posts-2009-03\n",
      "posts-2009-04\n",
      "posts-2009-05\n",
      "posts-2009-06\n",
      "posts-2009-07\n",
      "posts-2009-08\n",
      "posts-2009-09\n",
      "posts-2009-10\n",
      "posts-2009-11\n",
      "posts-2009-12\n",
      "posts-2010-01\n",
      "posts_sub\n",
      "Elapsed time: 149.8399693965912\n"
     ]
    }
   ],
   "source": [
    "posts_list = sorted([collection for collection in db.list_collection_names() if collection.startswith('posts')])\n",
    "posts_sub = db['posts_sub']\n",
    "posts_sub.create_index('link_id', unique=True)\n",
    "\n",
    "start = time.time()\n",
    "\n",
    "for collection_name in posts_list:\n",
    "    print(collection_name)\n",
    "    this_collection = db[collection_name]\n",
    "    cursor = this_collection.find()\n",
    "    for document in cursor:\n",
    "        try:\n",
    "            posts_sub.insert(document)\n",
    "        except DuplicateKeyError:\n",
    "            pass\n",
    "\n",
    "end = time.time()\n",
    "print('Elapsed time: {}'.format(end - start))"
   ]
  },
  {
   "cell_type": "code",
   "execution_count": 39,
   "metadata": {},
   "outputs": [
    {
     "name": "stdout",
     "output_type": "stream",
     "text": [
      "Total of posts by month:     627870\n",
      "Total of consolidated posts: 311134\n"
     ]
    },
    {
     "name": "stderr",
     "output_type": "stream",
     "text": [
      "/home/ubuntu/anaconda3/lib/python3.7/site-packages/ipykernel_launcher.py:4: DeprecationWarning: count is deprecated. Use estimated_document_count or count_documents instead. Please note that $where must be replaced by $expr, $near must be replaced by $geoWithin with $center, and $nearSphere must be replaced by $geoWithin with $centerSphere\n",
      "  after removing the cwd from sys.path.\n",
      "/home/ubuntu/anaconda3/lib/python3.7/site-packages/ipykernel_launcher.py:6: DeprecationWarning: count is deprecated. Use estimated_document_count or count_documents instead. Please note that $where must be replaced by $expr, $near must be replaced by $geoWithin with $center, and $nearSphere must be replaced by $geoWithin with $centerSphere\n",
      "  \n"
     ]
    }
   ],
   "source": [
    "total = 0\n",
    "for collection_name in posts_list:\n",
    "    this_collection = db[collection_name]\n",
    "    total += this_collection.count()\n",
    "\n",
    "consolidated_comment_total = posts_sub.count()\n",
    "print('Total of posts by month:     {}'.format(total))\n",
    "print('Total of consolidated posts: {}'.format(consolidated_comment_total))"
   ]
  }
 ],
 "metadata": {
  "kernelspec": {
   "display_name": "Python 3",
   "language": "python",
   "name": "python3"
  },
  "language_info": {
   "codemirror_mode": {
    "name": "ipython",
    "version": 3
   },
   "file_extension": ".py",
   "mimetype": "text/x-python",
   "name": "python",
   "nbconvert_exporter": "python",
   "pygments_lexer": "ipython3",
   "version": "3.7.4"
  }
 },
 "nbformat": 4,
 "nbformat_minor": 2
}
