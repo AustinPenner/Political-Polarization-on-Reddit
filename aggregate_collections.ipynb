{
 "cells": [
  {
   "cell_type": "code",
   "execution_count": 3,
   "metadata": {},
   "outputs": [],
   "source": [
    "import pandas as pd\n",
    "from pymongo import MongoClient\n",
    "from textblob import TextBlob\n",
    "import pprint\n",
    "\n",
    "import boto3\n",
    "import os\n",
    "import time\n",
    "import subprocess"
   ]
  },
  {
   "cell_type": "code",
   "execution_count": 14,
   "metadata": {},
   "outputs": [
    {
     "name": "stdout",
     "output_type": "stream",
     "text": [
      "['comments-2007-08', 'comments-2007-09', 'comments-2007-10', 'comments-2007-11', 'comments-2007-12', 'comments-2008-01', 'comments-2008-02', 'comments-2008-03', 'comments-2008-04', 'comments-2008-05']\n"
     ]
    }
   ],
   "source": [
    "client = MongoClient()\n",
    "\n",
    "db = client['myreddit']\n",
    "comments_sub = db['comments_sub']\n",
    "\n",
    "collection_list = sorted([collection for collection in db.list_collection_names() if collection.startswith('comments')])\n",
    "# db = client['myreddit']\n",
    "# comments = db['comments-2011-08']\n",
    "# posts = db['posts-2011-08']\n",
    "# # cmt_col2 = db['comments-2010-02']\n",
    "\n",
    "print(collection_list[:10])"
   ]
  },
  {
   "cell_type": "code",
   "execution_count": null,
   "metadata": {},
   "outputs": [
    {
     "name": "stdout",
     "output_type": "stream",
     "text": [
      "comments-2007-08\n",
      "comments-2007-09\n",
      "comments-2007-10\n",
      "comments-2007-11\n",
      "comments-2007-12\n",
      "comments-2008-01\n",
      "comments-2008-02\n",
      "comments-2008-03\n",
      "comments-2008-04\n",
      "comments-2008-05\n",
      "comments-2008-06\n",
      "comments-2008-07\n",
      "comments-2008-08\n",
      "comments-2008-09\n",
      "comments-2008-10\n",
      "comments-2008-11\n",
      "comments-2008-12\n",
      "comments-2009-01\n",
      "comments-2009-02\n",
      "comments-2009-03\n",
      "comments-2009-04\n",
      "comments-2009-05\n",
      "comments-2009-06\n",
      "comments-2009-07\n",
      "comments-2009-08\n",
      "comments-2009-09\n",
      "comments-2009-10\n",
      "comments-2009-11\n",
      "comments-2009-12\n",
      "comments-2010-01\n",
      "comments-2010-02\n",
      "comments-2010-03\n",
      "comments-2010-04\n",
      "comments-2010-05\n",
      "comments-2010-06\n",
      "comments-2010-07\n",
      "comments-2010-08\n",
      "comments-2010-09\n",
      "comments-2010-10\n",
      "comments-2010-11\n",
      "comments-2010-12\n",
      "comments-2011-01\n",
      "comments-2011-02\n",
      "comments-2011-03\n"
     ]
    }
   ],
   "source": [
    "start = time.time()\n",
    "\n",
    "for collection_name in collection_list:\n",
    "    print(collection_name)\n",
    "    this_collection = db[collection_name]\n",
    "    cursor = this_collection.find()\n",
    "    for document in cursor:\n",
    "        comments_sub.insert_one(document)\n",
    "\n",
    "end = time.time()\n",
    "print('Elapsed time: {}'.format(end - start))"
   ]
  },
  {
   "cell_type": "code",
   "execution_count": null,
   "metadata": {},
   "outputs": [],
   "source": [
    "posts_list = sorted([collection for collection in db.list_collection_names() if collection.startswith('posts')])\n",
    "posts_sub = db['posts_sub']\n",
    "posts_sub.create_index(({'link_id': 1}, {'unique': 1}))\n",
    "\n",
    "start = time.time()\n",
    "\n",
    "for collection_name in collection_list:\n",
    "    print(collection_name)\n",
    "    this_collection = db[collection_name]\n",
    "    cursor = this_collection.find()\n",
    "    for document in cursor:\n",
    "        comments_sub.insert_one(document)\n",
    "\n",
    "end = time.time()\n",
    "print('Elapsed time: {}'.format(end - start))"
   ]
  },
  {
   "cell_type": "code",
   "execution_count": null,
   "metadata": {},
   "outputs": [],
   "source": []
  }
 ],
 "metadata": {
  "kernelspec": {
   "display_name": "Python 3",
   "language": "python",
   "name": "python3"
  },
  "language_info": {
   "codemirror_mode": {
    "name": "ipython",
    "version": 3
   },
   "file_extension": ".py",
   "mimetype": "text/x-python",
   "name": "python",
   "nbconvert_exporter": "python",
   "pygments_lexer": "ipython3",
   "version": "3.7.4"
  }
 },
 "nbformat": 4,
 "nbformat_minor": 2
}
