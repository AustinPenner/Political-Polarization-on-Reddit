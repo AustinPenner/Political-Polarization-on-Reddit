{
 "cells": [
  {
   "cell_type": "code",
   "execution_count": 1,
   "metadata": {},
   "outputs": [],
   "source": [
    "import pandas as pd\n",
    "import matplotlib.pyplot as plt\n",
    "from pymongo import MongoClient\n",
    "from textblob import TextBlob\n",
    "import nltk\n",
    "from nltk.sentiment.vader import SentimentIntensityAnalyzer as SIA\n",
    "# import json\n",
    "import pprint\n",
    "\n",
    "import boto3\n",
    "import os\n",
    "import time\n",
    "import subprocess"
   ]
  },
  {
   "cell_type": "code",
   "execution_count": 3,
   "metadata": {
    "scrolled": true
   },
   "outputs": [
    {
     "data": {
      "text/html": [
       "<div>\n",
       "<style scoped>\n",
       "    .dataframe tbody tr th:only-of-type {\n",
       "        vertical-align: middle;\n",
       "    }\n",
       "\n",
       "    .dataframe tbody tr th {\n",
       "        vertical-align: top;\n",
       "    }\n",
       "\n",
       "    .dataframe thead th {\n",
       "        text-align: right;\n",
       "    }\n",
       "</style>\n",
       "<table border=\"1\" class=\"dataframe\">\n",
       "  <thead>\n",
       "    <tr style=\"text-align: right;\">\n",
       "      <th></th>\n",
       "      <th>month</th>\n",
       "      <th>link</th>\n",
       "      <th>downloaded</th>\n",
       "      <th>size_in_bytes</th>\n",
       "      <th>comment_count</th>\n",
       "    </tr>\n",
       "  </thead>\n",
       "  <tbody>\n",
       "    <tr>\n",
       "      <td>0</td>\n",
       "      <td>2005-12</td>\n",
       "      <td>https://files.pushshift.io/reddit/comments/RC_...</td>\n",
       "      <td>False</td>\n",
       "      <td>0</td>\n",
       "      <td>0</td>\n",
       "    </tr>\n",
       "    <tr>\n",
       "      <td>1</td>\n",
       "      <td>2006-01</td>\n",
       "      <td>https://files.pushshift.io/reddit/comments/RC_...</td>\n",
       "      <td>False</td>\n",
       "      <td>0</td>\n",
       "      <td>0</td>\n",
       "    </tr>\n",
       "    <tr>\n",
       "      <td>2</td>\n",
       "      <td>2006-02</td>\n",
       "      <td>https://files.pushshift.io/reddit/comments/RC_...</td>\n",
       "      <td>False</td>\n",
       "      <td>0</td>\n",
       "      <td>0</td>\n",
       "    </tr>\n",
       "    <tr>\n",
       "      <td>3</td>\n",
       "      <td>2006-03</td>\n",
       "      <td>https://files.pushshift.io/reddit/comments/RC_...</td>\n",
       "      <td>False</td>\n",
       "      <td>0</td>\n",
       "      <td>0</td>\n",
       "    </tr>\n",
       "    <tr>\n",
       "      <td>4</td>\n",
       "      <td>2006-04</td>\n",
       "      <td>https://files.pushshift.io/reddit/comments/RC_...</td>\n",
       "      <td>False</td>\n",
       "      <td>0</td>\n",
       "      <td>0</td>\n",
       "    </tr>\n",
       "  </tbody>\n",
       "</table>\n",
       "</div>"
      ],
      "text/plain": [
       "     month                                               link  downloaded  \\\n",
       "0  2005-12  https://files.pushshift.io/reddit/comments/RC_...       False   \n",
       "1  2006-01  https://files.pushshift.io/reddit/comments/RC_...       False   \n",
       "2  2006-02  https://files.pushshift.io/reddit/comments/RC_...       False   \n",
       "3  2006-03  https://files.pushshift.io/reddit/comments/RC_...       False   \n",
       "4  2006-04  https://files.pushshift.io/reddit/comments/RC_...       False   \n",
       "\n",
       "   size_in_bytes  comment_count  \n",
       "0              0              0  \n",
       "1              0              0  \n",
       "2              0              0  \n",
       "3              0              0  \n",
       "4              0              0  "
      ]
     },
     "execution_count": 3,
     "metadata": {},
     "output_type": "execute_result"
    }
   ],
   "source": [
    "from data.get_data import get_download_links\n",
    "\n",
    "links_df = get_download_links()\n",
    "links_df.head()"
   ]
  },
  {
   "cell_type": "code",
   "execution_count": 4,
   "metadata": {},
   "outputs": [],
   "source": [
    "def calculate_polarity(month):\n",
    "    sia = SIA()\n",
    "    \n",
    "    client = MongoClient()\n",
    "    db = client['myreddit']\n",
    "    collection_name = 'comments-' + month\n",
    "    collection = db[collection_name]\n",
    "    \n",
    "    cursor = collection.find({'$and': \n",
    "                                   [{'$expr': {'$ne': ['$body', '[deleted]']}},\n",
    "                                    {'$expr': {'$gt': ['$score', 0]}}]\n",
    "                           })\n",
    "\n",
    "    # Calculate sentiment for relevant comments\n",
    "    for doc in cursor:\n",
    "        _id = doc['_id']\n",
    "        sentiment = sia.polarity_scores(doc['body'])['compound']\n",
    "        comments.update({\"_id\": _id}, {\"$set\": {\"vader_sentiment\": sentiment}})\n",
    "    \n",
    "    client.close()"
   ]
  },
  {
   "cell_type": "code",
   "execution_count": 5,
   "metadata": {},
   "outputs": [],
   "source": [
    "def avg_abs_polarity(month):\n",
    "    client = MongoClient()\n",
    "    db = client['myreddit']\n",
    "    collection_name = 'comments-' + month\n",
    "    collection = db[collection_name]\n",
    "    \n",
    "    cursor = collection.find({'$and': \n",
    "                                   [{'$expr': {'$ne': ['$body', '[deleted]']}},\n",
    "                                    {'$expr': {'$gt': ['$score', 0]}}]\n",
    "                           })\n",
    "    \n",
    "    # Calculate average absolute sentiment for month\n",
    "    total_abs_polarity = 0\n",
    "    total_score = 0\n",
    "    for doc in cursor:\n",
    "        total_abs_polarity += doc['score']*abs(doc['vader_sentiment'])\n",
    "        total_score += doc['score']\n",
    "\n",
    "    avg_abs_polarity = total_abs_polarity/total_score\n",
    "    print('Total absolute sentiment: {}'.format(total_abs_sent))\n",
    "    print('Avg absolute sentiment:   {}'.format(avg_abs_sent))\n",
    "    \n",
    "    client.close()\n",
    "    \n",
    "    return avg_abs_polarity"
   ]
  },
  {
   "cell_type": "code",
   "execution_count": 7,
   "metadata": {},
   "outputs": [
    {
     "name": "stdout",
     "output_type": "stream",
     "text": [
      "2007-08\n",
      "2007-09\n",
      "2007-10\n",
      "2007-11\n",
      "2007-12\n",
      "2008-01\n",
      "2008-02\n",
      "2008-03\n",
      "2008-04\n",
      "2008-05\n",
      "2008-06\n"
     ]
    }
   ],
   "source": [
    "for idx, row in links_df.loc[20:30].iterrows():\n",
    "    month = row['month']\n",
    "    print(month)\n",
    "#     calculate_sentiment(month)"
   ]
  }
 ],
 "metadata": {
  "kernelspec": {
   "display_name": "Python 3",
   "language": "python",
   "name": "python3"
  },
  "language_info": {
   "codemirror_mode": {
    "name": "ipython",
    "version": 3
   },
   "file_extension": ".py",
   "mimetype": "text/x-python",
   "name": "python",
   "nbconvert_exporter": "python",
   "pygments_lexer": "ipython3",
   "version": "3.7.4"
  }
 },
 "nbformat": 4,
 "nbformat_minor": 2
}
