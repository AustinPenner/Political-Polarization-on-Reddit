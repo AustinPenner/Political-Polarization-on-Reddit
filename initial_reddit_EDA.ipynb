{
 "cells": [
  {
   "cell_type": "code",
   "execution_count": 1,
   "metadata": {},
   "outputs": [],
   "source": [
    "import numpy as np\n",
    "import pandas as pd\n",
    "import matplotlib.pyplot as plt\n",
    "from pymongo import MongoClient\n",
    "import praw\n",
    "import json\n",
    "import requests\n",
    "import pprint"
   ]
  },
  {
   "cell_type": "code",
   "execution_count": 2,
   "metadata": {},
   "outputs": [],
   "source": [
    "client = MongoClient()\n",
    "\n",
    "mydb = myclient['myreddit']\n",
    "# mycomments = mydb['mycomments']"
   ]
  },
  {
   "cell_type": "code",
   "execution_count": 15,
   "metadata": {},
   "outputs": [
    {
     "name": "stdout",
     "output_type": "stream",
     "text": [
      "Total comments from month: 12316144\n"
     ]
    },
    {
     "name": "stderr",
     "output_type": "stream",
     "text": [
      "/home/ubuntu/anaconda3/lib/python3.7/site-packages/ipykernel_launcher.py:1: DeprecationWarning: count is deprecated. Use estimated_document_count or count_documents instead. Please note that $where must be replaced by $expr, $near must be replaced by $geoWithin with $center, and $nearSphere must be replaced by $geoWithin with $centerSphere\n",
      "  \"\"\"Entry point for launching an IPython kernel.\n"
     ]
    },
    {
     "data": {
      "text/plain": [
       "{'_id': ObjectId('5e505081129d2eb1218c93ac'),\n",
       " 'link_id': 't3_j4zx3',\n",
       " 'score_hidden': False,\n",
       " 'score': 1,\n",
       " 'archived': True,\n",
       " 'author_flair_text': None,\n",
       " 'subreddit': 'fffffffuuuuuuuuuuuu',\n",
       " 'body': '\"$2, would you take that deal? I\\'d take that deal\"',\n",
       " 'author': 'DorkyDude',\n",
       " 'distinguished': None,\n",
       " 'parent_id': 't3_j4zx3',\n",
       " 'id': 'c298mtc',\n",
       " 'subreddit_id': 't5_2qqlo',\n",
       " 'controversiality': 0,\n",
       " 'gilded': 0,\n",
       " 'downs': 0,\n",
       " 'retrieved_on': 1427415708,\n",
       " 'name': 't1_c298mtc',\n",
       " 'ups': 1,\n",
       " 'edited': False,\n",
       " 'author_flair_css_class': None,\n",
       " 'created_utc': '1312156800'}"
      ]
     },
     "execution_count": 15,
     "metadata": {},
     "output_type": "execute_result"
    }
   ],
   "source": [
    "comments_month = comments.count()\n",
    "print('Total comments from month: {}'.format(comments_month))\n",
    "\n",
    "comments.find_one()"
   ]
  },
  {
   "cell_type": "code",
   "execution_count": 5,
   "metadata": {
    "scrolled": true
   },
   "outputs": [
    {
     "name": "stdout",
     "output_type": "stream",
     "text": [
      "{'_id': ObjectId('5e505081129d2eb1218c93ae'),\n",
      " 'archived': True,\n",
      " 'author': 'chaon93',\n",
      " 'author_flair_css_class': None,\n",
      " 'author_flair_text': None,\n",
      " 'body': 'a baton is more likely to kill someone than a taser',\n",
      " 'controversiality': 0,\n",
      " 'created_utc': '1312156800',\n",
      " 'distinguished': None,\n",
      " 'downs': 0,\n",
      " 'edited': False,\n",
      " 'gilded': 0,\n",
      " 'id': 'c298mti',\n",
      " 'link_id': 't3_j4sdr',\n",
      " 'name': 't1_c298mti',\n",
      " 'parent_id': 't1_c295rb2',\n",
      " 'retrieved_on': 1427415708,\n",
      " 'score': 1,\n",
      " 'score_hidden': False,\n",
      " 'subreddit': 'politics',\n",
      " 'subreddit_id': 't5_2cneq',\n",
      " 'ups': 1}\n",
      "{'_id': ObjectId('5e505081129d2eb1218c93fb'),\n",
      " 'archived': True,\n",
      " 'author': '[deleted]',\n",
      " 'author_flair_css_class': None,\n",
      " 'author_flair_text': None,\n",
      " 'body': '[deleted]',\n",
      " 'controversiality': 0,\n",
      " 'created_utc': '1312156818',\n",
      " 'distinguished': None,\n",
      " 'downs': 0,\n",
      " 'edited': False,\n",
      " 'gilded': 0,\n",
      " 'id': 'c298mvo',\n",
      " 'link_id': 't3_j4zxt',\n",
      " 'name': 't1_c298mvo',\n",
      " 'parent_id': 't3_j4zxt',\n",
      " 'retrieved_on': 1428197302,\n",
      " 'score': -3,\n",
      " 'score_hidden': False,\n",
      " 'subreddit': 'politics',\n",
      " 'subreddit_id': 't5_2cneq',\n",
      " 'ups': -3}\n",
      "{'_id': ObjectId('5e505081129d2eb1218c9411'),\n",
      " 'archived': True,\n",
      " 'author': 'sharked',\n",
      " 'author_flair_css_class': None,\n",
      " 'author_flair_text': None,\n",
      " 'body': 'I do however, believe that America is falling behind in education '\n",
      "         'because there is a large disparity in incomes.  ',\n",
      " 'controversiality': 0,\n",
      " 'created_utc': '1312156823',\n",
      " 'distinguished': None,\n",
      " 'downs': 0,\n",
      " 'edited': False,\n",
      " 'gilded': 0,\n",
      " 'id': 'c298mwc',\n",
      " 'link_id': 't3_j4vrb',\n",
      " 'name': 't1_c298mwc',\n",
      " 'parent_id': 't1_c29790m',\n",
      " 'retrieved_on': 1428197302,\n",
      " 'score': 1,\n",
      " 'score_hidden': False,\n",
      " 'subreddit': 'politics',\n",
      " 'subreddit_id': 't5_2cneq',\n",
      " 'ups': 1}\n"
     ]
    }
   ],
   "source": [
    "pol1 = comments.find({'subreddit': 'politics'}).limit(3)\n",
    "# print(pol1.next())\n",
    "for i in pol1:\n",
    "    pprint.pprint(i)"
   ]
  },
  {
   "cell_type": "code",
   "execution_count": 33,
   "metadata": {},
   "outputs": [],
   "source": [
    "# base_url = 'https://www.reddit.com/'\n",
    "# data = {'grant_type': 'password', 'username': 'some_username', 'password': pw}\n",
    "# auth = requests.auth.HTTPBasicAuth(APP_ID, APP_SECRET)\n",
    "# r = requests.post(base_url + 'api/v1/access_token',\n",
    "#                   data=data,\n",
    "#                   headers={'user-agent': 'APP-NAME by REDDIT-USERNAME'},\n",
    "#                   auth=auth)\n",
    "# d = r.json()\n",
    "# print(d)"
   ]
  },
  {
   "cell_type": "code",
   "execution_count": 23,
   "metadata": {},
   "outputs": [],
   "source": [
    "# token = 'bearer ' + d['access_token']\n",
    "\n",
    "# base_url = 'https://oauth.reddit.com'\n",
    "\n",
    "# headers = {'Authorization': token, 'User-Agent': 'APP-NAME by REDDIT-USERNAME', 'id': 'dm6zumf'}\n",
    "# response = requests.get(base_url + '/api/v1/me', headers=headers)\n",
    "\n",
    "# if response.status_code == 200:\n",
    "#     print(response.json()['name'], response.json()['comment_karma'])"
   ]
  },
  {
   "cell_type": "code",
   "execution_count": 22,
   "metadata": {},
   "outputs": [
    {
     "name": "stderr",
     "output_type": "stream",
     "text": [
      "/home/ubuntu/anaconda3/lib/python3.7/site-packages/ipykernel_launcher.py:8: DeprecationWarning: count is deprecated. Use Collection.count_documents instead.\n",
      "  \n"
     ]
    },
    {
     "data": {
      "text/plain": [
       "128764"
      ]
     },
     "execution_count": 22,
     "metadata": {},
     "output_type": "execute_result"
    }
   ],
   "source": [
    "cursor = comments.find({'subreddit': \n",
    "                            {'$in': ['politics', 'sports', 'worldnews', 'The_Donald']}, \n",
    "                        '$expr': \n",
    "                            {'$eq': ['$link_id', '$parent_id']}}, \n",
    "                       {'_id': 1, 'author': 1, 'body': 1, 'created_utc': 1, 'id': 1, 'link_id': 1, \n",
    "                            'parent_id': 1, 'score': 1, 'subreddit': 1})\n",
    "\n",
    "cursor.count()\n",
    "# for c in cursor:\n",
    "#     pprint.pprint(c)\n",
    "# #     mycomments.insert_one(c)"
   ]
  },
  {
   "cell_type": "code",
   "execution_count": 46,
   "metadata": {
    "scrolled": true
   },
   "outputs": [
    {
     "name": "stdout",
     "output_type": "stream",
     "text": [
      "{'title': '[PRAW] Getting multiple submissions using by_id', 'datetime': 1549610404.0, 'score': 2, 'is_self': True, 'sub': 'redditdev', 'permalink': '/r/redditdev/comments/aoe4pk/praw_getting_multiple_submissions_using_by_id/'}\n"
     ]
    }
   ],
   "source": [
    "reddit = praw.Reddit(client_id=APP_ID,\n",
    "                     client_secret=APP_SECRET,\n",
    "                     user_agent='script:my.project:v1.0.0 (by /u/Someone')\n",
    "\n",
    "ids = ['aoe4pk']\n",
    "ids2 = [i if i.startswith('t3_') else f't3_{i}' for i in ids]\n",
    "\n",
    "for submission in reddit.info(ids2):\n",
    "    d = {'title': submission.title, 'datetime': submission.created_utc, 'score': submission.score, 'is_self': submission.is_self,\n",
    "         'sub': submission.subreddit.display_name, 'permalink': submission.permalink}\n",
    "    print(d)"
   ]
  },
  {
   "cell_type": "code",
   "execution_count": 46,
   "metadata": {},
   "outputs": [
    {
     "name": "stdout",
     "output_type": "stream",
     "text": [
      "{'data': {'after': None,\n",
      "          'before': None,\n",
      "          'children': [{'data': {'all_awardings': [],\n",
      "                                 'allow_live_comments': False,\n",
      "                                 'approved_at_utc': None,\n",
      "                                 'approved_by': None,\n",
      "                                 'archived': True,\n",
      "                                 'author': 'taylorkline',\n",
      "                                 'author_flair_background_color': '',\n",
      "                                 'author_flair_css_class': None,\n",
      "                                 'author_flair_richtext': [],\n",
      "                                 'author_flair_template_id': None,\n",
      "                                 'author_flair_text': 'Bot Developer',\n",
      "                                 'author_flair_text_color': 'dark',\n",
      "                                 'author_flair_type': 'text',\n",
      "                                 'author_fullname': 't2_13jrwt',\n",
      "                                 'author_patreon_flair': False,\n",
      "                                 'author_premium': False,\n",
      "                                 'awarders': [],\n",
      "                                 'banned_at_utc': None,\n",
      "                                 'banned_by': None,\n",
      "                                 'can_gild': True,\n",
      "                                 'can_mod_post': False,\n",
      "                                 'category': None,\n",
      "                                 'clicked': False,\n",
      "                                 'content_categories': None,\n",
      "                                 'contest_mode': False,\n",
      "                                 'created': 1503882911.0,\n",
      "                                 'created_utc': 1503854111.0,\n",
      "                                 'discussion_type': None,\n",
      "                                 'distinguished': None,\n",
      "                                 'domain': 'self.redditdev',\n",
      "                                 'downs': 0,\n",
      "                                 'edited': False,\n",
      "                                 'gilded': 0,\n",
      "                                 'gildings': {},\n",
      "                                 'hidden': False,\n",
      "                                 'hide_score': False,\n",
      "                                 'id': '6wddne',\n",
      "                                 'is_crosspostable': True,\n",
      "                                 'is_meta': False,\n",
      "                                 'is_original_content': False,\n",
      "                                 'is_reddit_media_domain': False,\n",
      "                                 'is_robot_indexable': True,\n",
      "                                 'is_self': True,\n",
      "                                 'is_video': False,\n",
      "                                 'likes': None,\n",
      "                                 'link_flair_background_color': '',\n",
      "                                 'link_flair_css_class': '',\n",
      "                                 'link_flair_richtext': [],\n",
      "                                 'link_flair_text': 'Reddit API',\n",
      "                                 'link_flair_text_color': 'dark',\n",
      "                                 'link_flair_type': 'text',\n",
      "                                 'locked': False,\n",
      "                                 'media': None,\n",
      "                                 'media_embed': {},\n",
      "                                 'media_only': False,\n",
      "                                 'mod_note': None,\n",
      "                                 'mod_reason_by': None,\n",
      "                                 'mod_reason_title': None,\n",
      "                                 'mod_reports': [],\n",
      "                                 'name': 't3_6wddne',\n",
      "                                 'no_follow': False,\n",
      "                                 'num_comments': 6,\n",
      "                                 'num_crossposts': 0,\n",
      "                                 'num_reports': None,\n",
      "                                 'over_18': False,\n",
      "                                 'parent_whitelist_status': 'all_ads',\n",
      "                                 'permalink': '/r/redditdev/comments/6wddne/accessing_a_submission_or_comment_by_id_only/',\n",
      "                                 'pinned': False,\n",
      "                                 'pwls': 6,\n",
      "                                 'quarantine': False,\n",
      "                                 'removal_reason': None,\n",
      "                                 'removed_by': None,\n",
      "                                 'removed_by_category': None,\n",
      "                                 'report_reasons': None,\n",
      "                                 'saved': False,\n",
      "                                 'score': 5,\n",
      "                                 'secure_media': None,\n",
      "                                 'secure_media_embed': {},\n",
      "                                 'selftext': 'If you *only* have an ID for a '\n",
      "                                             'comment or a submission, is '\n",
      "                                             'there a way to view this on '\n",
      "                                             'Reddit web?',\n",
      "                                 'selftext_html': '&lt;!-- SC_OFF '\n",
      "                                                  '--&gt;&lt;div '\n",
      "                                                  'class=\"md\"&gt;&lt;p&gt;If '\n",
      "                                                  'you '\n",
      "                                                  '&lt;em&gt;only&lt;/em&gt; '\n",
      "                                                  'have an ID for a comment or '\n",
      "                                                  'a submission, is there a '\n",
      "                                                  'way to view this on Reddit '\n",
      "                                                  'web?&lt;/p&gt;\\n'\n",
      "                                                  '&lt;/div&gt;&lt;!-- SC_ON '\n",
      "                                                  '--&gt;',\n",
      "                                 'send_replies': True,\n",
      "                                 'spoiler': False,\n",
      "                                 'stickied': False,\n",
      "                                 'subreddit': 'redditdev',\n",
      "                                 'subreddit_id': 't5_2qizd',\n",
      "                                 'subreddit_name_prefixed': 'r/redditdev',\n",
      "                                 'subreddit_subscribers': 30989,\n",
      "                                 'subreddit_type': 'public',\n",
      "                                 'suggested_sort': None,\n",
      "                                 'thumbnail': 'self',\n",
      "                                 'thumbnail_height': None,\n",
      "                                 'thumbnail_width': None,\n",
      "                                 'title': 'Accessing a submission or comment '\n",
      "                                          'by ID only?',\n",
      "                                 'total_awards_received': 0,\n",
      "                                 'ups': 5,\n",
      "                                 'url': 'https://www.reddit.com/r/redditdev/comments/6wddne/accessing_a_submission_or_comment_by_id_only/',\n",
      "                                 'user_reports': [],\n",
      "                                 'view_count': None,\n",
      "                                 'visited': False,\n",
      "                                 'whitelist_status': 'all_ads',\n",
      "                                 'wls': 6},\n",
      "                        'kind': 't3'}],\n",
      "          'dist': 1,\n",
      "          'modhash': None},\n",
      " 'kind': 'Listing'}\n"
     ]
    }
   ],
   "source": [
    "response = requests.get(base_url + '/api/info.json?id=t3_6wddne', headers=headers)\n",
    "pprint.pprint(response.json())"
   ]
  },
  {
   "cell_type": "code",
   "execution_count": null,
   "metadata": {},
   "outputs": [],
   "source": []
  }
 ],
 "metadata": {
  "kernelspec": {
   "display_name": "Python 3",
   "language": "python",
   "name": "python3"
  },
  "language_info": {
   "codemirror_mode": {
    "name": "ipython",
    "version": 3
   },
   "file_extension": ".py",
   "mimetype": "text/x-python",
   "name": "python",
   "nbconvert_exporter": "python",
   "pygments_lexer": "ipython3",
   "version": "3.7.4"
  }
 },
 "nbformat": 4,
 "nbformat_minor": 2
}
