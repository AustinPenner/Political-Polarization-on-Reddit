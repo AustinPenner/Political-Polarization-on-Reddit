{
 "cells": [
  {
   "cell_type": "code",
   "execution_count": 16,
   "metadata": {},
   "outputs": [],
   "source": [
    "import numpy as np\n",
    "import pandas as pd\n",
    "import matplotlib.pyplot as plt\n",
    "from pymongo import MongoClient\n",
    "import json\n",
    "import praw\n",
    "\n",
    "import pprint\n",
    "import bs4 as bs\n",
    "import urllib.request\n",
    "import bz2,shutil\n",
    "\n",
    "import boto3\n",
    "import os\n",
    "import time\n",
    "import subprocess"
   ]
  },
  {
   "cell_type": "code",
   "execution_count": 36,
   "metadata": {
    "scrolled": true
   },
   "outputs": [
    {
     "data": {
      "text/html": [
       "<div>\n",
       "<style scoped>\n",
       "    .dataframe tbody tr th:only-of-type {\n",
       "        vertical-align: middle;\n",
       "    }\n",
       "\n",
       "    .dataframe tbody tr th {\n",
       "        vertical-align: top;\n",
       "    }\n",
       "\n",
       "    .dataframe thead th {\n",
       "        text-align: right;\n",
       "    }\n",
       "</style>\n",
       "<table border=\"1\" class=\"dataframe\">\n",
       "  <thead>\n",
       "    <tr style=\"text-align: right;\">\n",
       "      <th></th>\n",
       "      <th>month</th>\n",
       "      <th>link</th>\n",
       "      <th>downloaded</th>\n",
       "      <th>size_in_bytes</th>\n",
       "      <th>comment_count</th>\n",
       "    </tr>\n",
       "  </thead>\n",
       "  <tbody>\n",
       "    <tr>\n",
       "      <td>0</td>\n",
       "      <td>2005-12</td>\n",
       "      <td>https://files.pushshift.io/reddit/comments/RC_...</td>\n",
       "      <td>False</td>\n",
       "      <td>0</td>\n",
       "      <td>0</td>\n",
       "    </tr>\n",
       "    <tr>\n",
       "      <td>1</td>\n",
       "      <td>2006-01</td>\n",
       "      <td>https://files.pushshift.io/reddit/comments/RC_...</td>\n",
       "      <td>False</td>\n",
       "      <td>0</td>\n",
       "      <td>0</td>\n",
       "    </tr>\n",
       "    <tr>\n",
       "      <td>2</td>\n",
       "      <td>2006-02</td>\n",
       "      <td>https://files.pushshift.io/reddit/comments/RC_...</td>\n",
       "      <td>False</td>\n",
       "      <td>0</td>\n",
       "      <td>0</td>\n",
       "    </tr>\n",
       "    <tr>\n",
       "      <td>3</td>\n",
       "      <td>2006-03</td>\n",
       "      <td>https://files.pushshift.io/reddit/comments/RC_...</td>\n",
       "      <td>False</td>\n",
       "      <td>0</td>\n",
       "      <td>0</td>\n",
       "    </tr>\n",
       "    <tr>\n",
       "      <td>4</td>\n",
       "      <td>2006-04</td>\n",
       "      <td>https://files.pushshift.io/reddit/comments/RC_...</td>\n",
       "      <td>False</td>\n",
       "      <td>0</td>\n",
       "      <td>0</td>\n",
       "    </tr>\n",
       "    <tr>\n",
       "      <td>5</td>\n",
       "      <td>2006-05</td>\n",
       "      <td>https://files.pushshift.io/reddit/comments/RC_...</td>\n",
       "      <td>False</td>\n",
       "      <td>0</td>\n",
       "      <td>0</td>\n",
       "    </tr>\n",
       "    <tr>\n",
       "      <td>6</td>\n",
       "      <td>2006-06</td>\n",
       "      <td>https://files.pushshift.io/reddit/comments/RC_...</td>\n",
       "      <td>False</td>\n",
       "      <td>0</td>\n",
       "      <td>0</td>\n",
       "    </tr>\n",
       "    <tr>\n",
       "      <td>7</td>\n",
       "      <td>2006-07</td>\n",
       "      <td>https://files.pushshift.io/reddit/comments/RC_...</td>\n",
       "      <td>False</td>\n",
       "      <td>0</td>\n",
       "      <td>0</td>\n",
       "    </tr>\n",
       "    <tr>\n",
       "      <td>8</td>\n",
       "      <td>2006-08</td>\n",
       "      <td>https://files.pushshift.io/reddit/comments/RC_...</td>\n",
       "      <td>False</td>\n",
       "      <td>0</td>\n",
       "      <td>0</td>\n",
       "    </tr>\n",
       "    <tr>\n",
       "      <td>9</td>\n",
       "      <td>2006-09</td>\n",
       "      <td>https://files.pushshift.io/reddit/comments/RC_...</td>\n",
       "      <td>False</td>\n",
       "      <td>0</td>\n",
       "      <td>0</td>\n",
       "    </tr>\n",
       "    <tr>\n",
       "      <td>10</td>\n",
       "      <td>2006-10</td>\n",
       "      <td>https://files.pushshift.io/reddit/comments/RC_...</td>\n",
       "      <td>False</td>\n",
       "      <td>0</td>\n",
       "      <td>0</td>\n",
       "    </tr>\n",
       "    <tr>\n",
       "      <td>11</td>\n",
       "      <td>2006-11</td>\n",
       "      <td>https://files.pushshift.io/reddit/comments/RC_...</td>\n",
       "      <td>False</td>\n",
       "      <td>0</td>\n",
       "      <td>0</td>\n",
       "    </tr>\n",
       "    <tr>\n",
       "      <td>12</td>\n",
       "      <td>2006-12</td>\n",
       "      <td>https://files.pushshift.io/reddit/comments/RC_...</td>\n",
       "      <td>False</td>\n",
       "      <td>0</td>\n",
       "      <td>0</td>\n",
       "    </tr>\n",
       "    <tr>\n",
       "      <td>13</td>\n",
       "      <td>2007-01</td>\n",
       "      <td>https://files.pushshift.io/reddit/comments/RC_...</td>\n",
       "      <td>False</td>\n",
       "      <td>0</td>\n",
       "      <td>0</td>\n",
       "    </tr>\n",
       "    <tr>\n",
       "      <td>14</td>\n",
       "      <td>2007-02</td>\n",
       "      <td>https://files.pushshift.io/reddit/comments/RC_...</td>\n",
       "      <td>False</td>\n",
       "      <td>0</td>\n",
       "      <td>0</td>\n",
       "    </tr>\n",
       "  </tbody>\n",
       "</table>\n",
       "</div>"
      ],
      "text/plain": [
       "      month                                               link  downloaded  \\\n",
       "0   2005-12  https://files.pushshift.io/reddit/comments/RC_...       False   \n",
       "1   2006-01  https://files.pushshift.io/reddit/comments/RC_...       False   \n",
       "2   2006-02  https://files.pushshift.io/reddit/comments/RC_...       False   \n",
       "3   2006-03  https://files.pushshift.io/reddit/comments/RC_...       False   \n",
       "4   2006-04  https://files.pushshift.io/reddit/comments/RC_...       False   \n",
       "5   2006-05  https://files.pushshift.io/reddit/comments/RC_...       False   \n",
       "6   2006-06  https://files.pushshift.io/reddit/comments/RC_...       False   \n",
       "7   2006-07  https://files.pushshift.io/reddit/comments/RC_...       False   \n",
       "8   2006-08  https://files.pushshift.io/reddit/comments/RC_...       False   \n",
       "9   2006-09  https://files.pushshift.io/reddit/comments/RC_...       False   \n",
       "10  2006-10  https://files.pushshift.io/reddit/comments/RC_...       False   \n",
       "11  2006-11  https://files.pushshift.io/reddit/comments/RC_...       False   \n",
       "12  2006-12  https://files.pushshift.io/reddit/comments/RC_...       False   \n",
       "13  2007-01  https://files.pushshift.io/reddit/comments/RC_...       False   \n",
       "14  2007-02  https://files.pushshift.io/reddit/comments/RC_...       False   \n",
       "\n",
       "    size_in_bytes  comment_count  \n",
       "0               0              0  \n",
       "1               0              0  \n",
       "2               0              0  \n",
       "3               0              0  \n",
       "4               0              0  \n",
       "5               0              0  \n",
       "6               0              0  \n",
       "7               0              0  \n",
       "8               0              0  \n",
       "9               0              0  \n",
       "10              0              0  \n",
       "11              0              0  \n",
       "12              0              0  \n",
       "13              0              0  \n",
       "14              0              0  "
      ]
     },
     "execution_count": 36,
     "metadata": {},
     "output_type": "execute_result"
    }
   ],
   "source": [
    "# Retrieve download links\n",
    "\n",
    "links_df = pd.read_csv('comment_files/links_dataframe.csv')\n",
    "links_df.head(15)"
   ]
  },
  {
   "cell_type": "code",
   "execution_count": 41,
   "metadata": {
    "scrolled": true
   },
   "outputs": [
    {
     "name": "stdout",
     "output_type": "stream",
     "text": [
      "Reddit comments month: 2008-04\n",
      "Downloading file...\n",
      "Extracting file...\n",
      "Removing file...\n",
      "Loading to mongodb...\n"
     ]
    },
    {
     "name": "stderr",
     "output_type": "stream",
     "text": [
      "/home/ubuntu/anaconda3/lib/python3.7/site-packages/ipykernel_launcher.py:6: DeprecationWarning: count is deprecated. Use estimated_document_count or count_documents instead. Please note that $where must be replaced by $expr, $near must be replaced by $geoWithin with $center, and $nearSphere must be replaced by $geoWithin with $centerSphere\n",
      "  \n"
     ]
    },
    {
     "name": "stdout",
     "output_type": "stream",
     "text": [
      "Saving relevant comments...\n"
     ]
    },
    {
     "name": "stderr",
     "output_type": "stream",
     "text": [
      "/home/ubuntu/anaconda3/lib/python3.7/site-packages/ipykernel_launcher.py:22: DeprecationWarning: count is deprecated. Use estimated_document_count or count_documents instead. Please note that $where must be replaced by $expr, $near must be replaced by $geoWithin with $center, and $nearSphere must be replaced by $geoWithin with $centerSphere\n"
     ]
    },
    {
     "name": "stdout",
     "output_type": "stream",
     "text": [
      "33657 comments saved.\n",
      "Dropping comments source collection...\n",
      "Done! Time elapsed: 32.40\n",
      "\n",
      "Reddit comments month: 2008-05\n",
      "Downloading file...\n",
      "Extracting file...\n",
      "Removing file...\n",
      "Loading to mongodb...\n"
     ]
    },
    {
     "name": "stderr",
     "output_type": "stream",
     "text": [
      "/home/ubuntu/anaconda3/lib/python3.7/site-packages/ipykernel_launcher.py:6: DeprecationWarning: count is deprecated. Use estimated_document_count or count_documents instead. Please note that $where must be replaced by $expr, $near must be replaced by $geoWithin with $center, and $nearSphere must be replaced by $geoWithin with $centerSphere\n",
      "  \n"
     ]
    },
    {
     "name": "stdout",
     "output_type": "stream",
     "text": [
      "Saving relevant comments...\n"
     ]
    },
    {
     "name": "stderr",
     "output_type": "stream",
     "text": [
      "/home/ubuntu/anaconda3/lib/python3.7/site-packages/ipykernel_launcher.py:22: DeprecationWarning: count is deprecated. Use estimated_document_count or count_documents instead. Please note that $where must be replaced by $expr, $near must be replaced by $geoWithin with $center, and $nearSphere must be replaced by $geoWithin with $centerSphere\n"
     ]
    },
    {
     "name": "stdout",
     "output_type": "stream",
     "text": [
      "38822 comments saved.\n",
      "Dropping comments source collection...\n",
      "Done! Time elapsed: 36.41\n",
      "\n",
      "Reddit comments month: 2008-06\n",
      "Downloading file...\n",
      "Extracting file...\n",
      "Removing file...\n",
      "Loading to mongodb...\n"
     ]
    },
    {
     "name": "stderr",
     "output_type": "stream",
     "text": [
      "/home/ubuntu/anaconda3/lib/python3.7/site-packages/ipykernel_launcher.py:6: DeprecationWarning: count is deprecated. Use estimated_document_count or count_documents instead. Please note that $where must be replaced by $expr, $near must be replaced by $geoWithin with $center, and $nearSphere must be replaced by $geoWithin with $centerSphere\n",
      "  \n"
     ]
    },
    {
     "name": "stdout",
     "output_type": "stream",
     "text": [
      "Saving relevant comments...\n"
     ]
    },
    {
     "name": "stderr",
     "output_type": "stream",
     "text": [
      "/home/ubuntu/anaconda3/lib/python3.7/site-packages/ipykernel_launcher.py:22: DeprecationWarning: count is deprecated. Use estimated_document_count or count_documents instead. Please note that $where must be replaced by $expr, $near must be replaced by $geoWithin with $center, and $nearSphere must be replaced by $geoWithin with $centerSphere\n"
     ]
    },
    {
     "name": "stdout",
     "output_type": "stream",
     "text": [
      "40616 comments saved.\n",
      "Dropping comments source collection...\n",
      "Done! Time elapsed: 39.12\n",
      "\n",
      "Reddit comments month: 2008-07\n",
      "Downloading file...\n",
      "Extracting file...\n",
      "Removing file...\n",
      "Loading to mongodb...\n"
     ]
    },
    {
     "name": "stderr",
     "output_type": "stream",
     "text": [
      "/home/ubuntu/anaconda3/lib/python3.7/site-packages/ipykernel_launcher.py:6: DeprecationWarning: count is deprecated. Use estimated_document_count or count_documents instead. Please note that $where must be replaced by $expr, $near must be replaced by $geoWithin with $center, and $nearSphere must be replaced by $geoWithin with $centerSphere\n",
      "  \n"
     ]
    },
    {
     "name": "stdout",
     "output_type": "stream",
     "text": [
      "Saving relevant comments...\n"
     ]
    },
    {
     "name": "stderr",
     "output_type": "stream",
     "text": [
      "/home/ubuntu/anaconda3/lib/python3.7/site-packages/ipykernel_launcher.py:22: DeprecationWarning: count is deprecated. Use estimated_document_count or count_documents instead. Please note that $where must be replaced by $expr, $near must be replaced by $geoWithin with $center, and $nearSphere must be replaced by $geoWithin with $centerSphere\n"
     ]
    },
    {
     "name": "stdout",
     "output_type": "stream",
     "text": [
      "39727 comments saved.\n",
      "Dropping comments source collection...\n",
      "Done! Time elapsed: 39.61\n",
      "\n",
      "Reddit comments month: 2008-08\n",
      "Downloading file...\n",
      "Extracting file...\n",
      "Removing file...\n",
      "Loading to mongodb...\n"
     ]
    },
    {
     "name": "stderr",
     "output_type": "stream",
     "text": [
      "/home/ubuntu/anaconda3/lib/python3.7/site-packages/ipykernel_launcher.py:6: DeprecationWarning: count is deprecated. Use estimated_document_count or count_documents instead. Please note that $where must be replaced by $expr, $near must be replaced by $geoWithin with $center, and $nearSphere must be replaced by $geoWithin with $centerSphere\n",
      "  \n"
     ]
    },
    {
     "name": "stdout",
     "output_type": "stream",
     "text": [
      "Saving relevant comments...\n"
     ]
    },
    {
     "name": "stderr",
     "output_type": "stream",
     "text": [
      "/home/ubuntu/anaconda3/lib/python3.7/site-packages/ipykernel_launcher.py:22: DeprecationWarning: count is deprecated. Use estimated_document_count or count_documents instead. Please note that $where must be replaced by $expr, $near must be replaced by $geoWithin with $center, and $nearSphere must be replaced by $geoWithin with $centerSphere\n"
     ]
    },
    {
     "name": "stdout",
     "output_type": "stream",
     "text": [
      "43133 comments saved.\n",
      "Dropping comments source collection...\n",
      "Done! Time elapsed: 40.51\n",
      "\n",
      "Reddit comments month: 2008-09\n",
      "Downloading file...\n",
      "Extracting file...\n",
      "Removing file...\n",
      "Loading to mongodb...\n"
     ]
    },
    {
     "name": "stderr",
     "output_type": "stream",
     "text": [
      "/home/ubuntu/anaconda3/lib/python3.7/site-packages/ipykernel_launcher.py:6: DeprecationWarning: count is deprecated. Use estimated_document_count or count_documents instead. Please note that $where must be replaced by $expr, $near must be replaced by $geoWithin with $center, and $nearSphere must be replaced by $geoWithin with $centerSphere\n",
      "  \n"
     ]
    },
    {
     "name": "stdout",
     "output_type": "stream",
     "text": [
      "Saving relevant comments...\n"
     ]
    },
    {
     "name": "stderr",
     "output_type": "stream",
     "text": [
      "/home/ubuntu/anaconda3/lib/python3.7/site-packages/ipykernel_launcher.py:22: DeprecationWarning: count is deprecated. Use estimated_document_count or count_documents instead. Please note that $where must be replaced by $expr, $near must be replaced by $geoWithin with $center, and $nearSphere must be replaced by $geoWithin with $centerSphere\n"
     ]
    },
    {
     "name": "stdout",
     "output_type": "stream",
     "text": [
      "64734 comments saved.\n",
      "Dropping comments source collection...\n",
      "Done! Time elapsed: 49.90\n",
      "\n",
      "Reddit comments month: 2008-10\n",
      "Downloading file...\n",
      "Extracting file...\n",
      "Removing file...\n",
      "Loading to mongodb...\n"
     ]
    },
    {
     "name": "stderr",
     "output_type": "stream",
     "text": [
      "/home/ubuntu/anaconda3/lib/python3.7/site-packages/ipykernel_launcher.py:6: DeprecationWarning: count is deprecated. Use estimated_document_count or count_documents instead. Please note that $where must be replaced by $expr, $near must be replaced by $geoWithin with $center, and $nearSphere must be replaced by $geoWithin with $centerSphere\n",
      "  \n"
     ]
    },
    {
     "name": "stdout",
     "output_type": "stream",
     "text": [
      "Saving relevant comments...\n"
     ]
    },
    {
     "name": "stderr",
     "output_type": "stream",
     "text": [
      "/home/ubuntu/anaconda3/lib/python3.7/site-packages/ipykernel_launcher.py:22: DeprecationWarning: count is deprecated. Use estimated_document_count or count_documents instead. Please note that $where must be replaced by $expr, $near must be replaced by $geoWithin with $center, and $nearSphere must be replaced by $geoWithin with $centerSphere\n"
     ]
    },
    {
     "name": "stdout",
     "output_type": "stream",
     "text": [
      "75854 comments saved.\n",
      "Dropping comments source collection...\n",
      "Done! Time elapsed: 57.48\n",
      "\n",
      "Reddit comments month: 2008-11\n",
      "Downloading file...\n",
      "Extracting file...\n",
      "Removing file...\n",
      "Loading to mongodb...\n"
     ]
    },
    {
     "name": "stderr",
     "output_type": "stream",
     "text": [
      "/home/ubuntu/anaconda3/lib/python3.7/site-packages/ipykernel_launcher.py:6: DeprecationWarning: count is deprecated. Use estimated_document_count or count_documents instead. Please note that $where must be replaced by $expr, $near must be replaced by $geoWithin with $center, and $nearSphere must be replaced by $geoWithin with $centerSphere\n",
      "  \n"
     ]
    },
    {
     "name": "stdout",
     "output_type": "stream",
     "text": [
      "Saving relevant comments...\n"
     ]
    },
    {
     "name": "stderr",
     "output_type": "stream",
     "text": [
      "/home/ubuntu/anaconda3/lib/python3.7/site-packages/ipykernel_launcher.py:22: DeprecationWarning: count is deprecated. Use estimated_document_count or count_documents instead. Please note that $where must be replaced by $expr, $near must be replaced by $geoWithin with $center, and $nearSphere must be replaced by $geoWithin with $centerSphere\n"
     ]
    },
    {
     "name": "stdout",
     "output_type": "stream",
     "text": [
      "58437 comments saved.\n",
      "Dropping comments source collection...\n",
      "Done! Time elapsed: 53.10\n",
      "\n",
      "Reddit comments month: 2008-12\n",
      "Downloading file...\n",
      "Extracting file...\n",
      "Removing file...\n",
      "Loading to mongodb...\n"
     ]
    },
    {
     "name": "stderr",
     "output_type": "stream",
     "text": [
      "/home/ubuntu/anaconda3/lib/python3.7/site-packages/ipykernel_launcher.py:6: DeprecationWarning: count is deprecated. Use estimated_document_count or count_documents instead. Please note that $where must be replaced by $expr, $near must be replaced by $geoWithin with $center, and $nearSphere must be replaced by $geoWithin with $centerSphere\n",
      "  \n"
     ]
    },
    {
     "name": "stdout",
     "output_type": "stream",
     "text": [
      "Saving relevant comments...\n"
     ]
    },
    {
     "name": "stderr",
     "output_type": "stream",
     "text": [
      "/home/ubuntu/anaconda3/lib/python3.7/site-packages/ipykernel_launcher.py:22: DeprecationWarning: count is deprecated. Use estimated_document_count or count_documents instead. Please note that $where must be replaced by $expr, $near must be replaced by $geoWithin with $center, and $nearSphere must be replaced by $geoWithin with $centerSphere\n"
     ]
    },
    {
     "name": "stdout",
     "output_type": "stream",
     "text": [
      "38986 comments saved.\n",
      "Dropping comments source collection...\n",
      "Done! Time elapsed: 51.94\n",
      "\n",
      "Reddit comments month: 2009-01\n",
      "Downloading file...\n",
      "Extracting file...\n",
      "Removing file...\n",
      "Loading to mongodb...\n"
     ]
    },
    {
     "name": "stderr",
     "output_type": "stream",
     "text": [
      "/home/ubuntu/anaconda3/lib/python3.7/site-packages/ipykernel_launcher.py:6: DeprecationWarning: count is deprecated. Use estimated_document_count or count_documents instead. Please note that $where must be replaced by $expr, $near must be replaced by $geoWithin with $center, and $nearSphere must be replaced by $geoWithin with $centerSphere\n",
      "  \n"
     ]
    },
    {
     "name": "stdout",
     "output_type": "stream",
     "text": [
      "Saving relevant comments...\n"
     ]
    },
    {
     "name": "stderr",
     "output_type": "stream",
     "text": [
      "/home/ubuntu/anaconda3/lib/python3.7/site-packages/ipykernel_launcher.py:22: DeprecationWarning: count is deprecated. Use estimated_document_count or count_documents instead. Please note that $where must be replaced by $expr, $near must be replaced by $geoWithin with $center, and $nearSphere must be replaced by $geoWithin with $centerSphere\n"
     ]
    },
    {
     "name": "stdout",
     "output_type": "stream",
     "text": [
      "54797 comments saved.\n",
      "Dropping comments source collection...\n",
      "Done! Time elapsed: 65.84\n",
      "\n",
      "Reddit comments month: 2009-02\n",
      "Downloading file...\n",
      "Extracting file...\n",
      "Removing file...\n",
      "Loading to mongodb...\n"
     ]
    },
    {
     "name": "stderr",
     "output_type": "stream",
     "text": [
      "/home/ubuntu/anaconda3/lib/python3.7/site-packages/ipykernel_launcher.py:6: DeprecationWarning: count is deprecated. Use estimated_document_count or count_documents instead. Please note that $where must be replaced by $expr, $near must be replaced by $geoWithin with $center, and $nearSphere must be replaced by $geoWithin with $centerSphere\n",
      "  \n"
     ]
    },
    {
     "name": "stdout",
     "output_type": "stream",
     "text": [
      "Saving relevant comments...\n"
     ]
    },
    {
     "name": "stderr",
     "output_type": "stream",
     "text": [
      "/home/ubuntu/anaconda3/lib/python3.7/site-packages/ipykernel_launcher.py:22: DeprecationWarning: count is deprecated. Use estimated_document_count or count_documents instead. Please note that $where must be replaced by $expr, $near must be replaced by $geoWithin with $center, and $nearSphere must be replaced by $geoWithin with $centerSphere\n"
     ]
    },
    {
     "name": "stdout",
     "output_type": "stream",
     "text": [
      "44438 comments saved.\n",
      "Dropping comments source collection...\n",
      "Done! Time elapsed: 58.42\n",
      "\n",
      "Reddit comments month: 2009-03\n",
      "Downloading file...\n",
      "Extracting file...\n",
      "Removing file...\n",
      "Loading to mongodb...\n"
     ]
    },
    {
     "name": "stderr",
     "output_type": "stream",
     "text": [
      "/home/ubuntu/anaconda3/lib/python3.7/site-packages/ipykernel_launcher.py:6: DeprecationWarning: count is deprecated. Use estimated_document_count or count_documents instead. Please note that $where must be replaced by $expr, $near must be replaced by $geoWithin with $center, and $nearSphere must be replaced by $geoWithin with $centerSphere\n",
      "  \n"
     ]
    },
    {
     "name": "stdout",
     "output_type": "stream",
     "text": [
      "Saving relevant comments...\n"
     ]
    },
    {
     "name": "stderr",
     "output_type": "stream",
     "text": [
      "/home/ubuntu/anaconda3/lib/python3.7/site-packages/ipykernel_launcher.py:22: DeprecationWarning: count is deprecated. Use estimated_document_count or count_documents instead. Please note that $where must be replaced by $expr, $near must be replaced by $geoWithin with $center, and $nearSphere must be replaced by $geoWithin with $centerSphere\n"
     ]
    },
    {
     "name": "stdout",
     "output_type": "stream",
     "text": [
      "47157 comments saved.\n",
      "Dropping comments source collection...\n",
      "Done! Time elapsed: 64.54\n",
      "\n",
      "Reddit comments month: 2009-04\n",
      "Downloading file...\n",
      "Extracting file...\n",
      "Removing file...\n",
      "Loading to mongodb...\n"
     ]
    },
    {
     "name": "stderr",
     "output_type": "stream",
     "text": [
      "/home/ubuntu/anaconda3/lib/python3.7/site-packages/ipykernel_launcher.py:6: DeprecationWarning: count is deprecated. Use estimated_document_count or count_documents instead. Please note that $where must be replaced by $expr, $near must be replaced by $geoWithin with $center, and $nearSphere must be replaced by $geoWithin with $centerSphere\n",
      "  \n"
     ]
    },
    {
     "name": "stdout",
     "output_type": "stream",
     "text": [
      "Saving relevant comments...\n"
     ]
    },
    {
     "name": "stderr",
     "output_type": "stream",
     "text": [
      "/home/ubuntu/anaconda3/lib/python3.7/site-packages/ipykernel_launcher.py:22: DeprecationWarning: count is deprecated. Use estimated_document_count or count_documents instead. Please note that $where must be replaced by $expr, $near must be replaced by $geoWithin with $center, and $nearSphere must be replaced by $geoWithin with $centerSphere\n"
     ]
    },
    {
     "name": "stdout",
     "output_type": "stream",
     "text": [
      "45700 comments saved.\n",
      "Dropping comments source collection...\n",
      "Done! Time elapsed: 66.78\n",
      "\n",
      "Reddit comments month: 2009-05\n",
      "Downloading file...\n",
      "Extracting file...\n",
      "Removing file...\n",
      "Loading to mongodb...\n"
     ]
    },
    {
     "name": "stderr",
     "output_type": "stream",
     "text": [
      "/home/ubuntu/anaconda3/lib/python3.7/site-packages/ipykernel_launcher.py:6: DeprecationWarning: count is deprecated. Use estimated_document_count or count_documents instead. Please note that $where must be replaced by $expr, $near must be replaced by $geoWithin with $center, and $nearSphere must be replaced by $geoWithin with $centerSphere\n",
      "  \n"
     ]
    },
    {
     "name": "stdout",
     "output_type": "stream",
     "text": [
      "Saving relevant comments...\n"
     ]
    },
    {
     "name": "stderr",
     "output_type": "stream",
     "text": [
      "/home/ubuntu/anaconda3/lib/python3.7/site-packages/ipykernel_launcher.py:22: DeprecationWarning: count is deprecated. Use estimated_document_count or count_documents instead. Please note that $where must be replaced by $expr, $near must be replaced by $geoWithin with $center, and $nearSphere must be replaced by $geoWithin with $centerSphere\n"
     ]
    },
    {
     "name": "stdout",
     "output_type": "stream",
     "text": [
      "44318 comments saved.\n",
      "Dropping comments source collection...\n",
      "Done! Time elapsed: 73.12\n",
      "\n",
      "Reddit comments month: 2009-06\n",
      "Downloading file...\n",
      "Extracting file...\n",
      "Removing file...\n",
      "Loading to mongodb...\n"
     ]
    },
    {
     "name": "stderr",
     "output_type": "stream",
     "text": [
      "/home/ubuntu/anaconda3/lib/python3.7/site-packages/ipykernel_launcher.py:6: DeprecationWarning: count is deprecated. Use estimated_document_count or count_documents instead. Please note that $where must be replaced by $expr, $near must be replaced by $geoWithin with $center, and $nearSphere must be replaced by $geoWithin with $centerSphere\n",
      "  \n"
     ]
    },
    {
     "name": "stdout",
     "output_type": "stream",
     "text": [
      "Saving relevant comments...\n"
     ]
    },
    {
     "name": "stderr",
     "output_type": "stream",
     "text": [
      "/home/ubuntu/anaconda3/lib/python3.7/site-packages/ipykernel_launcher.py:22: DeprecationWarning: count is deprecated. Use estimated_document_count or count_documents instead. Please note that $where must be replaced by $expr, $near must be replaced by $geoWithin with $center, and $nearSphere must be replaced by $geoWithin with $centerSphere\n"
     ]
    },
    {
     "name": "stdout",
     "output_type": "stream",
     "text": [
      "50264 comments saved.\n",
      "Dropping comments source collection...\n",
      "Done! Time elapsed: 77.42\n",
      "\n",
      "Reddit comments month: 2009-07\n",
      "Downloading file...\n",
      "Extracting file...\n",
      "Removing file...\n",
      "Loading to mongodb...\n"
     ]
    },
    {
     "name": "stderr",
     "output_type": "stream",
     "text": [
      "/home/ubuntu/anaconda3/lib/python3.7/site-packages/ipykernel_launcher.py:6: DeprecationWarning: count is deprecated. Use estimated_document_count or count_documents instead. Please note that $where must be replaced by $expr, $near must be replaced by $geoWithin with $center, and $nearSphere must be replaced by $geoWithin with $centerSphere\n",
      "  \n"
     ]
    },
    {
     "name": "stdout",
     "output_type": "stream",
     "text": [
      "Saving relevant comments...\n"
     ]
    },
    {
     "name": "stderr",
     "output_type": "stream",
     "text": [
      "/home/ubuntu/anaconda3/lib/python3.7/site-packages/ipykernel_launcher.py:22: DeprecationWarning: count is deprecated. Use estimated_document_count or count_documents instead. Please note that $where must be replaced by $expr, $near must be replaced by $geoWithin with $center, and $nearSphere must be replaced by $geoWithin with $centerSphere\n"
     ]
    },
    {
     "name": "stdout",
     "output_type": "stream",
     "text": [
      "51657 comments saved.\n",
      "Dropping comments source collection...\n",
      "Done! Time elapsed: 88.42\n",
      "\n",
      "Reddit comments month: 2009-08\n",
      "Downloading file...\n",
      "Extracting file...\n",
      "Removing file...\n",
      "Loading to mongodb...\n"
     ]
    },
    {
     "name": "stderr",
     "output_type": "stream",
     "text": [
      "/home/ubuntu/anaconda3/lib/python3.7/site-packages/ipykernel_launcher.py:6: DeprecationWarning: count is deprecated. Use estimated_document_count or count_documents instead. Please note that $where must be replaced by $expr, $near must be replaced by $geoWithin with $center, and $nearSphere must be replaced by $geoWithin with $centerSphere\n",
      "  \n"
     ]
    },
    {
     "name": "stdout",
     "output_type": "stream",
     "text": [
      "Saving relevant comments...\n"
     ]
    },
    {
     "name": "stderr",
     "output_type": "stream",
     "text": [
      "/home/ubuntu/anaconda3/lib/python3.7/site-packages/ipykernel_launcher.py:22: DeprecationWarning: count is deprecated. Use estimated_document_count or count_documents instead. Please note that $where must be replaced by $expr, $near must be replaced by $geoWithin with $center, and $nearSphere must be replaced by $geoWithin with $centerSphere\n"
     ]
    },
    {
     "name": "stdout",
     "output_type": "stream",
     "text": [
      "60092 comments saved.\n",
      "Dropping comments source collection...\n",
      "Done! Time elapsed: 105.63\n",
      "\n",
      "Reddit comments month: 2009-09\n",
      "Downloading file...\n",
      "Extracting file...\n",
      "Removing file...\n",
      "Loading to mongodb...\n"
     ]
    },
    {
     "name": "stderr",
     "output_type": "stream",
     "text": [
      "/home/ubuntu/anaconda3/lib/python3.7/site-packages/ipykernel_launcher.py:6: DeprecationWarning: count is deprecated. Use estimated_document_count or count_documents instead. Please note that $where must be replaced by $expr, $near must be replaced by $geoWithin with $center, and $nearSphere must be replaced by $geoWithin with $centerSphere\n",
      "  \n"
     ]
    },
    {
     "name": "stdout",
     "output_type": "stream",
     "text": [
      "Saving relevant comments...\n"
     ]
    },
    {
     "name": "stderr",
     "output_type": "stream",
     "text": [
      "/home/ubuntu/anaconda3/lib/python3.7/site-packages/ipykernel_launcher.py:22: DeprecationWarning: count is deprecated. Use estimated_document_count or count_documents instead. Please note that $where must be replaced by $expr, $near must be replaced by $geoWithin with $center, and $nearSphere must be replaced by $geoWithin with $centerSphere\n"
     ]
    },
    {
     "name": "stdout",
     "output_type": "stream",
     "text": [
      "66279 comments saved.\n",
      "Dropping comments source collection...\n",
      "Done! Time elapsed: 119.23\n",
      "\n",
      "Reddit comments month: 2009-10\n",
      "Downloading file...\n",
      "Extracting file...\n",
      "Removing file...\n",
      "Loading to mongodb...\n"
     ]
    },
    {
     "name": "stderr",
     "output_type": "stream",
     "text": [
      "/home/ubuntu/anaconda3/lib/python3.7/site-packages/ipykernel_launcher.py:6: DeprecationWarning: count is deprecated. Use estimated_document_count or count_documents instead. Please note that $where must be replaced by $expr, $near must be replaced by $geoWithin with $center, and $nearSphere must be replaced by $geoWithin with $centerSphere\n",
      "  \n"
     ]
    },
    {
     "name": "stdout",
     "output_type": "stream",
     "text": [
      "Saving relevant comments...\n"
     ]
    },
    {
     "name": "stderr",
     "output_type": "stream",
     "text": [
      "/home/ubuntu/anaconda3/lib/python3.7/site-packages/ipykernel_launcher.py:22: DeprecationWarning: count is deprecated. Use estimated_document_count or count_documents instead. Please note that $where must be replaced by $expr, $near must be replaced by $geoWithin with $center, and $nearSphere must be replaced by $geoWithin with $centerSphere\n"
     ]
    },
    {
     "name": "stdout",
     "output_type": "stream",
     "text": [
      "59790 comments saved.\n",
      "Dropping comments source collection...\n",
      "Done! Time elapsed: 131.45\n",
      "\n",
      "Reddit comments month: 2009-11\n",
      "Downloading file...\n",
      "Extracting file...\n",
      "Removing file...\n",
      "Loading to mongodb...\n"
     ]
    },
    {
     "name": "stderr",
     "output_type": "stream",
     "text": [
      "/home/ubuntu/anaconda3/lib/python3.7/site-packages/ipykernel_launcher.py:6: DeprecationWarning: count is deprecated. Use estimated_document_count or count_documents instead. Please note that $where must be replaced by $expr, $near must be replaced by $geoWithin with $center, and $nearSphere must be replaced by $geoWithin with $centerSphere\n",
      "  \n"
     ]
    },
    {
     "name": "stdout",
     "output_type": "stream",
     "text": [
      "Saving relevant comments...\n"
     ]
    },
    {
     "name": "stderr",
     "output_type": "stream",
     "text": [
      "/home/ubuntu/anaconda3/lib/python3.7/site-packages/ipykernel_launcher.py:22: DeprecationWarning: count is deprecated. Use estimated_document_count or count_documents instead. Please note that $where must be replaced by $expr, $near must be replaced by $geoWithin with $center, and $nearSphere must be replaced by $geoWithin with $centerSphere\n"
     ]
    },
    {
     "name": "stdout",
     "output_type": "stream",
     "text": [
      "58464 comments saved.\n",
      "Dropping comments source collection...\n",
      "Done! Time elapsed: 128.07\n",
      "\n",
      "Reddit comments month: 2009-12\n",
      "Downloading file...\n",
      "Extracting file...\n",
      "Removing file...\n",
      "Loading to mongodb...\n"
     ]
    },
    {
     "name": "stderr",
     "output_type": "stream",
     "text": [
      "/home/ubuntu/anaconda3/lib/python3.7/site-packages/ipykernel_launcher.py:6: DeprecationWarning: count is deprecated. Use estimated_document_count or count_documents instead. Please note that $where must be replaced by $expr, $near must be replaced by $geoWithin with $center, and $nearSphere must be replaced by $geoWithin with $centerSphere\n",
      "  \n"
     ]
    },
    {
     "name": "stdout",
     "output_type": "stream",
     "text": [
      "Saving relevant comments...\n"
     ]
    },
    {
     "name": "stderr",
     "output_type": "stream",
     "text": [
      "/home/ubuntu/anaconda3/lib/python3.7/site-packages/ipykernel_launcher.py:22: DeprecationWarning: count is deprecated. Use estimated_document_count or count_documents instead. Please note that $where must be replaced by $expr, $near must be replaced by $geoWithin with $center, and $nearSphere must be replaced by $geoWithin with $centerSphere\n"
     ]
    },
    {
     "name": "stdout",
     "output_type": "stream",
     "text": [
      "64031 comments saved.\n",
      "Dropping comments source collection...\n",
      "Done! Time elapsed: 147.48\n",
      "\n",
      "Reddit comments month: 2010-01\n",
      "Downloading file...\n",
      "Extracting file...\n",
      "Removing file...\n",
      "Loading to mongodb...\n"
     ]
    },
    {
     "name": "stderr",
     "output_type": "stream",
     "text": [
      "/home/ubuntu/anaconda3/lib/python3.7/site-packages/ipykernel_launcher.py:6: DeprecationWarning: count is deprecated. Use estimated_document_count or count_documents instead. Please note that $where must be replaced by $expr, $near must be replaced by $geoWithin with $center, and $nearSphere must be replaced by $geoWithin with $centerSphere\n",
      "  \n"
     ]
    },
    {
     "name": "stdout",
     "output_type": "stream",
     "text": [
      "Saving relevant comments...\n",
      "72100 comments saved.\n",
      "Dropping comments source collection...\n",
      "Done! Time elapsed: 166.33\n",
      "\n"
     ]
    },
    {
     "name": "stderr",
     "output_type": "stream",
     "text": [
      "/home/ubuntu/anaconda3/lib/python3.7/site-packages/ipykernel_launcher.py:22: DeprecationWarning: count is deprecated. Use estimated_document_count or count_documents instead. Please note that $where must be replaced by $expr, $near must be replaced by $geoWithin with $center, and $nearSphere must be replaced by $geoWithin with $centerSphere\n"
     ]
    }
   ],
   "source": [
    "with open('../keys/reddit_appid.txt') as f:\n",
    "    APP_ID = f.read().rstrip()\n",
    "with open('../keys/reddit_secret.txt') as f:\n",
    "    APP_SECRET = f.read().rstrip()\n",
    "reddit = praw.Reddit(client_id=APP_ID,\n",
    "                     client_secret=APP_SECRET,\n",
    "                     user_agent='script:my.project:v1.0.0 (by /u/Someone')\n",
    "\n",
    "\n",
    "# for idx, row in links_df[links_df['downloaded'] == False].iloc[12:13].iterrows():\n",
    "for idx, row in links_df.iloc[28:50].iterrows():\n",
    "    start = time.time()\n",
    "    month = row['month']\n",
    "    url = row['link']\n",
    "    print('Reddit comments month: {}'.format(month))\n",
    "\n",
    "    filename = url[url.rfind('/') + 1:]\n",
    "    s3_url = 's3://aust-galv-aust-finalcap/' + filename\n",
    "    fp, filesize = download_file(s3_url, s3_bucket='aust-galv-aust-finalcap')\n",
    "    mongoinfo = mongo_import(month, fp)\n",
    "\n",
    "    comment_count = filter_comments(mongoinfo)\n",
    "#     get_posts(reddit, month)\n",
    "    \n",
    "    links_df.iloc[idx, 2] = True\n",
    "    links_df.iloc[idx, 3] = filesize\n",
    "    links_df.iloc[idx, 4] = comment_count\n",
    "    links_df.to_csv('comment_files/links_dataframe.csv', index=False)\n",
    "\n",
    "    print('Done! Time elapsed: {:1.2f}'.format(time.time() - start))\n",
    "    print('')"
   ]
  },
  {
   "cell_type": "code",
   "execution_count": 46,
   "metadata": {},
   "outputs": [],
   "source": [
    "def get_posts(praw_reddit, month):\n",
    "    \"\"\"We need not only comments for these subreddits, but post information as well. This function looks\n",
    "    at all distinct posts ids within a month and pulls the post information from the reddit API using PRAW.\"\"\"\n",
    "\n",
    "    client = MongoClient()\n",
    "    collection_name = 'comments-{}'.format(month)\n",
    "    db = client['myreddit']\n",
    "    comments = db[collection_name]\n",
    "    post_ids = comments.distinct('link_id')\n",
    "    distinct_posts = len(post_ids)\n",
    "    print('There are {} distinct posts for the month'.format(distinct_posts))\n",
    "\n",
    "    collection_name = 'posts-{}'.format(month)\n",
    "    posts = db[collection_name]\n",
    "\n",
    "    praw_generator = praw_reddit.info(post_ids)\n",
    "    print('Getting post data...')\n",
    "    for submission in praw_generator:\n",
    "        d = {'link_id': submission.id, \n",
    "             'title': submission.title, \n",
    "             'score': submission.score, \n",
    "             'is_self': submission.is_self, \n",
    "             'datetime': submission.created_utc, \n",
    "             'sub': submission.subreddit.display_name, \n",
    "             'permalink': submission.permalink}\n",
    "        posts.insert_one(d)\n",
    "    \n",
    "    client.close()"
   ]
  },
  {
   "cell_type": "code",
   "execution_count": 49,
   "metadata": {
    "scrolled": true
   },
   "outputs": [
    {
     "name": "stdout",
     "output_type": "stream",
     "text": [
      "Reddit comments month: 2010-02\n",
      "There are 12209 distinct posts for the month\n",
      "Getting post data...\n",
      "Done! Time elapsed: 86.65\n",
      "\n",
      "Reddit comments month: 2010-03\n",
      "There are 15051 distinct posts for the month\n",
      "Getting post data...\n",
      "Done! Time elapsed: 103.39\n",
      "\n",
      "Reddit comments month: 2010-04\n",
      "There are 13698 distinct posts for the month\n",
      "Getting post data...\n",
      "Done! Time elapsed: 91.68\n",
      "\n",
      "Reddit comments month: 2010-05\n",
      "There are 12330 distinct posts for the month\n",
      "Getting post data...\n",
      "Done! Time elapsed: 83.30\n",
      "\n",
      "Reddit comments month: 2010-06\n",
      "There are 13628 distinct posts for the month\n",
      "Getting post data...\n",
      "Done! Time elapsed: 92.92\n",
      "\n",
      "Reddit comments month: 2010-07\n",
      "There are 12533 distinct posts for the month\n",
      "Getting post data...\n",
      "Done! Time elapsed: 85.91\n",
      "\n",
      "Reddit comments month: 2010-08\n",
      "There are 12609 distinct posts for the month\n",
      "Getting post data...\n",
      "Done! Time elapsed: 90.00\n",
      "\n",
      "Reddit comments month: 2010-09\n",
      "There are 15020 distinct posts for the month\n",
      "Getting post data...\n",
      "Done! Time elapsed: 106.28\n",
      "\n",
      "Reddit comments month: 2010-10\n",
      "There are 15328 distinct posts for the month\n",
      "Getting post data...\n",
      "Done! Time elapsed: 110.73\n",
      "\n",
      "Reddit comments month: 2010-11\n",
      "There are 17672 distinct posts for the month\n",
      "Getting post data...\n",
      "Done! Time elapsed: 126.90\n",
      "\n",
      "Reddit comments month: 2010-12\n",
      "There are 17380 distinct posts for the month\n",
      "Getting post data...\n",
      "Done! Time elapsed: 123.58\n",
      "\n",
      "Reddit comments month: 2011-01\n",
      "There are 19078 distinct posts for the month\n",
      "Getting post data...\n",
      "Done! Time elapsed: 132.65\n",
      "\n",
      "Reddit comments month: 2011-02\n",
      "There are 19228 distinct posts for the month\n",
      "Getting post data...\n",
      "Done! Time elapsed: 132.37\n",
      "\n",
      "Reddit comments month: 2011-03\n",
      "There are 22730 distinct posts for the month\n",
      "Getting post data...\n",
      "Done! Time elapsed: 156.87\n",
      "\n",
      "Reddit comments month: 2011-04\n",
      "There are 18558 distinct posts for the month\n",
      "Getting post data...\n",
      "Done! Time elapsed: 126.87\n",
      "\n",
      "Reddit comments month: 2011-05\n",
      "There are 20189 distinct posts for the month\n",
      "Getting post data...\n",
      "Done! Time elapsed: 141.79\n",
      "\n",
      "Reddit comments month: 2011-06\n",
      "There are 19574 distinct posts for the month\n",
      "Getting post data...\n",
      "Done! Time elapsed: 141.07\n",
      "\n",
      "Reddit comments month: 2011-07\n",
      "There are 19090 distinct posts for the month\n",
      "Getting post data...\n",
      "Done! Time elapsed: 143.59\n",
      "\n",
      "Reddit comments month: 2011-08\n",
      "There are 16462 distinct posts for the month\n",
      "Getting post data...\n",
      "Done! Time elapsed: 124.30\n",
      "\n",
      "Reddit comments month: 2011-09\n",
      "There are 13639 distinct posts for the month\n",
      "Getting post data...\n",
      "Done! Time elapsed: 101.18\n",
      "\n",
      "Reddit comments month: 2011-10\n",
      "There are 19858 distinct posts for the month\n",
      "Getting post data...\n",
      "Done! Time elapsed: 140.85\n",
      "\n",
      "Reddit comments month: 2011-11\n",
      "There are 20353 distinct posts for the month\n",
      "Getting post data...\n",
      "Done! Time elapsed: 145.05\n",
      "\n",
      "Reddit comments month: 2011-12\n",
      "There are 21712 distinct posts for the month\n",
      "Getting post data...\n",
      "Done! Time elapsed: 153.00\n",
      "\n",
      "Reddit comments month: 2012-01\n",
      "There are 26478 distinct posts for the month\n",
      "Getting post data...\n",
      "Done! Time elapsed: 192.62\n",
      "\n",
      "Reddit comments month: 2012-02\n",
      "There are 20829 distinct posts for the month\n",
      "Getting post data...\n",
      "Done! Time elapsed: 155.53\n",
      "\n"
     ]
    }
   ],
   "source": [
    "with open('../keys/reddit_appid.txt') as f:\n",
    "    APP_ID = f.read().rstrip()\n",
    "with open('../keys/reddit_secret.txt') as f:\n",
    "    APP_SECRET = f.read().rstrip()\n",
    "reddit = praw.Reddit(client_id=APP_ID,\n",
    "                     client_secret=APP_SECRET,\n",
    "                     user_agent='script:my.project:v1.0.0 (by /u/Someone')\n",
    "\n",
    "\n",
    "# for idx, row in links_df[links_df['downloaded'] == False].iloc[12:13].iterrows():\n",
    "for idx, row in links_df.iloc[50:75].iterrows():\n",
    "    start = time.time()\n",
    "    month = row['month']\n",
    "    url = row['link']\n",
    "    print('Reddit comments month: {}'.format(month))\n",
    "    \n",
    "    get_posts(reddit, month)\n",
    "\n",
    "    print('Done! Time elapsed: {:1.2f}'.format(time.time() - start))\n",
    "    print('')"
   ]
  },
  {
   "cell_type": "code",
   "execution_count": 52,
   "metadata": {
    "scrolled": true
   },
   "outputs": [
    {
     "data": {
      "text/html": [
       "<div>\n",
       "<style scoped>\n",
       "    .dataframe tbody tr th:only-of-type {\n",
       "        vertical-align: middle;\n",
       "    }\n",
       "\n",
       "    .dataframe tbody tr th {\n",
       "        vertical-align: top;\n",
       "    }\n",
       "\n",
       "    .dataframe thead th {\n",
       "        text-align: right;\n",
       "    }\n",
       "</style>\n",
       "<table border=\"1\" class=\"dataframe\">\n",
       "  <thead>\n",
       "    <tr style=\"text-align: right;\">\n",
       "      <th></th>\n",
       "      <th>month</th>\n",
       "      <th>link</th>\n",
       "      <th>downloaded</th>\n",
       "      <th>size_in_bytes</th>\n",
       "      <th>comment_count</th>\n",
       "    </tr>\n",
       "  </thead>\n",
       "  <tbody>\n",
       "    <tr>\n",
       "      <td>89</td>\n",
       "      <td>2013-05</td>\n",
       "      <td>https://files.pushshift.io/reddit/comments/RC_...</td>\n",
       "      <td>False</td>\n",
       "      <td>0</td>\n",
       "      <td>0</td>\n",
       "    </tr>\n",
       "    <tr>\n",
       "      <td>90</td>\n",
       "      <td>2013-06</td>\n",
       "      <td>https://files.pushshift.io/reddit/comments/RC_...</td>\n",
       "      <td>False</td>\n",
       "      <td>0</td>\n",
       "      <td>0</td>\n",
       "    </tr>\n",
       "    <tr>\n",
       "      <td>91</td>\n",
       "      <td>2013-07</td>\n",
       "      <td>https://files.pushshift.io/reddit/comments/RC_...</td>\n",
       "      <td>False</td>\n",
       "      <td>0</td>\n",
       "      <td>0</td>\n",
       "    </tr>\n",
       "    <tr>\n",
       "      <td>92</td>\n",
       "      <td>2013-08</td>\n",
       "      <td>https://files.pushshift.io/reddit/comments/RC_...</td>\n",
       "      <td>False</td>\n",
       "      <td>0</td>\n",
       "      <td>0</td>\n",
       "    </tr>\n",
       "    <tr>\n",
       "      <td>93</td>\n",
       "      <td>2013-09</td>\n",
       "      <td>https://files.pushshift.io/reddit/comments/RC_...</td>\n",
       "      <td>False</td>\n",
       "      <td>0</td>\n",
       "      <td>0</td>\n",
       "    </tr>\n",
       "    <tr>\n",
       "      <td>94</td>\n",
       "      <td>2013-10</td>\n",
       "      <td>https://files.pushshift.io/reddit/comments/RC_...</td>\n",
       "      <td>False</td>\n",
       "      <td>0</td>\n",
       "      <td>0</td>\n",
       "    </tr>\n",
       "    <tr>\n",
       "      <td>95</td>\n",
       "      <td>2013-11</td>\n",
       "      <td>https://files.pushshift.io/reddit/comments/RC_...</td>\n",
       "      <td>False</td>\n",
       "      <td>0</td>\n",
       "      <td>0</td>\n",
       "    </tr>\n",
       "    <tr>\n",
       "      <td>96</td>\n",
       "      <td>2013-12</td>\n",
       "      <td>https://files.pushshift.io/reddit/comments/RC_...</td>\n",
       "      <td>False</td>\n",
       "      <td>0</td>\n",
       "      <td>0</td>\n",
       "    </tr>\n",
       "    <tr>\n",
       "      <td>97</td>\n",
       "      <td>2014-01</td>\n",
       "      <td>https://files.pushshift.io/reddit/comments/RC_...</td>\n",
       "      <td>False</td>\n",
       "      <td>0</td>\n",
       "      <td>0</td>\n",
       "    </tr>\n",
       "    <tr>\n",
       "      <td>98</td>\n",
       "      <td>2014-02</td>\n",
       "      <td>https://files.pushshift.io/reddit/comments/RC_...</td>\n",
       "      <td>False</td>\n",
       "      <td>0</td>\n",
       "      <td>0</td>\n",
       "    </tr>\n",
       "    <tr>\n",
       "      <td>99</td>\n",
       "      <td>2014-03</td>\n",
       "      <td>https://files.pushshift.io/reddit/comments/RC_...</td>\n",
       "      <td>False</td>\n",
       "      <td>0</td>\n",
       "      <td>0</td>\n",
       "    </tr>\n",
       "    <tr>\n",
       "      <td>100</td>\n",
       "      <td>2014-04</td>\n",
       "      <td>https://files.pushshift.io/reddit/comments/RC_...</td>\n",
       "      <td>False</td>\n",
       "      <td>0</td>\n",
       "      <td>0</td>\n",
       "    </tr>\n",
       "    <tr>\n",
       "      <td>101</td>\n",
       "      <td>2014-05</td>\n",
       "      <td>https://files.pushshift.io/reddit/comments/RC_...</td>\n",
       "      <td>False</td>\n",
       "      <td>0</td>\n",
       "      <td>0</td>\n",
       "    </tr>\n",
       "    <tr>\n",
       "      <td>102</td>\n",
       "      <td>2014-06</td>\n",
       "      <td>https://files.pushshift.io/reddit/comments/RC_...</td>\n",
       "      <td>False</td>\n",
       "      <td>0</td>\n",
       "      <td>0</td>\n",
       "    </tr>\n",
       "    <tr>\n",
       "      <td>103</td>\n",
       "      <td>2014-07</td>\n",
       "      <td>https://files.pushshift.io/reddit/comments/RC_...</td>\n",
       "      <td>False</td>\n",
       "      <td>0</td>\n",
       "      <td>0</td>\n",
       "    </tr>\n",
       "    <tr>\n",
       "      <td>104</td>\n",
       "      <td>2014-08</td>\n",
       "      <td>https://files.pushshift.io/reddit/comments/RC_...</td>\n",
       "      <td>False</td>\n",
       "      <td>0</td>\n",
       "      <td>0</td>\n",
       "    </tr>\n",
       "    <tr>\n",
       "      <td>105</td>\n",
       "      <td>2014-09</td>\n",
       "      <td>https://files.pushshift.io/reddit/comments/RC_...</td>\n",
       "      <td>False</td>\n",
       "      <td>0</td>\n",
       "      <td>0</td>\n",
       "    </tr>\n",
       "    <tr>\n",
       "      <td>106</td>\n",
       "      <td>2014-10</td>\n",
       "      <td>https://files.pushshift.io/reddit/comments/RC_...</td>\n",
       "      <td>False</td>\n",
       "      <td>0</td>\n",
       "      <td>0</td>\n",
       "    </tr>\n",
       "    <tr>\n",
       "      <td>107</td>\n",
       "      <td>2014-11</td>\n",
       "      <td>https://files.pushshift.io/reddit/comments/RC_...</td>\n",
       "      <td>False</td>\n",
       "      <td>0</td>\n",
       "      <td>0</td>\n",
       "    </tr>\n",
       "    <tr>\n",
       "      <td>108</td>\n",
       "      <td>2014-12</td>\n",
       "      <td>https://files.pushshift.io/reddit/comments/RC_...</td>\n",
       "      <td>False</td>\n",
       "      <td>0</td>\n",
       "      <td>0</td>\n",
       "    </tr>\n",
       "    <tr>\n",
       "      <td>109</td>\n",
       "      <td>2015-01</td>\n",
       "      <td>https://files.pushshift.io/reddit/comments/RC_...</td>\n",
       "      <td>False</td>\n",
       "      <td>0</td>\n",
       "      <td>0</td>\n",
       "    </tr>\n",
       "    <tr>\n",
       "      <td>110</td>\n",
       "      <td>2015-02</td>\n",
       "      <td>https://files.pushshift.io/reddit/comments/RC_...</td>\n",
       "      <td>False</td>\n",
       "      <td>0</td>\n",
       "      <td>0</td>\n",
       "    </tr>\n",
       "    <tr>\n",
       "      <td>111</td>\n",
       "      <td>2015-03</td>\n",
       "      <td>https://files.pushshift.io/reddit/comments/RC_...</td>\n",
       "      <td>False</td>\n",
       "      <td>0</td>\n",
       "      <td>0</td>\n",
       "    </tr>\n",
       "    <tr>\n",
       "      <td>112</td>\n",
       "      <td>2015-04</td>\n",
       "      <td>https://files.pushshift.io/reddit/comments/RC_...</td>\n",
       "      <td>False</td>\n",
       "      <td>0</td>\n",
       "      <td>0</td>\n",
       "    </tr>\n",
       "    <tr>\n",
       "      <td>113</td>\n",
       "      <td>2015-05</td>\n",
       "      <td>https://files.pushshift.io/reddit/comments/RC_...</td>\n",
       "      <td>False</td>\n",
       "      <td>0</td>\n",
       "      <td>0</td>\n",
       "    </tr>\n",
       "    <tr>\n",
       "      <td>114</td>\n",
       "      <td>2015-06</td>\n",
       "      <td>https://files.pushshift.io/reddit/comments/RC_...</td>\n",
       "      <td>False</td>\n",
       "      <td>0</td>\n",
       "      <td>0</td>\n",
       "    </tr>\n",
       "    <tr>\n",
       "      <td>115</td>\n",
       "      <td>2015-07</td>\n",
       "      <td>https://files.pushshift.io/reddit/comments/RC_...</td>\n",
       "      <td>False</td>\n",
       "      <td>0</td>\n",
       "      <td>0</td>\n",
       "    </tr>\n",
       "    <tr>\n",
       "      <td>116</td>\n",
       "      <td>2015-08</td>\n",
       "      <td>https://files.pushshift.io/reddit/comments/RC_...</td>\n",
       "      <td>False</td>\n",
       "      <td>0</td>\n",
       "      <td>0</td>\n",
       "    </tr>\n",
       "    <tr>\n",
       "      <td>117</td>\n",
       "      <td>2015-09</td>\n",
       "      <td>https://files.pushshift.io/reddit/comments/RC_...</td>\n",
       "      <td>False</td>\n",
       "      <td>0</td>\n",
       "      <td>0</td>\n",
       "    </tr>\n",
       "    <tr>\n",
       "      <td>118</td>\n",
       "      <td>2015-10</td>\n",
       "      <td>https://files.pushshift.io/reddit/comments/RC_...</td>\n",
       "      <td>False</td>\n",
       "      <td>0</td>\n",
       "      <td>0</td>\n",
       "    </tr>\n",
       "    <tr>\n",
       "      <td>119</td>\n",
       "      <td>2015-11</td>\n",
       "      <td>https://files.pushshift.io/reddit/comments/RC_...</td>\n",
       "      <td>False</td>\n",
       "      <td>0</td>\n",
       "      <td>0</td>\n",
       "    </tr>\n",
       "    <tr>\n",
       "      <td>120</td>\n",
       "      <td>2015-12</td>\n",
       "      <td>https://files.pushshift.io/reddit/comments/RC_...</td>\n",
       "      <td>False</td>\n",
       "      <td>0</td>\n",
       "      <td>0</td>\n",
       "    </tr>\n",
       "    <tr>\n",
       "      <td>121</td>\n",
       "      <td>2016-01</td>\n",
       "      <td>https://files.pushshift.io/reddit/comments/RC_...</td>\n",
       "      <td>False</td>\n",
       "      <td>0</td>\n",
       "      <td>0</td>\n",
       "    </tr>\n",
       "    <tr>\n",
       "      <td>122</td>\n",
       "      <td>2016-02</td>\n",
       "      <td>https://files.pushshift.io/reddit/comments/RC_...</td>\n",
       "      <td>False</td>\n",
       "      <td>0</td>\n",
       "      <td>0</td>\n",
       "    </tr>\n",
       "    <tr>\n",
       "      <td>123</td>\n",
       "      <td>2016-03</td>\n",
       "      <td>https://files.pushshift.io/reddit/comments/RC_...</td>\n",
       "      <td>False</td>\n",
       "      <td>0</td>\n",
       "      <td>0</td>\n",
       "    </tr>\n",
       "    <tr>\n",
       "      <td>124</td>\n",
       "      <td>2016-04</td>\n",
       "      <td>https://files.pushshift.io/reddit/comments/RC_...</td>\n",
       "      <td>False</td>\n",
       "      <td>0</td>\n",
       "      <td>0</td>\n",
       "    </tr>\n",
       "    <tr>\n",
       "      <td>125</td>\n",
       "      <td>2016-05</td>\n",
       "      <td>https://files.pushshift.io/reddit/comments/RC_...</td>\n",
       "      <td>False</td>\n",
       "      <td>0</td>\n",
       "      <td>0</td>\n",
       "    </tr>\n",
       "    <tr>\n",
       "      <td>126</td>\n",
       "      <td>2016-06</td>\n",
       "      <td>https://files.pushshift.io/reddit/comments/RC_...</td>\n",
       "      <td>False</td>\n",
       "      <td>0</td>\n",
       "      <td>0</td>\n",
       "    </tr>\n",
       "    <tr>\n",
       "      <td>127</td>\n",
       "      <td>2016-07</td>\n",
       "      <td>https://files.pushshift.io/reddit/comments/RC_...</td>\n",
       "      <td>False</td>\n",
       "      <td>0</td>\n",
       "      <td>0</td>\n",
       "    </tr>\n",
       "    <tr>\n",
       "      <td>128</td>\n",
       "      <td>2016-08</td>\n",
       "      <td>https://files.pushshift.io/reddit/comments/RC_...</td>\n",
       "      <td>False</td>\n",
       "      <td>0</td>\n",
       "      <td>0</td>\n",
       "    </tr>\n",
       "    <tr>\n",
       "      <td>129</td>\n",
       "      <td>2016-09</td>\n",
       "      <td>https://files.pushshift.io/reddit/comments/RC_...</td>\n",
       "      <td>False</td>\n",
       "      <td>0</td>\n",
       "      <td>0</td>\n",
       "    </tr>\n",
       "    <tr>\n",
       "      <td>130</td>\n",
       "      <td>2016-10</td>\n",
       "      <td>https://files.pushshift.io/reddit/comments/RC_...</td>\n",
       "      <td>False</td>\n",
       "      <td>0</td>\n",
       "      <td>0</td>\n",
       "    </tr>\n",
       "    <tr>\n",
       "      <td>131</td>\n",
       "      <td>2016-11</td>\n",
       "      <td>https://files.pushshift.io/reddit/comments/RC_...</td>\n",
       "      <td>False</td>\n",
       "      <td>0</td>\n",
       "      <td>0</td>\n",
       "    </tr>\n",
       "    <tr>\n",
       "      <td>132</td>\n",
       "      <td>2016-12</td>\n",
       "      <td>https://files.pushshift.io/reddit/comments/RC_...</td>\n",
       "      <td>False</td>\n",
       "      <td>0</td>\n",
       "      <td>0</td>\n",
       "    </tr>\n",
       "    <tr>\n",
       "      <td>133</td>\n",
       "      <td>2017-01</td>\n",
       "      <td>https://files.pushshift.io/reddit/comments/RC_...</td>\n",
       "      <td>False</td>\n",
       "      <td>0</td>\n",
       "      <td>0</td>\n",
       "    </tr>\n",
       "    <tr>\n",
       "      <td>134</td>\n",
       "      <td>2017-02</td>\n",
       "      <td>https://files.pushshift.io/reddit/comments/RC_...</td>\n",
       "      <td>False</td>\n",
       "      <td>0</td>\n",
       "      <td>0</td>\n",
       "    </tr>\n",
       "    <tr>\n",
       "      <td>135</td>\n",
       "      <td>2017-03</td>\n",
       "      <td>https://files.pushshift.io/reddit/comments/RC_...</td>\n",
       "      <td>False</td>\n",
       "      <td>0</td>\n",
       "      <td>0</td>\n",
       "    </tr>\n",
       "    <tr>\n",
       "      <td>136</td>\n",
       "      <td>2017-04</td>\n",
       "      <td>https://files.pushshift.io/reddit/comments/RC_...</td>\n",
       "      <td>False</td>\n",
       "      <td>0</td>\n",
       "      <td>0</td>\n",
       "    </tr>\n",
       "    <tr>\n",
       "      <td>137</td>\n",
       "      <td>2017-05</td>\n",
       "      <td>https://files.pushshift.io/reddit/comments/RC_...</td>\n",
       "      <td>False</td>\n",
       "      <td>0</td>\n",
       "      <td>0</td>\n",
       "    </tr>\n",
       "    <tr>\n",
       "      <td>138</td>\n",
       "      <td>2017-06</td>\n",
       "      <td>https://files.pushshift.io/reddit/comments/RC_...</td>\n",
       "      <td>False</td>\n",
       "      <td>0</td>\n",
       "      <td>0</td>\n",
       "    </tr>\n",
       "    <tr>\n",
       "      <td>139</td>\n",
       "      <td>2017-07</td>\n",
       "      <td>https://files.pushshift.io/reddit/comments/RC_...</td>\n",
       "      <td>False</td>\n",
       "      <td>0</td>\n",
       "      <td>0</td>\n",
       "    </tr>\n",
       "    <tr>\n",
       "      <td>140</td>\n",
       "      <td>2017-08</td>\n",
       "      <td>https://files.pushshift.io/reddit/comments/RC_...</td>\n",
       "      <td>False</td>\n",
       "      <td>0</td>\n",
       "      <td>0</td>\n",
       "    </tr>\n",
       "    <tr>\n",
       "      <td>141</td>\n",
       "      <td>2017-09</td>\n",
       "      <td>https://files.pushshift.io/reddit/comments/RC_...</td>\n",
       "      <td>False</td>\n",
       "      <td>0</td>\n",
       "      <td>0</td>\n",
       "    </tr>\n",
       "    <tr>\n",
       "      <td>142</td>\n",
       "      <td>2017-10</td>\n",
       "      <td>https://files.pushshift.io/reddit/comments/RC_...</td>\n",
       "      <td>False</td>\n",
       "      <td>0</td>\n",
       "      <td>0</td>\n",
       "    </tr>\n",
       "    <tr>\n",
       "      <td>143</td>\n",
       "      <td>2017-11</td>\n",
       "      <td>https://files.pushshift.io/reddit/comments/RC_...</td>\n",
       "      <td>False</td>\n",
       "      <td>0</td>\n",
       "      <td>0</td>\n",
       "    </tr>\n",
       "  </tbody>\n",
       "</table>\n",
       "</div>"
      ],
      "text/plain": [
       "       month                                               link  downloaded  \\\n",
       "89   2013-05  https://files.pushshift.io/reddit/comments/RC_...       False   \n",
       "90   2013-06  https://files.pushshift.io/reddit/comments/RC_...       False   \n",
       "91   2013-07  https://files.pushshift.io/reddit/comments/RC_...       False   \n",
       "92   2013-08  https://files.pushshift.io/reddit/comments/RC_...       False   \n",
       "93   2013-09  https://files.pushshift.io/reddit/comments/RC_...       False   \n",
       "94   2013-10  https://files.pushshift.io/reddit/comments/RC_...       False   \n",
       "95   2013-11  https://files.pushshift.io/reddit/comments/RC_...       False   \n",
       "96   2013-12  https://files.pushshift.io/reddit/comments/RC_...       False   \n",
       "97   2014-01  https://files.pushshift.io/reddit/comments/RC_...       False   \n",
       "98   2014-02  https://files.pushshift.io/reddit/comments/RC_...       False   \n",
       "99   2014-03  https://files.pushshift.io/reddit/comments/RC_...       False   \n",
       "100  2014-04  https://files.pushshift.io/reddit/comments/RC_...       False   \n",
       "101  2014-05  https://files.pushshift.io/reddit/comments/RC_...       False   \n",
       "102  2014-06  https://files.pushshift.io/reddit/comments/RC_...       False   \n",
       "103  2014-07  https://files.pushshift.io/reddit/comments/RC_...       False   \n",
       "104  2014-08  https://files.pushshift.io/reddit/comments/RC_...       False   \n",
       "105  2014-09  https://files.pushshift.io/reddit/comments/RC_...       False   \n",
       "106  2014-10  https://files.pushshift.io/reddit/comments/RC_...       False   \n",
       "107  2014-11  https://files.pushshift.io/reddit/comments/RC_...       False   \n",
       "108  2014-12  https://files.pushshift.io/reddit/comments/RC_...       False   \n",
       "109  2015-01  https://files.pushshift.io/reddit/comments/RC_...       False   \n",
       "110  2015-02  https://files.pushshift.io/reddit/comments/RC_...       False   \n",
       "111  2015-03  https://files.pushshift.io/reddit/comments/RC_...       False   \n",
       "112  2015-04  https://files.pushshift.io/reddit/comments/RC_...       False   \n",
       "113  2015-05  https://files.pushshift.io/reddit/comments/RC_...       False   \n",
       "114  2015-06  https://files.pushshift.io/reddit/comments/RC_...       False   \n",
       "115  2015-07  https://files.pushshift.io/reddit/comments/RC_...       False   \n",
       "116  2015-08  https://files.pushshift.io/reddit/comments/RC_...       False   \n",
       "117  2015-09  https://files.pushshift.io/reddit/comments/RC_...       False   \n",
       "118  2015-10  https://files.pushshift.io/reddit/comments/RC_...       False   \n",
       "119  2015-11  https://files.pushshift.io/reddit/comments/RC_...       False   \n",
       "120  2015-12  https://files.pushshift.io/reddit/comments/RC_...       False   \n",
       "121  2016-01  https://files.pushshift.io/reddit/comments/RC_...       False   \n",
       "122  2016-02  https://files.pushshift.io/reddit/comments/RC_...       False   \n",
       "123  2016-03  https://files.pushshift.io/reddit/comments/RC_...       False   \n",
       "124  2016-04  https://files.pushshift.io/reddit/comments/RC_...       False   \n",
       "125  2016-05  https://files.pushshift.io/reddit/comments/RC_...       False   \n",
       "126  2016-06  https://files.pushshift.io/reddit/comments/RC_...       False   \n",
       "127  2016-07  https://files.pushshift.io/reddit/comments/RC_...       False   \n",
       "128  2016-08  https://files.pushshift.io/reddit/comments/RC_...       False   \n",
       "129  2016-09  https://files.pushshift.io/reddit/comments/RC_...       False   \n",
       "130  2016-10  https://files.pushshift.io/reddit/comments/RC_...       False   \n",
       "131  2016-11  https://files.pushshift.io/reddit/comments/RC_...       False   \n",
       "132  2016-12  https://files.pushshift.io/reddit/comments/RC_...       False   \n",
       "133  2017-01  https://files.pushshift.io/reddit/comments/RC_...       False   \n",
       "134  2017-02  https://files.pushshift.io/reddit/comments/RC_...       False   \n",
       "135  2017-03  https://files.pushshift.io/reddit/comments/RC_...       False   \n",
       "136  2017-04  https://files.pushshift.io/reddit/comments/RC_...       False   \n",
       "137  2017-05  https://files.pushshift.io/reddit/comments/RC_...       False   \n",
       "138  2017-06  https://files.pushshift.io/reddit/comments/RC_...       False   \n",
       "139  2017-07  https://files.pushshift.io/reddit/comments/RC_...       False   \n",
       "140  2017-08  https://files.pushshift.io/reddit/comments/RC_...       False   \n",
       "141  2017-09  https://files.pushshift.io/reddit/comments/RC_...       False   \n",
       "142  2017-10  https://files.pushshift.io/reddit/comments/RC_...       False   \n",
       "143  2017-11  https://files.pushshift.io/reddit/comments/RC_...       False   \n",
       "\n",
       "     size_in_bytes  comment_count  \n",
       "89               0              0  \n",
       "90               0              0  \n",
       "91               0              0  \n",
       "92               0              0  \n",
       "93               0              0  \n",
       "94               0              0  \n",
       "95               0              0  \n",
       "96               0              0  \n",
       "97               0              0  \n",
       "98               0              0  \n",
       "99               0              0  \n",
       "100              0              0  \n",
       "101              0              0  \n",
       "102              0              0  \n",
       "103              0              0  \n",
       "104              0              0  \n",
       "105              0              0  \n",
       "106              0              0  \n",
       "107              0              0  \n",
       "108              0              0  \n",
       "109              0              0  \n",
       "110              0              0  \n",
       "111              0              0  \n",
       "112              0              0  \n",
       "113              0              0  \n",
       "114              0              0  \n",
       "115              0              0  \n",
       "116              0              0  \n",
       "117              0              0  \n",
       "118              0              0  \n",
       "119              0              0  \n",
       "120              0              0  \n",
       "121              0              0  \n",
       "122              0              0  \n",
       "123              0              0  \n",
       "124              0              0  \n",
       "125              0              0  \n",
       "126              0              0  \n",
       "127              0              0  \n",
       "128              0              0  \n",
       "129              0              0  \n",
       "130              0              0  \n",
       "131              0              0  \n",
       "132              0              0  \n",
       "133              0              0  \n",
       "134              0              0  \n",
       "135              0              0  \n",
       "136              0              0  \n",
       "137              0              0  \n",
       "138              0              0  \n",
       "139              0              0  \n",
       "140              0              0  \n",
       "141              0              0  \n",
       "142              0              0  \n",
       "143              0              0  "
      ]
     },
     "execution_count": 52,
     "metadata": {},
     "output_type": "execute_result"
    }
   ],
   "source": [
    "links_df.iloc[89:144, :]"
   ]
  },
  {
   "cell_type": "code",
   "execution_count": 28,
   "metadata": {
    "scrolled": true
   },
   "outputs": [
    {
     "data": {
      "text/plain": [
       "{'_id': ObjectId('5e542549d70d406b412f6299'),\n",
       " 'link_id': 't3_22515',\n",
       " 'stickied': False,\n",
       " 'subreddit_id': 't5_6',\n",
       " 'controversiality': 0,\n",
       " 'body': \"Microsoft hates it's own products?\\r\\nWho knew?\",\n",
       " 'author_flair_css_class': None,\n",
       " 'created_utc': 1136078623,\n",
       " 'ups': 2,\n",
       " 'score': 2,\n",
       " 'subreddit': 'reddit.com',\n",
       " 'id': 'c2718',\n",
       " 'parent_id': 't3_22515',\n",
       " 'edited': False,\n",
       " 'author_flair_text': None,\n",
       " 'author': 'Pichu0102',\n",
       " 'retrieved_on': 1473821517,\n",
       " 'distinguished': None,\n",
       " 'gilded': 0}"
      ]
     },
     "execution_count": 28,
     "metadata": {},
     "output_type": "execute_result"
    }
   ],
   "source": [
    "temp_col.find_one()"
   ]
  },
  {
   "cell_type": "code",
   "execution_count": 72,
   "metadata": {
    "scrolled": false
   },
   "outputs": [
    {
     "data": {
      "text/plain": [
       "{'_id': ObjectId('5e5419474d3ce5d53043c5e0'),\n",
       " 'link_id': 'fnf5q',\n",
       " 'title': 'UW Milwaukee protests- Not as intense as Madison, but we do what we can.',\n",
       " 'score': 12,\n",
       " 'is_self': False,\n",
       " 'datetime': 1297974010.0,\n",
       " 'sub': 'politics',\n",
       " 'permalink': '/r/politics/comments/fnf5q/uw_milwaukee_protests_not_as_intense_as_madison/'}"
      ]
     },
     "execution_count": 72,
     "metadata": {},
     "output_type": "execute_result"
    }
   ],
   "source": [
    "posts.find_one()"
   ]
  },
  {
   "cell_type": "code",
   "execution_count": null,
   "metadata": {},
   "outputs": [],
   "source": []
  }
 ],
 "metadata": {
  "kernelspec": {
   "display_name": "Python 3",
   "language": "python",
   "name": "python3"
  },
  "language_info": {
   "codemirror_mode": {
    "name": "ipython",
    "version": 3
   },
   "file_extension": ".py",
   "mimetype": "text/x-python",
   "name": "python",
   "nbconvert_exporter": "python",
   "pygments_lexer": "ipython3",
   "version": "3.7.4"
  }
 },
 "nbformat": 4,
 "nbformat_minor": 2
}
