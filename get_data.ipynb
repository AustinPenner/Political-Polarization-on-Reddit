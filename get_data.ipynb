{
 "cells": [
  {
   "cell_type": "code",
   "execution_count": 16,
   "metadata": {},
   "outputs": [],
   "source": [
    "import numpy as np\n",
    "import pandas as pd\n",
    "import matplotlib.pyplot as plt\n",
    "from pymongo import MongoClient\n",
    "import json\n",
    "import pprint\n",
    "import praw\n",
    "\n",
    "import pprint\n",
    "import bs4 as bs\n",
    "import urllib.request\n",
    "import bz2,shutil\n",
    "\n",
    "import boto3\n",
    "import os\n",
    "import time\n",
    "import subprocess"
   ]
  },
  {
   "cell_type": "code",
   "execution_count": 3,
   "metadata": {},
   "outputs": [],
   "source": [
    "def get_download_links():\n",
    "    \"Gets download links to all reddit comments by month\"\n",
    "    \n",
    "    url_source = 'https://files.pushshift.io/reddit/comments/'\n",
    "\n",
    "    source = urllib.request.urlopen(url_source).read()\n",
    "    soup = bs.BeautifulSoup(source,'lxml')\n",
    "    table = soup.table\n",
    "\n",
    "    url_dict = {'month': [], 'link': []}\n",
    "    for i in table.find_all('tr', class_='file'):\n",
    "        rel_url = i.find('a').text\n",
    "        if rel_url[:2] == 'RC':\n",
    "            dot = rel_url.find('.')\n",
    "            url_dict['month'].append(rel_url[3:dot])\n",
    "            url_dict['link'].append(url_source + rel_url)\n",
    "    \n",
    "    links_df = pd.DataFrame(url_dict)\n",
    "    links_df['downloaded'] = False\n",
    "    links_df['size_in_bytes'] = 0\n",
    "    links_df['comment_count'] = 0\n",
    "    \n",
    "    return links_df"
   ]
  },
  {
   "cell_type": "code",
   "execution_count": 28,
   "metadata": {},
   "outputs": [],
   "source": [
    "# Get download links from website and save to csv\n",
    "\n",
    "# links_df = get_download_links()\n",
    "# links_df.to_csv('comment_files/links_dataframe.csv', index=False)"
   ]
  },
  {
   "cell_type": "code",
   "execution_count": 36,
   "metadata": {
    "scrolled": true
   },
   "outputs": [
    {
     "data": {
      "text/html": [
       "<div>\n",
       "<style scoped>\n",
       "    .dataframe tbody tr th:only-of-type {\n",
       "        vertical-align: middle;\n",
       "    }\n",
       "\n",
       "    .dataframe tbody tr th {\n",
       "        vertical-align: top;\n",
       "    }\n",
       "\n",
       "    .dataframe thead th {\n",
       "        text-align: right;\n",
       "    }\n",
       "</style>\n",
       "<table border=\"1\" class=\"dataframe\">\n",
       "  <thead>\n",
       "    <tr style=\"text-align: right;\">\n",
       "      <th></th>\n",
       "      <th>month</th>\n",
       "      <th>link</th>\n",
       "      <th>downloaded</th>\n",
       "      <th>size_in_bytes</th>\n",
       "      <th>comment_count</th>\n",
       "    </tr>\n",
       "  </thead>\n",
       "  <tbody>\n",
       "    <tr>\n",
       "      <td>0</td>\n",
       "      <td>2005-12</td>\n",
       "      <td>https://files.pushshift.io/reddit/comments/RC_...</td>\n",
       "      <td>False</td>\n",
       "      <td>0</td>\n",
       "      <td>0</td>\n",
       "    </tr>\n",
       "    <tr>\n",
       "      <td>1</td>\n",
       "      <td>2006-01</td>\n",
       "      <td>https://files.pushshift.io/reddit/comments/RC_...</td>\n",
       "      <td>False</td>\n",
       "      <td>0</td>\n",
       "      <td>0</td>\n",
       "    </tr>\n",
       "    <tr>\n",
       "      <td>2</td>\n",
       "      <td>2006-02</td>\n",
       "      <td>https://files.pushshift.io/reddit/comments/RC_...</td>\n",
       "      <td>False</td>\n",
       "      <td>0</td>\n",
       "      <td>0</td>\n",
       "    </tr>\n",
       "    <tr>\n",
       "      <td>3</td>\n",
       "      <td>2006-03</td>\n",
       "      <td>https://files.pushshift.io/reddit/comments/RC_...</td>\n",
       "      <td>False</td>\n",
       "      <td>0</td>\n",
       "      <td>0</td>\n",
       "    </tr>\n",
       "    <tr>\n",
       "      <td>4</td>\n",
       "      <td>2006-04</td>\n",
       "      <td>https://files.pushshift.io/reddit/comments/RC_...</td>\n",
       "      <td>False</td>\n",
       "      <td>0</td>\n",
       "      <td>0</td>\n",
       "    </tr>\n",
       "    <tr>\n",
       "      <td>5</td>\n",
       "      <td>2006-05</td>\n",
       "      <td>https://files.pushshift.io/reddit/comments/RC_...</td>\n",
       "      <td>False</td>\n",
       "      <td>0</td>\n",
       "      <td>0</td>\n",
       "    </tr>\n",
       "    <tr>\n",
       "      <td>6</td>\n",
       "      <td>2006-06</td>\n",
       "      <td>https://files.pushshift.io/reddit/comments/RC_...</td>\n",
       "      <td>False</td>\n",
       "      <td>0</td>\n",
       "      <td>0</td>\n",
       "    </tr>\n",
       "    <tr>\n",
       "      <td>7</td>\n",
       "      <td>2006-07</td>\n",
       "      <td>https://files.pushshift.io/reddit/comments/RC_...</td>\n",
       "      <td>False</td>\n",
       "      <td>0</td>\n",
       "      <td>0</td>\n",
       "    </tr>\n",
       "    <tr>\n",
       "      <td>8</td>\n",
       "      <td>2006-08</td>\n",
       "      <td>https://files.pushshift.io/reddit/comments/RC_...</td>\n",
       "      <td>False</td>\n",
       "      <td>0</td>\n",
       "      <td>0</td>\n",
       "    </tr>\n",
       "    <tr>\n",
       "      <td>9</td>\n",
       "      <td>2006-09</td>\n",
       "      <td>https://files.pushshift.io/reddit/comments/RC_...</td>\n",
       "      <td>False</td>\n",
       "      <td>0</td>\n",
       "      <td>0</td>\n",
       "    </tr>\n",
       "    <tr>\n",
       "      <td>10</td>\n",
       "      <td>2006-10</td>\n",
       "      <td>https://files.pushshift.io/reddit/comments/RC_...</td>\n",
       "      <td>False</td>\n",
       "      <td>0</td>\n",
       "      <td>0</td>\n",
       "    </tr>\n",
       "    <tr>\n",
       "      <td>11</td>\n",
       "      <td>2006-11</td>\n",
       "      <td>https://files.pushshift.io/reddit/comments/RC_...</td>\n",
       "      <td>False</td>\n",
       "      <td>0</td>\n",
       "      <td>0</td>\n",
       "    </tr>\n",
       "    <tr>\n",
       "      <td>12</td>\n",
       "      <td>2006-12</td>\n",
       "      <td>https://files.pushshift.io/reddit/comments/RC_...</td>\n",
       "      <td>False</td>\n",
       "      <td>0</td>\n",
       "      <td>0</td>\n",
       "    </tr>\n",
       "    <tr>\n",
       "      <td>13</td>\n",
       "      <td>2007-01</td>\n",
       "      <td>https://files.pushshift.io/reddit/comments/RC_...</td>\n",
       "      <td>False</td>\n",
       "      <td>0</td>\n",
       "      <td>0</td>\n",
       "    </tr>\n",
       "    <tr>\n",
       "      <td>14</td>\n",
       "      <td>2007-02</td>\n",
       "      <td>https://files.pushshift.io/reddit/comments/RC_...</td>\n",
       "      <td>False</td>\n",
       "      <td>0</td>\n",
       "      <td>0</td>\n",
       "    </tr>\n",
       "  </tbody>\n",
       "</table>\n",
       "</div>"
      ],
      "text/plain": [
       "      month                                               link  downloaded  \\\n",
       "0   2005-12  https://files.pushshift.io/reddit/comments/RC_...       False   \n",
       "1   2006-01  https://files.pushshift.io/reddit/comments/RC_...       False   \n",
       "2   2006-02  https://files.pushshift.io/reddit/comments/RC_...       False   \n",
       "3   2006-03  https://files.pushshift.io/reddit/comments/RC_...       False   \n",
       "4   2006-04  https://files.pushshift.io/reddit/comments/RC_...       False   \n",
       "5   2006-05  https://files.pushshift.io/reddit/comments/RC_...       False   \n",
       "6   2006-06  https://files.pushshift.io/reddit/comments/RC_...       False   \n",
       "7   2006-07  https://files.pushshift.io/reddit/comments/RC_...       False   \n",
       "8   2006-08  https://files.pushshift.io/reddit/comments/RC_...       False   \n",
       "9   2006-09  https://files.pushshift.io/reddit/comments/RC_...       False   \n",
       "10  2006-10  https://files.pushshift.io/reddit/comments/RC_...       False   \n",
       "11  2006-11  https://files.pushshift.io/reddit/comments/RC_...       False   \n",
       "12  2006-12  https://files.pushshift.io/reddit/comments/RC_...       False   \n",
       "13  2007-01  https://files.pushshift.io/reddit/comments/RC_...       False   \n",
       "14  2007-02  https://files.pushshift.io/reddit/comments/RC_...       False   \n",
       "\n",
       "    size_in_bytes  comment_count  \n",
       "0               0              0  \n",
       "1               0              0  \n",
       "2               0              0  \n",
       "3               0              0  \n",
       "4               0              0  \n",
       "5               0              0  \n",
       "6               0              0  \n",
       "7               0              0  \n",
       "8               0              0  \n",
       "9               0              0  \n",
       "10              0              0  \n",
       "11              0              0  \n",
       "12              0              0  \n",
       "13              0              0  \n",
       "14              0              0  "
      ]
     },
     "execution_count": 36,
     "metadata": {},
     "output_type": "execute_result"
    }
   ],
   "source": [
    "# Retrieve download links\n",
    "\n",
    "links_df = pd.read_csv('comment_files/links_dataframe.csv')\n",
    "links_df.head(15)"
   ]
  },
  {
   "cell_type": "code",
   "execution_count": 30,
   "metadata": {},
   "outputs": [],
   "source": [
    "def download_file(download_url, s3_bucket = None, remove_file=True):\n",
    "    filename = download_url[download_url.rfind('/') + 1:]\n",
    "    filepath = './comment_files/' + filename\n",
    "    print('Downloading file...')\n",
    "    \n",
    "    if s3_bucket is None:\n",
    "        urllib.request.urlretrieve(download_url, filepath)\n",
    "    else:\n",
    "        s3 = boto3.client('s3')\n",
    "        s3.download_file(s3_bucket, filename, filepath)\n",
    "\n",
    "    return extract_file(filepath, remove_file)"
   ]
  },
  {
   "cell_type": "code",
   "execution_count": 31,
   "metadata": {},
   "outputs": [],
   "source": [
    "def extract_file(fp, remove_file):\n",
    "    print('Extracting file...')\n",
    "    fileout = fp[:fp.rfind('.')] + '.json'\n",
    "    extension = fp[fp.rfind('.'):]\n",
    "\n",
    "    if extension == '.bz2':\n",
    "        with bz2.BZ2File(fp) as fr, open(fileout, 'wb') as fw:\n",
    "            shutil.copyfileobj(fr,fw)\n",
    "#     elif extension == '.xz':\n",
    "#         pass\n",
    "    else:\n",
    "        raise Exception('Cannot decompress files of type {}'.format(extension))\n",
    "\n",
    "    if remove_file:\n",
    "        print('Removing file...')\n",
    "        try:\n",
    "            os.remove(fp)\n",
    "        except:\n",
    "            print(\"Error while deleting file \", fp)\n",
    "\n",
    "    filesize = os.path.getsize(fileout)\n",
    "    return fileout, filesize"
   ]
  },
  {
   "cell_type": "code",
   "execution_count": 32,
   "metadata": {},
   "outputs": [],
   "source": [
    "def mongo_import(month, fp):\n",
    "    db_name = 'reddit'\n",
    "    collection_name = 'comments-{}'.format(month)\n",
    "    cmd = ['mongoimport', '-d', db_name, '-c', collection_name, '--file', fp]\n",
    "    print('Loading to mongodb...')\n",
    "    subprocess.run(cmd, check=True, text=True)\n",
    "    \n",
    "    try:\n",
    "        os.remove(fp)\n",
    "    except:\n",
    "        print(\"Error while deleting file \", fp)\n",
    "    \n",
    "    return {'db_name': db_name, 'collection_name': collection_name, 'filepath': fp, 'month': month}"
   ]
  },
  {
   "cell_type": "code",
   "execution_count": 33,
   "metadata": {},
   "outputs": [],
   "source": [
    "def filter_comments(mongoinfo):\n",
    "    client = MongoClient()\n",
    "    db_name, collection_name = mongoinfo['db_name'], mongoinfo['collection_name']\n",
    "    db = client[db_name]\n",
    "    comments = db[collection_name]\n",
    "    comment_count = comments.count()\n",
    "\n",
    "    cursor = comments.find({'subreddit': \n",
    "                                {'$in': ['politics', 'sports', 'worldnews', 'The_Donald']}, \n",
    "                            '$expr': \n",
    "                                {'$eq': ['$link_id', '$parent_id']}}, \n",
    "                           {'_id': 1, 'author': 1, 'body': 1, 'created_utc': 1, 'id': 1, 'link_id': 1, \n",
    "                                'parent_id': 1, 'score': 1, 'subreddit': 1})\n",
    "    \n",
    "    my_db = client['myreddit']\n",
    "    my_comments = my_db[collection_name]\n",
    "    \n",
    "    print('Saving relevant comments...')\n",
    "    for doc in cursor:\n",
    "        my_comments.insert_one(doc)\n",
    "\n",
    "    print('{} comments saved.'.format(my_comments.count()))\n",
    "    print('Dropping comments source collection...')\n",
    "    comments.drop()\n",
    "    client.close()\n",
    "\n",
    "    return comment_count"
   ]
  },
  {
   "cell_type": "code",
   "execution_count": 34,
   "metadata": {},
   "outputs": [],
   "source": [
    "def get_posts(praw_reddit, month):\n",
    "    client = MongoClient()\n",
    "    collection_name = 'comments-{}'.format(month)\n",
    "    db = client['myreddit']\n",
    "    comments = db[collection_name]\n",
    "    post_ids = comments.distinct('link_id')\n",
    "    distinct_posts = len(post_ids)\n",
    "    print('There are {} distinct posts for the month'.format(distinct_posts))\n",
    "\n",
    "    collection_name = 'posts-{}'.format(month)\n",
    "    posts = db[collection_name]\n",
    "\n",
    "    praw_generator = praw_reddit.info(post_ids)\n",
    "    print('Getting post data...')\n",
    "    for submission in praw_generator:\n",
    "        d = {'link_id': submission.id, \n",
    "             'title': submission.title, \n",
    "             'score': submission.score, \n",
    "             'is_self': submission.is_self, \n",
    "             'datetime': submission.created_utc, \n",
    "             'sub': submission.subreddit.display_name, \n",
    "             'permalink': submission.permalink}\n",
    "        posts.insert_one(d)\n",
    "    \n",
    "    client.close()"
   ]
  },
  {
   "cell_type": "code",
   "execution_count": null,
   "metadata": {
    "scrolled": true
   },
   "outputs": [
    {
     "name": "stdout",
     "output_type": "stream",
     "text": [
      "Reddit comments month: 2006-10\n",
      "Downloading file...\n",
      "Extracting file...\n",
      "Removing file...\n",
      "Loading to mongodb...\n"
     ]
    },
    {
     "name": "stderr",
     "output_type": "stream",
     "text": [
      "/home/ubuntu/anaconda3/lib/python3.7/site-packages/ipykernel_launcher.py:6: DeprecationWarning: count is deprecated. Use estimated_document_count or count_documents instead. Please note that $where must be replaced by $expr, $near must be replaced by $geoWithin with $center, and $nearSphere must be replaced by $geoWithin with $centerSphere\n",
      "  \n",
      "/home/ubuntu/anaconda3/lib/python3.7/site-packages/ipykernel_launcher.py:22: DeprecationWarning: count is deprecated. Use estimated_document_count or count_documents instead. Please note that $where must be replaced by $expr, $near must be replaced by $geoWithin with $center, and $nearSphere must be replaced by $geoWithin with $centerSphere\n"
     ]
    },
    {
     "name": "stdout",
     "output_type": "stream",
     "text": [
      "Saving relevant comments...\n",
      "0 comments saved.\n",
      "Dropping comments source collection...\n",
      "There are 0 distinct posts for the month\n",
      "Getting post data...\n",
      "Done! Time elapsed: 3.54\n",
      "\n",
      "Reddit comments month: 2006-11\n",
      "Downloading file...\n",
      "Extracting file...\n",
      "Removing file...\n",
      "Loading to mongodb...\n"
     ]
    },
    {
     "name": "stderr",
     "output_type": "stream",
     "text": [
      "/home/ubuntu/anaconda3/lib/python3.7/site-packages/ipykernel_launcher.py:6: DeprecationWarning: count is deprecated. Use estimated_document_count or count_documents instead. Please note that $where must be replaced by $expr, $near must be replaced by $geoWithin with $center, and $nearSphere must be replaced by $geoWithin with $centerSphere\n",
      "  \n",
      "/home/ubuntu/anaconda3/lib/python3.7/site-packages/ipykernel_launcher.py:22: DeprecationWarning: count is deprecated. Use estimated_document_count or count_documents instead. Please note that $where must be replaced by $expr, $near must be replaced by $geoWithin with $center, and $nearSphere must be replaced by $geoWithin with $centerSphere\n"
     ]
    },
    {
     "name": "stdout",
     "output_type": "stream",
     "text": [
      "Saving relevant comments...\n",
      "0 comments saved.\n",
      "Dropping comments source collection...\n",
      "There are 0 distinct posts for the month\n",
      "Getting post data...\n",
      "Done! Time elapsed: 4.02\n",
      "\n",
      "Reddit comments month: 2006-12\n",
      "Downloading file...\n",
      "Extracting file...\n",
      "Removing file...\n",
      "Loading to mongodb...\n"
     ]
    },
    {
     "name": "stderr",
     "output_type": "stream",
     "text": [
      "/home/ubuntu/anaconda3/lib/python3.7/site-packages/ipykernel_launcher.py:6: DeprecationWarning: count is deprecated. Use estimated_document_count or count_documents instead. Please note that $where must be replaced by $expr, $near must be replaced by $geoWithin with $center, and $nearSphere must be replaced by $geoWithin with $centerSphere\n",
      "  \n",
      "/home/ubuntu/anaconda3/lib/python3.7/site-packages/ipykernel_launcher.py:22: DeprecationWarning: count is deprecated. Use estimated_document_count or count_documents instead. Please note that $where must be replaced by $expr, $near must be replaced by $geoWithin with $center, and $nearSphere must be replaced by $geoWithin with $centerSphere\n"
     ]
    },
    {
     "name": "stdout",
     "output_type": "stream",
     "text": [
      "Saving relevant comments...\n",
      "0 comments saved.\n",
      "Dropping comments source collection...\n",
      "There are 0 distinct posts for the month\n",
      "Getting post data...\n",
      "Done! Time elapsed: 3.95\n",
      "\n",
      "Reddit comments month: 2007-01\n",
      "Downloading file...\n",
      "Extracting file...\n",
      "Removing file...\n",
      "Loading to mongodb...\n"
     ]
    },
    {
     "name": "stderr",
     "output_type": "stream",
     "text": [
      "/home/ubuntu/anaconda3/lib/python3.7/site-packages/ipykernel_launcher.py:6: DeprecationWarning: count is deprecated. Use estimated_document_count or count_documents instead. Please note that $where must be replaced by $expr, $near must be replaced by $geoWithin with $center, and $nearSphere must be replaced by $geoWithin with $centerSphere\n",
      "  \n",
      "/home/ubuntu/anaconda3/lib/python3.7/site-packages/ipykernel_launcher.py:22: DeprecationWarning: count is deprecated. Use estimated_document_count or count_documents instead. Please note that $where must be replaced by $expr, $near must be replaced by $geoWithin with $center, and $nearSphere must be replaced by $geoWithin with $centerSphere\n"
     ]
    },
    {
     "name": "stdout",
     "output_type": "stream",
     "text": [
      "Saving relevant comments...\n",
      "0 comments saved.\n",
      "Dropping comments source collection...\n",
      "There are 0 distinct posts for the month\n",
      "Getting post data...\n",
      "Done! Time elapsed: 5.18\n",
      "\n",
      "Reddit comments month: 2007-02\n",
      "Downloading file...\n",
      "Extracting file...\n",
      "Removing file...\n",
      "Loading to mongodb...\n"
     ]
    },
    {
     "name": "stderr",
     "output_type": "stream",
     "text": [
      "/home/ubuntu/anaconda3/lib/python3.7/site-packages/ipykernel_launcher.py:6: DeprecationWarning: count is deprecated. Use estimated_document_count or count_documents instead. Please note that $where must be replaced by $expr, $near must be replaced by $geoWithin with $center, and $nearSphere must be replaced by $geoWithin with $centerSphere\n",
      "  \n",
      "/home/ubuntu/anaconda3/lib/python3.7/site-packages/ipykernel_launcher.py:22: DeprecationWarning: count is deprecated. Use estimated_document_count or count_documents instead. Please note that $where must be replaced by $expr, $near must be replaced by $geoWithin with $center, and $nearSphere must be replaced by $geoWithin with $centerSphere\n"
     ]
    },
    {
     "name": "stdout",
     "output_type": "stream",
     "text": [
      "Saving relevant comments...\n",
      "0 comments saved.\n",
      "Dropping comments source collection...\n",
      "There are 0 distinct posts for the month\n",
      "Getting post data...\n",
      "Done! Time elapsed: 6.17\n",
      "\n",
      "Reddit comments month: 2007-03\n",
      "Downloading file...\n",
      "Extracting file...\n",
      "Removing file...\n",
      "Loading to mongodb...\n"
     ]
    },
    {
     "name": "stderr",
     "output_type": "stream",
     "text": [
      "/home/ubuntu/anaconda3/lib/python3.7/site-packages/ipykernel_launcher.py:6: DeprecationWarning: count is deprecated. Use estimated_document_count or count_documents instead. Please note that $where must be replaced by $expr, $near must be replaced by $geoWithin with $center, and $nearSphere must be replaced by $geoWithin with $centerSphere\n",
      "  \n",
      "/home/ubuntu/anaconda3/lib/python3.7/site-packages/ipykernel_launcher.py:22: DeprecationWarning: count is deprecated. Use estimated_document_count or count_documents instead. Please note that $where must be replaced by $expr, $near must be replaced by $geoWithin with $center, and $nearSphere must be replaced by $geoWithin with $centerSphere\n"
     ]
    },
    {
     "name": "stdout",
     "output_type": "stream",
     "text": [
      "Saving relevant comments...\n",
      "0 comments saved.\n",
      "Dropping comments source collection...\n",
      "There are 0 distinct posts for the month\n",
      "Getting post data...\n",
      "Done! Time elapsed: 6.62\n",
      "\n",
      "Reddit comments month: 2007-04\n",
      "Downloading file...\n",
      "Extracting file...\n",
      "Removing file...\n",
      "Loading to mongodb...\n"
     ]
    },
    {
     "name": "stderr",
     "output_type": "stream",
     "text": [
      "/home/ubuntu/anaconda3/lib/python3.7/site-packages/ipykernel_launcher.py:6: DeprecationWarning: count is deprecated. Use estimated_document_count or count_documents instead. Please note that $where must be replaced by $expr, $near must be replaced by $geoWithin with $center, and $nearSphere must be replaced by $geoWithin with $centerSphere\n",
      "  \n",
      "/home/ubuntu/anaconda3/lib/python3.7/site-packages/ipykernel_launcher.py:22: DeprecationWarning: count is deprecated. Use estimated_document_count or count_documents instead. Please note that $where must be replaced by $expr, $near must be replaced by $geoWithin with $center, and $nearSphere must be replaced by $geoWithin with $centerSphere\n"
     ]
    },
    {
     "name": "stdout",
     "output_type": "stream",
     "text": [
      "Saving relevant comments...\n",
      "0 comments saved.\n",
      "Dropping comments source collection...\n",
      "There are 0 distinct posts for the month\n",
      "Getting post data...\n",
      "Done! Time elapsed: 16.19\n",
      "\n",
      "Reddit comments month: 2007-05\n",
      "Downloading file...\n",
      "Extracting file...\n",
      "Removing file...\n",
      "Loading to mongodb...\n"
     ]
    },
    {
     "name": "stderr",
     "output_type": "stream",
     "text": [
      "/home/ubuntu/anaconda3/lib/python3.7/site-packages/ipykernel_launcher.py:6: DeprecationWarning: count is deprecated. Use estimated_document_count or count_documents instead. Please note that $where must be replaced by $expr, $near must be replaced by $geoWithin with $center, and $nearSphere must be replaced by $geoWithin with $centerSphere\n",
      "  \n",
      "/home/ubuntu/anaconda3/lib/python3.7/site-packages/ipykernel_launcher.py:22: DeprecationWarning: count is deprecated. Use estimated_document_count or count_documents instead. Please note that $where must be replaced by $expr, $near must be replaced by $geoWithin with $center, and $nearSphere must be replaced by $geoWithin with $centerSphere\n"
     ]
    },
    {
     "name": "stdout",
     "output_type": "stream",
     "text": [
      "Saving relevant comments...\n",
      "0 comments saved.\n",
      "Dropping comments source collection...\n",
      "There are 0 distinct posts for the month\n",
      "Getting post data...\n",
      "Done! Time elapsed: 9.42\n",
      "\n",
      "Reddit comments month: 2007-06\n",
      "Downloading file...\n",
      "Extracting file...\n",
      "Removing file...\n",
      "Loading to mongodb...\n"
     ]
    },
    {
     "name": "stderr",
     "output_type": "stream",
     "text": [
      "/home/ubuntu/anaconda3/lib/python3.7/site-packages/ipykernel_launcher.py:6: DeprecationWarning: count is deprecated. Use estimated_document_count or count_documents instead. Please note that $where must be replaced by $expr, $near must be replaced by $geoWithin with $center, and $nearSphere must be replaced by $geoWithin with $centerSphere\n",
      "  \n",
      "/home/ubuntu/anaconda3/lib/python3.7/site-packages/ipykernel_launcher.py:22: DeprecationWarning: count is deprecated. Use estimated_document_count or count_documents instead. Please note that $where must be replaced by $expr, $near must be replaced by $geoWithin with $center, and $nearSphere must be replaced by $geoWithin with $centerSphere\n"
     ]
    },
    {
     "name": "stdout",
     "output_type": "stream",
     "text": [
      "Saving relevant comments...\n",
      "0 comments saved.\n",
      "Dropping comments source collection...\n",
      "There are 0 distinct posts for the month\n",
      "Getting post data...\n",
      "Done! Time elapsed: 9.67\n",
      "\n",
      "Reddit comments month: 2007-07\n",
      "Downloading file...\n",
      "Extracting file...\n",
      "Removing file...\n",
      "Loading to mongodb...\n"
     ]
    },
    {
     "name": "stderr",
     "output_type": "stream",
     "text": [
      "/home/ubuntu/anaconda3/lib/python3.7/site-packages/ipykernel_launcher.py:6: DeprecationWarning: count is deprecated. Use estimated_document_count or count_documents instead. Please note that $where must be replaced by $expr, $near must be replaced by $geoWithin with $center, and $nearSphere must be replaced by $geoWithin with $centerSphere\n",
      "  \n",
      "/home/ubuntu/anaconda3/lib/python3.7/site-packages/ipykernel_launcher.py:22: DeprecationWarning: count is deprecated. Use estimated_document_count or count_documents instead. Please note that $where must be replaced by $expr, $near must be replaced by $geoWithin with $center, and $nearSphere must be replaced by $geoWithin with $centerSphere\n"
     ]
    },
    {
     "name": "stdout",
     "output_type": "stream",
     "text": [
      "Saving relevant comments...\n",
      "0 comments saved.\n",
      "Dropping comments source collection...\n",
      "There are 0 distinct posts for the month\n",
      "Getting post data...\n",
      "Done! Time elapsed: 10.93\n",
      "\n",
      "Reddit comments month: 2007-08\n",
      "Downloading file...\n",
      "Extracting file...\n",
      "Removing file...\n",
      "Loading to mongodb...\n"
     ]
    },
    {
     "name": "stderr",
     "output_type": "stream",
     "text": [
      "/home/ubuntu/anaconda3/lib/python3.7/site-packages/ipykernel_launcher.py:6: DeprecationWarning: count is deprecated. Use estimated_document_count or count_documents instead. Please note that $where must be replaced by $expr, $near must be replaced by $geoWithin with $center, and $nearSphere must be replaced by $geoWithin with $centerSphere\n",
      "  \n"
     ]
    },
    {
     "name": "stdout",
     "output_type": "stream",
     "text": [
      "Saving relevant comments...\n"
     ]
    },
    {
     "name": "stderr",
     "output_type": "stream",
     "text": [
      "/home/ubuntu/anaconda3/lib/python3.7/site-packages/ipykernel_launcher.py:22: DeprecationWarning: count is deprecated. Use estimated_document_count or count_documents instead. Please note that $where must be replaced by $expr, $near must be replaced by $geoWithin with $center, and $nearSphere must be replaced by $geoWithin with $centerSphere\n"
     ]
    },
    {
     "name": "stdout",
     "output_type": "stream",
     "text": [
      "6711 comments saved.\n",
      "Dropping comments source collection...\n",
      "There are 1802 distinct posts for the month\n",
      "Getting post data...\n",
      "Done! Time elapsed: 25.52\n",
      "\n",
      "Reddit comments month: 2007-09\n",
      "Downloading file...\n",
      "Extracting file...\n",
      "Removing file...\n",
      "Loading to mongodb...\n"
     ]
    },
    {
     "name": "stderr",
     "output_type": "stream",
     "text": [
      "/home/ubuntu/anaconda3/lib/python3.7/site-packages/ipykernel_launcher.py:6: DeprecationWarning: count is deprecated. Use estimated_document_count or count_documents instead. Please note that $where must be replaced by $expr, $near must be replaced by $geoWithin with $center, and $nearSphere must be replaced by $geoWithin with $centerSphere\n",
      "  \n"
     ]
    },
    {
     "name": "stdout",
     "output_type": "stream",
     "text": [
      "Saving relevant comments...\n"
     ]
    },
    {
     "name": "stderr",
     "output_type": "stream",
     "text": [
      "/home/ubuntu/anaconda3/lib/python3.7/site-packages/ipykernel_launcher.py:22: DeprecationWarning: count is deprecated. Use estimated_document_count or count_documents instead. Please note that $where must be replaced by $expr, $near must be replaced by $geoWithin with $center, and $nearSphere must be replaced by $geoWithin with $centerSphere\n"
     ]
    },
    {
     "name": "stdout",
     "output_type": "stream",
     "text": [
      "11987 comments saved.\n",
      "Dropping comments source collection...\n",
      "There are 2945 distinct posts for the month\n",
      "Getting post data...\n",
      "Done! Time elapsed: 35.11\n",
      "\n",
      "Reddit comments month: 2007-10\n",
      "Downloading file...\n",
      "Extracting file...\n",
      "Removing file...\n",
      "Loading to mongodb...\n"
     ]
    },
    {
     "name": "stderr",
     "output_type": "stream",
     "text": [
      "/home/ubuntu/anaconda3/lib/python3.7/site-packages/ipykernel_launcher.py:6: DeprecationWarning: count is deprecated. Use estimated_document_count or count_documents instead. Please note that $where must be replaced by $expr, $near must be replaced by $geoWithin with $center, and $nearSphere must be replaced by $geoWithin with $centerSphere\n",
      "  \n"
     ]
    },
    {
     "name": "stdout",
     "output_type": "stream",
     "text": [
      "Saving relevant comments...\n"
     ]
    },
    {
     "name": "stderr",
     "output_type": "stream",
     "text": [
      "/home/ubuntu/anaconda3/lib/python3.7/site-packages/ipykernel_launcher.py:22: DeprecationWarning: count is deprecated. Use estimated_document_count or count_documents instead. Please note that $where must be replaced by $expr, $near must be replaced by $geoWithin with $center, and $nearSphere must be replaced by $geoWithin with $centerSphere\n"
     ]
    },
    {
     "name": "stdout",
     "output_type": "stream",
     "text": [
      "19588 comments saved.\n",
      "Dropping comments source collection...\n",
      "There are 5047 distinct posts for the month\n",
      "Getting post data...\n",
      "Done! Time elapsed: 52.98\n",
      "\n",
      "Reddit comments month: 2007-11\n",
      "Downloading file...\n",
      "Extracting file...\n",
      "Removing file...\n",
      "Loading to mongodb...\n"
     ]
    },
    {
     "name": "stderr",
     "output_type": "stream",
     "text": [
      "/home/ubuntu/anaconda3/lib/python3.7/site-packages/ipykernel_launcher.py:6: DeprecationWarning: count is deprecated. Use estimated_document_count or count_documents instead. Please note that $where must be replaced by $expr, $near must be replaced by $geoWithin with $center, and $nearSphere must be replaced by $geoWithin with $centerSphere\n",
      "  \n"
     ]
    },
    {
     "name": "stdout",
     "output_type": "stream",
     "text": [
      "Saving relevant comments...\n"
     ]
    },
    {
     "name": "stderr",
     "output_type": "stream",
     "text": [
      "/home/ubuntu/anaconda3/lib/python3.7/site-packages/ipykernel_launcher.py:22: DeprecationWarning: count is deprecated. Use estimated_document_count or count_documents instead. Please note that $where must be replaced by $expr, $near must be replaced by $geoWithin with $center, and $nearSphere must be replaced by $geoWithin with $centerSphere\n"
     ]
    },
    {
     "name": "stdout",
     "output_type": "stream",
     "text": [
      "34909 comments saved.\n",
      "Dropping comments source collection...\n",
      "There are 8351 distinct posts for the month\n",
      "Getting post data...\n",
      "Done! Time elapsed: 81.71\n",
      "\n",
      "Reddit comments month: 2007-12\n",
      "Downloading file...\n",
      "Extracting file...\n",
      "Removing file...\n",
      "Loading to mongodb...\n"
     ]
    },
    {
     "name": "stderr",
     "output_type": "stream",
     "text": [
      "/home/ubuntu/anaconda3/lib/python3.7/site-packages/ipykernel_launcher.py:6: DeprecationWarning: count is deprecated. Use estimated_document_count or count_documents instead. Please note that $where must be replaced by $expr, $near must be replaced by $geoWithin with $center, and $nearSphere must be replaced by $geoWithin with $centerSphere\n",
      "  \n"
     ]
    },
    {
     "name": "stdout",
     "output_type": "stream",
     "text": [
      "Saving relevant comments...\n"
     ]
    },
    {
     "name": "stderr",
     "output_type": "stream",
     "text": [
      "/home/ubuntu/anaconda3/lib/python3.7/site-packages/ipykernel_launcher.py:22: DeprecationWarning: count is deprecated. Use estimated_document_count or count_documents instead. Please note that $where must be replaced by $expr, $near must be replaced by $geoWithin with $center, and $nearSphere must be replaced by $geoWithin with $centerSphere\n"
     ]
    },
    {
     "name": "stdout",
     "output_type": "stream",
     "text": [
      "38973 comments saved.\n",
      "Dropping comments source collection...\n",
      "There are 7884 distinct posts for the month\n",
      "Getting post data...\n",
      "Done! Time elapsed: 81.16\n",
      "\n",
      "Reddit comments month: 2008-01\n",
      "Downloading file...\n",
      "Extracting file...\n",
      "Removing file...\n",
      "Loading to mongodb...\n"
     ]
    },
    {
     "name": "stderr",
     "output_type": "stream",
     "text": [
      "/home/ubuntu/anaconda3/lib/python3.7/site-packages/ipykernel_launcher.py:6: DeprecationWarning: count is deprecated. Use estimated_document_count or count_documents instead. Please note that $where must be replaced by $expr, $near must be replaced by $geoWithin with $center, and $nearSphere must be replaced by $geoWithin with $centerSphere\n",
      "  \n"
     ]
    },
    {
     "name": "stdout",
     "output_type": "stream",
     "text": [
      "Saving relevant comments...\n"
     ]
    },
    {
     "name": "stderr",
     "output_type": "stream",
     "text": [
      "/home/ubuntu/anaconda3/lib/python3.7/site-packages/ipykernel_launcher.py:22: DeprecationWarning: count is deprecated. Use estimated_document_count or count_documents instead. Please note that $where must be replaced by $expr, $near must be replaced by $geoWithin with $center, and $nearSphere must be replaced by $geoWithin with $centerSphere\n"
     ]
    },
    {
     "name": "stdout",
     "output_type": "stream",
     "text": [
      "51442 comments saved.\n",
      "Dropping comments source collection...\n",
      "There are 10514 distinct posts for the month\n",
      "Getting post data...\n",
      "Done! Time elapsed: 104.27\n",
      "\n",
      "Reddit comments month: 2008-02\n",
      "Downloading file...\n",
      "Extracting file...\n"
     ]
    }
   ],
   "source": [
    "with open('../keys/reddit_appid.txt') as f:\n",
    "    APP_ID = f.read().rstrip()\n",
    "with open('../keys/reddit_secret.txt') as f:\n",
    "    APP_SECRET = f.read().rstrip()\n",
    "reddit = praw.Reddit(client_id=APP_ID,\n",
    "                     client_secret=APP_SECRET,\n",
    "                     user_agent='script:my.project:v1.0.0 (by /u/Someone')\n",
    "\n",
    "\n",
    "# for idx, row in links_df[links_df['downloaded'] == False].iloc[12:13].iterrows():\n",
    "for idx, row in links_df.iloc[10:50].iterrows():\n",
    "    start = time.time()\n",
    "    month = row['month']\n",
    "    url = row['link']\n",
    "    print('Reddit comments month: {}'.format(month))\n",
    "\n",
    "    filename = url[url.rfind('/') + 1:]\n",
    "    s3_url = 's3://aust-galv-aust-finalcap/' + filename\n",
    "    fp, filesize = download_file(s3_url, s3_bucket='aust-galv-aust-finalcap')\n",
    "    mongoinfo = mongo_import(month, fp)\n",
    "\n",
    "    comment_count = filter_comments(mongoinfo)\n",
    "    get_posts(reddit, month)\n",
    "    \n",
    "    links_df.iloc[idx, 2] = True\n",
    "    links_df.iloc[idx, 3] = filesize\n",
    "    links_df.iloc[idx, 4] = comment_count\n",
    "    links_df.to_csv('comment_files/links_dataframe.csv', index=False)\n",
    "\n",
    "    print('Done! Time elapsed: {:1.2f}'.format(time.time() - start))\n",
    "    print('')"
   ]
  },
  {
   "cell_type": "code",
   "execution_count": 26,
   "metadata": {},
   "outputs": [
    {
     "name": "stdout",
     "output_type": "stream",
     "text": [
      "{'datetime': 1230747395.0,\n",
      " 'is_self': False,\n",
      " 'link_id': '7mofk',\n",
      " 'permalink': '/r/politics/comments/7mofk/the_day_israel_used_a_boy_aged_13_as_a_human/',\n",
      " 'score': 86,\n",
      " 'sub': 'politics',\n",
      " 'title': 'The day Israel used a boy aged 13 as a human shield '}\n"
     ]
    }
   ],
   "source": [
    "# client = MongoClient()\n",
    "# db = client['myreddit']\n",
    "# comments = db['comments-{}'.format(month)]\n",
    "\n",
    "# links = ['t3_7mofk']\n",
    "\n",
    "# praw_generator = reddit.info(links)\n",
    "# for submission in praw_generator:\n",
    "#     d = {'link_id': submission.id, \n",
    "#          'title': submission.title, \n",
    "#          'score': submission.score, \n",
    "#          'is_self': submission.is_self, \n",
    "#          'datetime': submission.created_utc, \n",
    "#          'sub': submission.subreddit.display_name, \n",
    "#          'permalink': submission.permalink}\n",
    "#     pprint.pprint(d)"
   ]
  },
  {
   "cell_type": "code",
   "execution_count": 13,
   "metadata": {
    "scrolled": true
   },
   "outputs": [
    {
     "data": {
      "text/html": [
       "<div>\n",
       "<style scoped>\n",
       "    .dataframe tbody tr th:only-of-type {\n",
       "        vertical-align: middle;\n",
       "    }\n",
       "\n",
       "    .dataframe tbody tr th {\n",
       "        vertical-align: top;\n",
       "    }\n",
       "\n",
       "    .dataframe thead th {\n",
       "        text-align: right;\n",
       "    }\n",
       "</style>\n",
       "<table border=\"1\" class=\"dataframe\">\n",
       "  <thead>\n",
       "    <tr style=\"text-align: right;\">\n",
       "      <th></th>\n",
       "      <th>month</th>\n",
       "      <th>link</th>\n",
       "      <th>downloaded</th>\n",
       "      <th>size_in_bytes</th>\n",
       "      <th>comment_count</th>\n",
       "    </tr>\n",
       "  </thead>\n",
       "  <tbody>\n",
       "    <tr>\n",
       "      <td>43</td>\n",
       "      <td>2009-07</td>\n",
       "      <td>https://files.pushshift.io/reddit/comments/RC_...</td>\n",
       "      <td>False</td>\n",
       "      <td>0</td>\n",
       "      <td>0</td>\n",
       "    </tr>\n",
       "  </tbody>\n",
       "</table>\n",
       "</div>"
      ],
      "text/plain": [
       "      month                                               link  downloaded  \\\n",
       "43  2009-07  https://files.pushshift.io/reddit/comments/RC_...       False   \n",
       "\n",
       "    size_in_bytes  comment_count  \n",
       "43              0              0  "
      ]
     },
     "execution_count": 13,
     "metadata": {},
     "output_type": "execute_result"
    }
   ],
   "source": [
    "links_df.iloc[43:44, :]"
   ]
  },
  {
   "cell_type": "code",
   "execution_count": 27,
   "metadata": {},
   "outputs": [
    {
     "name": "stdout",
     "output_type": "stream",
     "text": [
      "Loading to mongodb...\n"
     ]
    },
    {
     "name": "stderr",
     "output_type": "stream",
     "text": [
      "/home/ubuntu/anaconda3/lib/python3.7/site-packages/ipykernel_launcher.py:7: DeprecationWarning: count is deprecated. Use estimated_document_count or count_documents instead. Please note that $where must be replaced by $expr, $near must be replaced by $geoWithin with $center, and $nearSphere must be replaced by $geoWithin with $centerSphere\n",
      "  import sys\n"
     ]
    },
    {
     "data": {
      "text/plain": [
       "3666"
      ]
     },
     "execution_count": 27,
     "metadata": {},
     "output_type": "execute_result"
    }
   ],
   "source": [
    "mongoinfo = mongo_import('2006-01', './comment_files/RC_2006-01.json')\n",
    "\n",
    "client = MongoClient()\n",
    "temp_db = client['reddit']\n",
    "temp_col = temp_db[mongoinfo['collection_name']]\n",
    "\n",
    "temp_col.count()"
   ]
  },
  {
   "cell_type": "code",
   "execution_count": 28,
   "metadata": {},
   "outputs": [
    {
     "data": {
      "text/plain": [
       "{'_id': ObjectId('5e542549d70d406b412f6299'),\n",
       " 'link_id': 't3_22515',\n",
       " 'stickied': False,\n",
       " 'subreddit_id': 't5_6',\n",
       " 'controversiality': 0,\n",
       " 'body': \"Microsoft hates it's own products?\\r\\nWho knew?\",\n",
       " 'author_flair_css_class': None,\n",
       " 'created_utc': 1136078623,\n",
       " 'ups': 2,\n",
       " 'score': 2,\n",
       " 'subreddit': 'reddit.com',\n",
       " 'id': 'c2718',\n",
       " 'parent_id': 't3_22515',\n",
       " 'edited': False,\n",
       " 'author_flair_text': None,\n",
       " 'author': 'Pichu0102',\n",
       " 'retrieved_on': 1473821517,\n",
       " 'distinguished': None,\n",
       " 'gilded': 0}"
      ]
     },
     "execution_count": 28,
     "metadata": {},
     "output_type": "execute_result"
    }
   ],
   "source": [
    "temp_col.find_one()"
   ]
  },
  {
   "cell_type": "code",
   "execution_count": 37,
   "metadata": {},
   "outputs": [
    {
     "name": "stderr",
     "output_type": "stream",
     "text": [
      "/home/ubuntu/anaconda3/lib/python3.7/site-packages/ipykernel_launcher.py:4: DeprecationWarning: count is deprecated. Use estimated_document_count or count_documents instead. Please note that $where must be replaced by $expr, $near must be replaced by $geoWithin with $center, and $nearSphere must be replaced by $geoWithin with $centerSphere\n",
      "  after removing the cwd from sys.path.\n"
     ]
    },
    {
     "data": {
      "text/plain": [
       "128764"
      ]
     },
     "execution_count": 37,
     "metadata": {},
     "output_type": "execute_result"
    }
   ],
   "source": [
    "client = MongoClient()\n",
    "db = client['myreddit']\n",
    "comments = db['comments-2011-08']\n",
    "comments.count()"
   ]
  },
  {
   "cell_type": "code",
   "execution_count": 71,
   "metadata": {
    "scrolled": true
   },
   "outputs": [
    {
     "name": "stdout",
     "output_type": "stream",
     "text": [
      "There are 16462 distinct posts for the month\n",
      "Getting post data...\n"
     ]
    }
   ],
   "source": [
    "get_posts(reddit, month)"
   ]
  },
  {
   "cell_type": "code",
   "execution_count": 72,
   "metadata": {
    "scrolled": true
   },
   "outputs": [
    {
     "data": {
      "text/plain": [
       "{'_id': ObjectId('5e5419474d3ce5d53043c5e0'),\n",
       " 'link_id': 'fnf5q',\n",
       " 'title': 'UW Milwaukee protests- Not as intense as Madison, but we do what we can.',\n",
       " 'score': 12,\n",
       " 'is_self': False,\n",
       " 'datetime': 1297974010.0,\n",
       " 'sub': 'politics',\n",
       " 'permalink': '/r/politics/comments/fnf5q/uw_milwaukee_protests_not_as_intense_as_madison/'}"
      ]
     },
     "execution_count": 72,
     "metadata": {},
     "output_type": "execute_result"
    }
   ],
   "source": [
    "posts.find_one()"
   ]
  },
  {
   "cell_type": "code",
   "execution_count": null,
   "metadata": {},
   "outputs": [],
   "source": []
  }
 ],
 "metadata": {
  "kernelspec": {
   "display_name": "Python 3",
   "language": "python",
   "name": "python3"
  },
  "language_info": {
   "codemirror_mode": {
    "name": "ipython",
    "version": 3
   },
   "file_extension": ".py",
   "mimetype": "text/x-python",
   "name": "python",
   "nbconvert_exporter": "python",
   "pygments_lexer": "ipython3",
   "version": "3.7.4"
  }
 },
 "nbformat": 4,
 "nbformat_minor": 2
}
