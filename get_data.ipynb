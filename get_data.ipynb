{
 "cells": [
  {
   "cell_type": "code",
   "execution_count": 16,
   "metadata": {},
   "outputs": [],
   "source": [
    "import numpy as np\n",
    "import pandas as pd\n",
    "import matplotlib.pyplot as plt\n",
    "from pymongo import MongoClient\n",
    "import json\n",
    "import praw\n",
    "\n",
    "import pprint\n",
    "import bs4 as bs\n",
    "import urllib.request\n",
    "import bz2,shutil\n",
    "\n",
    "import boto3\n",
    "import os\n",
    "import time\n",
    "import subprocess"
   ]
  },
  {
   "cell_type": "code",
   "execution_count": 36,
   "metadata": {
    "scrolled": true
   },
   "outputs": [
    {
     "data": {
      "text/html": [
       "<div>\n",
       "<style scoped>\n",
       "    .dataframe tbody tr th:only-of-type {\n",
       "        vertical-align: middle;\n",
       "    }\n",
       "\n",
       "    .dataframe tbody tr th {\n",
       "        vertical-align: top;\n",
       "    }\n",
       "\n",
       "    .dataframe thead th {\n",
       "        text-align: right;\n",
       "    }\n",
       "</style>\n",
       "<table border=\"1\" class=\"dataframe\">\n",
       "  <thead>\n",
       "    <tr style=\"text-align: right;\">\n",
       "      <th></th>\n",
       "      <th>month</th>\n",
       "      <th>link</th>\n",
       "      <th>downloaded</th>\n",
       "      <th>size_in_bytes</th>\n",
       "      <th>comment_count</th>\n",
       "    </tr>\n",
       "  </thead>\n",
       "  <tbody>\n",
       "    <tr>\n",
       "      <td>0</td>\n",
       "      <td>2005-12</td>\n",
       "      <td>https://files.pushshift.io/reddit/comments/RC_...</td>\n",
       "      <td>False</td>\n",
       "      <td>0</td>\n",
       "      <td>0</td>\n",
       "    </tr>\n",
       "    <tr>\n",
       "      <td>1</td>\n",
       "      <td>2006-01</td>\n",
       "      <td>https://files.pushshift.io/reddit/comments/RC_...</td>\n",
       "      <td>False</td>\n",
       "      <td>0</td>\n",
       "      <td>0</td>\n",
       "    </tr>\n",
       "    <tr>\n",
       "      <td>2</td>\n",
       "      <td>2006-02</td>\n",
       "      <td>https://files.pushshift.io/reddit/comments/RC_...</td>\n",
       "      <td>False</td>\n",
       "      <td>0</td>\n",
       "      <td>0</td>\n",
       "    </tr>\n",
       "    <tr>\n",
       "      <td>3</td>\n",
       "      <td>2006-03</td>\n",
       "      <td>https://files.pushshift.io/reddit/comments/RC_...</td>\n",
       "      <td>False</td>\n",
       "      <td>0</td>\n",
       "      <td>0</td>\n",
       "    </tr>\n",
       "    <tr>\n",
       "      <td>4</td>\n",
       "      <td>2006-04</td>\n",
       "      <td>https://files.pushshift.io/reddit/comments/RC_...</td>\n",
       "      <td>False</td>\n",
       "      <td>0</td>\n",
       "      <td>0</td>\n",
       "    </tr>\n",
       "    <tr>\n",
       "      <td>5</td>\n",
       "      <td>2006-05</td>\n",
       "      <td>https://files.pushshift.io/reddit/comments/RC_...</td>\n",
       "      <td>False</td>\n",
       "      <td>0</td>\n",
       "      <td>0</td>\n",
       "    </tr>\n",
       "    <tr>\n",
       "      <td>6</td>\n",
       "      <td>2006-06</td>\n",
       "      <td>https://files.pushshift.io/reddit/comments/RC_...</td>\n",
       "      <td>False</td>\n",
       "      <td>0</td>\n",
       "      <td>0</td>\n",
       "    </tr>\n",
       "    <tr>\n",
       "      <td>7</td>\n",
       "      <td>2006-07</td>\n",
       "      <td>https://files.pushshift.io/reddit/comments/RC_...</td>\n",
       "      <td>False</td>\n",
       "      <td>0</td>\n",
       "      <td>0</td>\n",
       "    </tr>\n",
       "    <tr>\n",
       "      <td>8</td>\n",
       "      <td>2006-08</td>\n",
       "      <td>https://files.pushshift.io/reddit/comments/RC_...</td>\n",
       "      <td>False</td>\n",
       "      <td>0</td>\n",
       "      <td>0</td>\n",
       "    </tr>\n",
       "    <tr>\n",
       "      <td>9</td>\n",
       "      <td>2006-09</td>\n",
       "      <td>https://files.pushshift.io/reddit/comments/RC_...</td>\n",
       "      <td>False</td>\n",
       "      <td>0</td>\n",
       "      <td>0</td>\n",
       "    </tr>\n",
       "    <tr>\n",
       "      <td>10</td>\n",
       "      <td>2006-10</td>\n",
       "      <td>https://files.pushshift.io/reddit/comments/RC_...</td>\n",
       "      <td>False</td>\n",
       "      <td>0</td>\n",
       "      <td>0</td>\n",
       "    </tr>\n",
       "    <tr>\n",
       "      <td>11</td>\n",
       "      <td>2006-11</td>\n",
       "      <td>https://files.pushshift.io/reddit/comments/RC_...</td>\n",
       "      <td>False</td>\n",
       "      <td>0</td>\n",
       "      <td>0</td>\n",
       "    </tr>\n",
       "    <tr>\n",
       "      <td>12</td>\n",
       "      <td>2006-12</td>\n",
       "      <td>https://files.pushshift.io/reddit/comments/RC_...</td>\n",
       "      <td>False</td>\n",
       "      <td>0</td>\n",
       "      <td>0</td>\n",
       "    </tr>\n",
       "    <tr>\n",
       "      <td>13</td>\n",
       "      <td>2007-01</td>\n",
       "      <td>https://files.pushshift.io/reddit/comments/RC_...</td>\n",
       "      <td>False</td>\n",
       "      <td>0</td>\n",
       "      <td>0</td>\n",
       "    </tr>\n",
       "    <tr>\n",
       "      <td>14</td>\n",
       "      <td>2007-02</td>\n",
       "      <td>https://files.pushshift.io/reddit/comments/RC_...</td>\n",
       "      <td>False</td>\n",
       "      <td>0</td>\n",
       "      <td>0</td>\n",
       "    </tr>\n",
       "  </tbody>\n",
       "</table>\n",
       "</div>"
      ],
      "text/plain": [
       "      month                                               link  downloaded  \\\n",
       "0   2005-12  https://files.pushshift.io/reddit/comments/RC_...       False   \n",
       "1   2006-01  https://files.pushshift.io/reddit/comments/RC_...       False   \n",
       "2   2006-02  https://files.pushshift.io/reddit/comments/RC_...       False   \n",
       "3   2006-03  https://files.pushshift.io/reddit/comments/RC_...       False   \n",
       "4   2006-04  https://files.pushshift.io/reddit/comments/RC_...       False   \n",
       "5   2006-05  https://files.pushshift.io/reddit/comments/RC_...       False   \n",
       "6   2006-06  https://files.pushshift.io/reddit/comments/RC_...       False   \n",
       "7   2006-07  https://files.pushshift.io/reddit/comments/RC_...       False   \n",
       "8   2006-08  https://files.pushshift.io/reddit/comments/RC_...       False   \n",
       "9   2006-09  https://files.pushshift.io/reddit/comments/RC_...       False   \n",
       "10  2006-10  https://files.pushshift.io/reddit/comments/RC_...       False   \n",
       "11  2006-11  https://files.pushshift.io/reddit/comments/RC_...       False   \n",
       "12  2006-12  https://files.pushshift.io/reddit/comments/RC_...       False   \n",
       "13  2007-01  https://files.pushshift.io/reddit/comments/RC_...       False   \n",
       "14  2007-02  https://files.pushshift.io/reddit/comments/RC_...       False   \n",
       "\n",
       "    size_in_bytes  comment_count  \n",
       "0               0              0  \n",
       "1               0              0  \n",
       "2               0              0  \n",
       "3               0              0  \n",
       "4               0              0  \n",
       "5               0              0  \n",
       "6               0              0  \n",
       "7               0              0  \n",
       "8               0              0  \n",
       "9               0              0  \n",
       "10              0              0  \n",
       "11              0              0  \n",
       "12              0              0  \n",
       "13              0              0  \n",
       "14              0              0  "
      ]
     },
     "execution_count": 36,
     "metadata": {},
     "output_type": "execute_result"
    }
   ],
   "source": [
    "# Retrieve download links\n",
    "\n",
    "links_df = pd.read_csv('comment_files/links_dataframe.csv')\n",
    "links_df.head(15)"
   ]
  },
  {
   "cell_type": "code",
   "execution_count": 41,
   "metadata": {
    "scrolled": true
   },
   "outputs": [
    {
     "name": "stdout",
     "output_type": "stream",
     "text": [
      "Reddit comments month: 2008-04\n",
      "Downloading file...\n",
      "Extracting file...\n",
      "Removing file...\n",
      "Loading to mongodb...\n"
     ]
    },
    {
     "name": "stderr",
     "output_type": "stream",
     "text": [
      "/home/ubuntu/anaconda3/lib/python3.7/site-packages/ipykernel_launcher.py:6: DeprecationWarning: count is deprecated. Use estimated_document_count or count_documents instead. Please note that $where must be replaced by $expr, $near must be replaced by $geoWithin with $center, and $nearSphere must be replaced by $geoWithin with $centerSphere\n",
      "  \n"
     ]
    },
    {
     "name": "stdout",
     "output_type": "stream",
     "text": [
      "Saving relevant comments...\n"
     ]
    },
    {
     "name": "stderr",
     "output_type": "stream",
     "text": [
      "/home/ubuntu/anaconda3/lib/python3.7/site-packages/ipykernel_launcher.py:22: DeprecationWarning: count is deprecated. Use estimated_document_count or count_documents instead. Please note that $where must be replaced by $expr, $near must be replaced by $geoWithin with $center, and $nearSphere must be replaced by $geoWithin with $centerSphere\n"
     ]
    },
    {
     "name": "stdout",
     "output_type": "stream",
     "text": [
      "33657 comments saved.\n",
      "Dropping comments source collection...\n",
      "Done! Time elapsed: 32.40\n",
      "\n",
      "Reddit comments month: 2008-05\n",
      "Downloading file...\n",
      "Extracting file...\n",
      "Removing file...\n",
      "Loading to mongodb...\n"
     ]
    },
    {
     "name": "stderr",
     "output_type": "stream",
     "text": [
      "/home/ubuntu/anaconda3/lib/python3.7/site-packages/ipykernel_launcher.py:6: DeprecationWarning: count is deprecated. Use estimated_document_count or count_documents instead. Please note that $where must be replaced by $expr, $near must be replaced by $geoWithin with $center, and $nearSphere must be replaced by $geoWithin with $centerSphere\n",
      "  \n"
     ]
    },
    {
     "name": "stdout",
     "output_type": "stream",
     "text": [
      "Saving relevant comments...\n"
     ]
    },
    {
     "name": "stderr",
     "output_type": "stream",
     "text": [
      "/home/ubuntu/anaconda3/lib/python3.7/site-packages/ipykernel_launcher.py:22: DeprecationWarning: count is deprecated. Use estimated_document_count or count_documents instead. Please note that $where must be replaced by $expr, $near must be replaced by $geoWithin with $center, and $nearSphere must be replaced by $geoWithin with $centerSphere\n"
     ]
    },
    {
     "name": "stdout",
     "output_type": "stream",
     "text": [
      "38822 comments saved.\n",
      "Dropping comments source collection...\n",
      "Done! Time elapsed: 36.41\n",
      "\n",
      "Reddit comments month: 2008-06\n",
      "Downloading file...\n",
      "Extracting file...\n",
      "Removing file...\n",
      "Loading to mongodb...\n"
     ]
    },
    {
     "name": "stderr",
     "output_type": "stream",
     "text": [
      "/home/ubuntu/anaconda3/lib/python3.7/site-packages/ipykernel_launcher.py:6: DeprecationWarning: count is deprecated. Use estimated_document_count or count_documents instead. Please note that $where must be replaced by $expr, $near must be replaced by $geoWithin with $center, and $nearSphere must be replaced by $geoWithin with $centerSphere\n",
      "  \n"
     ]
    },
    {
     "name": "stdout",
     "output_type": "stream",
     "text": [
      "Saving relevant comments...\n"
     ]
    },
    {
     "name": "stderr",
     "output_type": "stream",
     "text": [
      "/home/ubuntu/anaconda3/lib/python3.7/site-packages/ipykernel_launcher.py:22: DeprecationWarning: count is deprecated. Use estimated_document_count or count_documents instead. Please note that $where must be replaced by $expr, $near must be replaced by $geoWithin with $center, and $nearSphere must be replaced by $geoWithin with $centerSphere\n"
     ]
    },
    {
     "name": "stdout",
     "output_type": "stream",
     "text": [
      "40616 comments saved.\n",
      "Dropping comments source collection...\n",
      "Done! Time elapsed: 39.12\n",
      "\n",
      "Reddit comments month: 2008-07\n",
      "Downloading file...\n",
      "Extracting file...\n",
      "Removing file...\n",
      "Loading to mongodb...\n"
     ]
    },
    {
     "name": "stderr",
     "output_type": "stream",
     "text": [
      "/home/ubuntu/anaconda3/lib/python3.7/site-packages/ipykernel_launcher.py:6: DeprecationWarning: count is deprecated. Use estimated_document_count or count_documents instead. Please note that $where must be replaced by $expr, $near must be replaced by $geoWithin with $center, and $nearSphere must be replaced by $geoWithin with $centerSphere\n",
      "  \n"
     ]
    },
    {
     "name": "stdout",
     "output_type": "stream",
     "text": [
      "Saving relevant comments...\n"
     ]
    },
    {
     "name": "stderr",
     "output_type": "stream",
     "text": [
      "/home/ubuntu/anaconda3/lib/python3.7/site-packages/ipykernel_launcher.py:22: DeprecationWarning: count is deprecated. Use estimated_document_count or count_documents instead. Please note that $where must be replaced by $expr, $near must be replaced by $geoWithin with $center, and $nearSphere must be replaced by $geoWithin with $centerSphere\n"
     ]
    },
    {
     "name": "stdout",
     "output_type": "stream",
     "text": [
      "39727 comments saved.\n",
      "Dropping comments source collection...\n",
      "Done! Time elapsed: 39.61\n",
      "\n",
      "Reddit comments month: 2008-08\n",
      "Downloading file...\n",
      "Extracting file...\n",
      "Removing file...\n",
      "Loading to mongodb...\n"
     ]
    },
    {
     "name": "stderr",
     "output_type": "stream",
     "text": [
      "/home/ubuntu/anaconda3/lib/python3.7/site-packages/ipykernel_launcher.py:6: DeprecationWarning: count is deprecated. Use estimated_document_count or count_documents instead. Please note that $where must be replaced by $expr, $near must be replaced by $geoWithin with $center, and $nearSphere must be replaced by $geoWithin with $centerSphere\n",
      "  \n"
     ]
    },
    {
     "name": "stdout",
     "output_type": "stream",
     "text": [
      "Saving relevant comments...\n"
     ]
    },
    {
     "name": "stderr",
     "output_type": "stream",
     "text": [
      "/home/ubuntu/anaconda3/lib/python3.7/site-packages/ipykernel_launcher.py:22: DeprecationWarning: count is deprecated. Use estimated_document_count or count_documents instead. Please note that $where must be replaced by $expr, $near must be replaced by $geoWithin with $center, and $nearSphere must be replaced by $geoWithin with $centerSphere\n"
     ]
    },
    {
     "name": "stdout",
     "output_type": "stream",
     "text": [
      "43133 comments saved.\n",
      "Dropping comments source collection...\n",
      "Done! Time elapsed: 40.51\n",
      "\n",
      "Reddit comments month: 2008-09\n",
      "Downloading file...\n",
      "Extracting file...\n",
      "Removing file...\n",
      "Loading to mongodb...\n"
     ]
    },
    {
     "name": "stderr",
     "output_type": "stream",
     "text": [
      "/home/ubuntu/anaconda3/lib/python3.7/site-packages/ipykernel_launcher.py:6: DeprecationWarning: count is deprecated. Use estimated_document_count or count_documents instead. Please note that $where must be replaced by $expr, $near must be replaced by $geoWithin with $center, and $nearSphere must be replaced by $geoWithin with $centerSphere\n",
      "  \n"
     ]
    },
    {
     "name": "stdout",
     "output_type": "stream",
     "text": [
      "Saving relevant comments...\n"
     ]
    },
    {
     "name": "stderr",
     "output_type": "stream",
     "text": [
      "/home/ubuntu/anaconda3/lib/python3.7/site-packages/ipykernel_launcher.py:22: DeprecationWarning: count is deprecated. Use estimated_document_count or count_documents instead. Please note that $where must be replaced by $expr, $near must be replaced by $geoWithin with $center, and $nearSphere must be replaced by $geoWithin with $centerSphere\n"
     ]
    },
    {
     "name": "stdout",
     "output_type": "stream",
     "text": [
      "64734 comments saved.\n",
      "Dropping comments source collection...\n",
      "Done! Time elapsed: 49.90\n",
      "\n",
      "Reddit comments month: 2008-10\n",
      "Downloading file...\n",
      "Extracting file...\n",
      "Removing file...\n",
      "Loading to mongodb...\n"
     ]
    },
    {
     "name": "stderr",
     "output_type": "stream",
     "text": [
      "/home/ubuntu/anaconda3/lib/python3.7/site-packages/ipykernel_launcher.py:6: DeprecationWarning: count is deprecated. Use estimated_document_count or count_documents instead. Please note that $where must be replaced by $expr, $near must be replaced by $geoWithin with $center, and $nearSphere must be replaced by $geoWithin with $centerSphere\n",
      "  \n"
     ]
    },
    {
     "name": "stdout",
     "output_type": "stream",
     "text": [
      "Saving relevant comments...\n"
     ]
    },
    {
     "name": "stderr",
     "output_type": "stream",
     "text": [
      "/home/ubuntu/anaconda3/lib/python3.7/site-packages/ipykernel_launcher.py:22: DeprecationWarning: count is deprecated. Use estimated_document_count or count_documents instead. Please note that $where must be replaced by $expr, $near must be replaced by $geoWithin with $center, and $nearSphere must be replaced by $geoWithin with $centerSphere\n"
     ]
    },
    {
     "name": "stdout",
     "output_type": "stream",
     "text": [
      "75854 comments saved.\n",
      "Dropping comments source collection...\n",
      "Done! Time elapsed: 57.48\n",
      "\n",
      "Reddit comments month: 2008-11\n",
      "Downloading file...\n",
      "Extracting file...\n",
      "Removing file...\n",
      "Loading to mongodb...\n"
     ]
    },
    {
     "name": "stderr",
     "output_type": "stream",
     "text": [
      "/home/ubuntu/anaconda3/lib/python3.7/site-packages/ipykernel_launcher.py:6: DeprecationWarning: count is deprecated. Use estimated_document_count or count_documents instead. Please note that $where must be replaced by $expr, $near must be replaced by $geoWithin with $center, and $nearSphere must be replaced by $geoWithin with $centerSphere\n",
      "  \n"
     ]
    },
    {
     "name": "stdout",
     "output_type": "stream",
     "text": [
      "Saving relevant comments...\n"
     ]
    },
    {
     "name": "stderr",
     "output_type": "stream",
     "text": [
      "/home/ubuntu/anaconda3/lib/python3.7/site-packages/ipykernel_launcher.py:22: DeprecationWarning: count is deprecated. Use estimated_document_count or count_documents instead. Please note that $where must be replaced by $expr, $near must be replaced by $geoWithin with $center, and $nearSphere must be replaced by $geoWithin with $centerSphere\n"
     ]
    },
    {
     "name": "stdout",
     "output_type": "stream",
     "text": [
      "58437 comments saved.\n",
      "Dropping comments source collection...\n",
      "Done! Time elapsed: 53.10\n",
      "\n",
      "Reddit comments month: 2008-12\n",
      "Downloading file...\n",
      "Extracting file...\n",
      "Removing file...\n",
      "Loading to mongodb...\n"
     ]
    },
    {
     "name": "stderr",
     "output_type": "stream",
     "text": [
      "/home/ubuntu/anaconda3/lib/python3.7/site-packages/ipykernel_launcher.py:6: DeprecationWarning: count is deprecated. Use estimated_document_count or count_documents instead. Please note that $where must be replaced by $expr, $near must be replaced by $geoWithin with $center, and $nearSphere must be replaced by $geoWithin with $centerSphere\n",
      "  \n"
     ]
    },
    {
     "name": "stdout",
     "output_type": "stream",
     "text": [
      "Saving relevant comments...\n"
     ]
    },
    {
     "name": "stderr",
     "output_type": "stream",
     "text": [
      "/home/ubuntu/anaconda3/lib/python3.7/site-packages/ipykernel_launcher.py:22: DeprecationWarning: count is deprecated. Use estimated_document_count or count_documents instead. Please note that $where must be replaced by $expr, $near must be replaced by $geoWithin with $center, and $nearSphere must be replaced by $geoWithin with $centerSphere\n"
     ]
    },
    {
     "name": "stdout",
     "output_type": "stream",
     "text": [
      "38986 comments saved.\n",
      "Dropping comments source collection...\n",
      "Done! Time elapsed: 51.94\n",
      "\n",
      "Reddit comments month: 2009-01\n",
      "Downloading file...\n",
      "Extracting file...\n",
      "Removing file...\n",
      "Loading to mongodb...\n"
     ]
    },
    {
     "name": "stderr",
     "output_type": "stream",
     "text": [
      "/home/ubuntu/anaconda3/lib/python3.7/site-packages/ipykernel_launcher.py:6: DeprecationWarning: count is deprecated. Use estimated_document_count or count_documents instead. Please note that $where must be replaced by $expr, $near must be replaced by $geoWithin with $center, and $nearSphere must be replaced by $geoWithin with $centerSphere\n",
      "  \n"
     ]
    },
    {
     "name": "stdout",
     "output_type": "stream",
     "text": [
      "Saving relevant comments...\n"
     ]
    },
    {
     "name": "stderr",
     "output_type": "stream",
     "text": [
      "/home/ubuntu/anaconda3/lib/python3.7/site-packages/ipykernel_launcher.py:22: DeprecationWarning: count is deprecated. Use estimated_document_count or count_documents instead. Please note that $where must be replaced by $expr, $near must be replaced by $geoWithin with $center, and $nearSphere must be replaced by $geoWithin with $centerSphere\n"
     ]
    },
    {
     "name": "stdout",
     "output_type": "stream",
     "text": [
      "54797 comments saved.\n",
      "Dropping comments source collection...\n",
      "Done! Time elapsed: 65.84\n",
      "\n",
      "Reddit comments month: 2009-02\n",
      "Downloading file...\n",
      "Extracting file...\n",
      "Removing file...\n",
      "Loading to mongodb...\n"
     ]
    },
    {
     "name": "stderr",
     "output_type": "stream",
     "text": [
      "/home/ubuntu/anaconda3/lib/python3.7/site-packages/ipykernel_launcher.py:6: DeprecationWarning: count is deprecated. Use estimated_document_count or count_documents instead. Please note that $where must be replaced by $expr, $near must be replaced by $geoWithin with $center, and $nearSphere must be replaced by $geoWithin with $centerSphere\n",
      "  \n"
     ]
    },
    {
     "name": "stdout",
     "output_type": "stream",
     "text": [
      "Saving relevant comments...\n"
     ]
    },
    {
     "name": "stderr",
     "output_type": "stream",
     "text": [
      "/home/ubuntu/anaconda3/lib/python3.7/site-packages/ipykernel_launcher.py:22: DeprecationWarning: count is deprecated. Use estimated_document_count or count_documents instead. Please note that $where must be replaced by $expr, $near must be replaced by $geoWithin with $center, and $nearSphere must be replaced by $geoWithin with $centerSphere\n"
     ]
    },
    {
     "name": "stdout",
     "output_type": "stream",
     "text": [
      "44438 comments saved.\n",
      "Dropping comments source collection...\n",
      "Done! Time elapsed: 58.42\n",
      "\n",
      "Reddit comments month: 2009-03\n",
      "Downloading file...\n",
      "Extracting file...\n",
      "Removing file...\n",
      "Loading to mongodb...\n"
     ]
    },
    {
     "name": "stderr",
     "output_type": "stream",
     "text": [
      "/home/ubuntu/anaconda3/lib/python3.7/site-packages/ipykernel_launcher.py:6: DeprecationWarning: count is deprecated. Use estimated_document_count or count_documents instead. Please note that $where must be replaced by $expr, $near must be replaced by $geoWithin with $center, and $nearSphere must be replaced by $geoWithin with $centerSphere\n",
      "  \n"
     ]
    },
    {
     "name": "stdout",
     "output_type": "stream",
     "text": [
      "Saving relevant comments...\n"
     ]
    },
    {
     "name": "stderr",
     "output_type": "stream",
     "text": [
      "/home/ubuntu/anaconda3/lib/python3.7/site-packages/ipykernel_launcher.py:22: DeprecationWarning: count is deprecated. Use estimated_document_count or count_documents instead. Please note that $where must be replaced by $expr, $near must be replaced by $geoWithin with $center, and $nearSphere must be replaced by $geoWithin with $centerSphere\n"
     ]
    },
    {
     "name": "stdout",
     "output_type": "stream",
     "text": [
      "47157 comments saved.\n",
      "Dropping comments source collection...\n",
      "Done! Time elapsed: 64.54\n",
      "\n",
      "Reddit comments month: 2009-04\n",
      "Downloading file...\n",
      "Extracting file...\n",
      "Removing file...\n",
      "Loading to mongodb...\n"
     ]
    },
    {
     "name": "stderr",
     "output_type": "stream",
     "text": [
      "/home/ubuntu/anaconda3/lib/python3.7/site-packages/ipykernel_launcher.py:6: DeprecationWarning: count is deprecated. Use estimated_document_count or count_documents instead. Please note that $where must be replaced by $expr, $near must be replaced by $geoWithin with $center, and $nearSphere must be replaced by $geoWithin with $centerSphere\n",
      "  \n"
     ]
    },
    {
     "name": "stdout",
     "output_type": "stream",
     "text": [
      "Saving relevant comments...\n"
     ]
    },
    {
     "name": "stderr",
     "output_type": "stream",
     "text": [
      "/home/ubuntu/anaconda3/lib/python3.7/site-packages/ipykernel_launcher.py:22: DeprecationWarning: count is deprecated. Use estimated_document_count or count_documents instead. Please note that $where must be replaced by $expr, $near must be replaced by $geoWithin with $center, and $nearSphere must be replaced by $geoWithin with $centerSphere\n"
     ]
    },
    {
     "name": "stdout",
     "output_type": "stream",
     "text": [
      "45700 comments saved.\n",
      "Dropping comments source collection...\n",
      "Done! Time elapsed: 66.78\n",
      "\n",
      "Reddit comments month: 2009-05\n",
      "Downloading file...\n",
      "Extracting file...\n",
      "Removing file...\n",
      "Loading to mongodb...\n"
     ]
    },
    {
     "name": "stderr",
     "output_type": "stream",
     "text": [
      "/home/ubuntu/anaconda3/lib/python3.7/site-packages/ipykernel_launcher.py:6: DeprecationWarning: count is deprecated. Use estimated_document_count or count_documents instead. Please note that $where must be replaced by $expr, $near must be replaced by $geoWithin with $center, and $nearSphere must be replaced by $geoWithin with $centerSphere\n",
      "  \n"
     ]
    },
    {
     "name": "stdout",
     "output_type": "stream",
     "text": [
      "Saving relevant comments...\n"
     ]
    },
    {
     "name": "stderr",
     "output_type": "stream",
     "text": [
      "/home/ubuntu/anaconda3/lib/python3.7/site-packages/ipykernel_launcher.py:22: DeprecationWarning: count is deprecated. Use estimated_document_count or count_documents instead. Please note that $where must be replaced by $expr, $near must be replaced by $geoWithin with $center, and $nearSphere must be replaced by $geoWithin with $centerSphere\n"
     ]
    },
    {
     "name": "stdout",
     "output_type": "stream",
     "text": [
      "44318 comments saved.\n",
      "Dropping comments source collection...\n",
      "Done! Time elapsed: 73.12\n",
      "\n",
      "Reddit comments month: 2009-06\n",
      "Downloading file...\n",
      "Extracting file...\n",
      "Removing file...\n",
      "Loading to mongodb...\n"
     ]
    },
    {
     "name": "stderr",
     "output_type": "stream",
     "text": [
      "/home/ubuntu/anaconda3/lib/python3.7/site-packages/ipykernel_launcher.py:6: DeprecationWarning: count is deprecated. Use estimated_document_count or count_documents instead. Please note that $where must be replaced by $expr, $near must be replaced by $geoWithin with $center, and $nearSphere must be replaced by $geoWithin with $centerSphere\n",
      "  \n"
     ]
    },
    {
     "name": "stdout",
     "output_type": "stream",
     "text": [
      "Saving relevant comments...\n"
     ]
    },
    {
     "name": "stderr",
     "output_type": "stream",
     "text": [
      "/home/ubuntu/anaconda3/lib/python3.7/site-packages/ipykernel_launcher.py:22: DeprecationWarning: count is deprecated. Use estimated_document_count or count_documents instead. Please note that $where must be replaced by $expr, $near must be replaced by $geoWithin with $center, and $nearSphere must be replaced by $geoWithin with $centerSphere\n"
     ]
    },
    {
     "name": "stdout",
     "output_type": "stream",
     "text": [
      "50264 comments saved.\n",
      "Dropping comments source collection...\n",
      "Done! Time elapsed: 77.42\n",
      "\n",
      "Reddit comments month: 2009-07\n",
      "Downloading file...\n",
      "Extracting file...\n",
      "Removing file...\n",
      "Loading to mongodb...\n"
     ]
    },
    {
     "name": "stderr",
     "output_type": "stream",
     "text": [
      "/home/ubuntu/anaconda3/lib/python3.7/site-packages/ipykernel_launcher.py:6: DeprecationWarning: count is deprecated. Use estimated_document_count or count_documents instead. Please note that $where must be replaced by $expr, $near must be replaced by $geoWithin with $center, and $nearSphere must be replaced by $geoWithin with $centerSphere\n",
      "  \n"
     ]
    },
    {
     "name": "stdout",
     "output_type": "stream",
     "text": [
      "Saving relevant comments...\n"
     ]
    },
    {
     "name": "stderr",
     "output_type": "stream",
     "text": [
      "/home/ubuntu/anaconda3/lib/python3.7/site-packages/ipykernel_launcher.py:22: DeprecationWarning: count is deprecated. Use estimated_document_count or count_documents instead. Please note that $where must be replaced by $expr, $near must be replaced by $geoWithin with $center, and $nearSphere must be replaced by $geoWithin with $centerSphere\n"
     ]
    },
    {
     "name": "stdout",
     "output_type": "stream",
     "text": [
      "51657 comments saved.\n",
      "Dropping comments source collection...\n",
      "Done! Time elapsed: 88.42\n",
      "\n",
      "Reddit comments month: 2009-08\n",
      "Downloading file...\n",
      "Extracting file...\n",
      "Removing file...\n",
      "Loading to mongodb...\n"
     ]
    },
    {
     "name": "stderr",
     "output_type": "stream",
     "text": [
      "/home/ubuntu/anaconda3/lib/python3.7/site-packages/ipykernel_launcher.py:6: DeprecationWarning: count is deprecated. Use estimated_document_count or count_documents instead. Please note that $where must be replaced by $expr, $near must be replaced by $geoWithin with $center, and $nearSphere must be replaced by $geoWithin with $centerSphere\n",
      "  \n"
     ]
    },
    {
     "name": "stdout",
     "output_type": "stream",
     "text": [
      "Saving relevant comments...\n"
     ]
    },
    {
     "name": "stderr",
     "output_type": "stream",
     "text": [
      "/home/ubuntu/anaconda3/lib/python3.7/site-packages/ipykernel_launcher.py:22: DeprecationWarning: count is deprecated. Use estimated_document_count or count_documents instead. Please note that $where must be replaced by $expr, $near must be replaced by $geoWithin with $center, and $nearSphere must be replaced by $geoWithin with $centerSphere\n"
     ]
    },
    {
     "name": "stdout",
     "output_type": "stream",
     "text": [
      "60092 comments saved.\n",
      "Dropping comments source collection...\n",
      "Done! Time elapsed: 105.63\n",
      "\n",
      "Reddit comments month: 2009-09\n",
      "Downloading file...\n",
      "Extracting file...\n",
      "Removing file...\n",
      "Loading to mongodb...\n"
     ]
    },
    {
     "name": "stderr",
     "output_type": "stream",
     "text": [
      "/home/ubuntu/anaconda3/lib/python3.7/site-packages/ipykernel_launcher.py:6: DeprecationWarning: count is deprecated. Use estimated_document_count or count_documents instead. Please note that $where must be replaced by $expr, $near must be replaced by $geoWithin with $center, and $nearSphere must be replaced by $geoWithin with $centerSphere\n",
      "  \n"
     ]
    },
    {
     "name": "stdout",
     "output_type": "stream",
     "text": [
      "Saving relevant comments...\n"
     ]
    },
    {
     "name": "stderr",
     "output_type": "stream",
     "text": [
      "/home/ubuntu/anaconda3/lib/python3.7/site-packages/ipykernel_launcher.py:22: DeprecationWarning: count is deprecated. Use estimated_document_count or count_documents instead. Please note that $where must be replaced by $expr, $near must be replaced by $geoWithin with $center, and $nearSphere must be replaced by $geoWithin with $centerSphere\n"
     ]
    },
    {
     "name": "stdout",
     "output_type": "stream",
     "text": [
      "66279 comments saved.\n",
      "Dropping comments source collection...\n",
      "Done! Time elapsed: 119.23\n",
      "\n",
      "Reddit comments month: 2009-10\n",
      "Downloading file...\n",
      "Extracting file...\n",
      "Removing file...\n",
      "Loading to mongodb...\n"
     ]
    },
    {
     "name": "stderr",
     "output_type": "stream",
     "text": [
      "/home/ubuntu/anaconda3/lib/python3.7/site-packages/ipykernel_launcher.py:6: DeprecationWarning: count is deprecated. Use estimated_document_count or count_documents instead. Please note that $where must be replaced by $expr, $near must be replaced by $geoWithin with $center, and $nearSphere must be replaced by $geoWithin with $centerSphere\n",
      "  \n"
     ]
    },
    {
     "name": "stdout",
     "output_type": "stream",
     "text": [
      "Saving relevant comments...\n"
     ]
    },
    {
     "name": "stderr",
     "output_type": "stream",
     "text": [
      "/home/ubuntu/anaconda3/lib/python3.7/site-packages/ipykernel_launcher.py:22: DeprecationWarning: count is deprecated. Use estimated_document_count or count_documents instead. Please note that $where must be replaced by $expr, $near must be replaced by $geoWithin with $center, and $nearSphere must be replaced by $geoWithin with $centerSphere\n"
     ]
    },
    {
     "name": "stdout",
     "output_type": "stream",
     "text": [
      "59790 comments saved.\n",
      "Dropping comments source collection...\n",
      "Done! Time elapsed: 131.45\n",
      "\n",
      "Reddit comments month: 2009-11\n",
      "Downloading file...\n",
      "Extracting file...\n",
      "Removing file...\n",
      "Loading to mongodb...\n"
     ]
    },
    {
     "name": "stderr",
     "output_type": "stream",
     "text": [
      "/home/ubuntu/anaconda3/lib/python3.7/site-packages/ipykernel_launcher.py:6: DeprecationWarning: count is deprecated. Use estimated_document_count or count_documents instead. Please note that $where must be replaced by $expr, $near must be replaced by $geoWithin with $center, and $nearSphere must be replaced by $geoWithin with $centerSphere\n",
      "  \n"
     ]
    },
    {
     "name": "stdout",
     "output_type": "stream",
     "text": [
      "Saving relevant comments...\n"
     ]
    },
    {
     "name": "stderr",
     "output_type": "stream",
     "text": [
      "/home/ubuntu/anaconda3/lib/python3.7/site-packages/ipykernel_launcher.py:22: DeprecationWarning: count is deprecated. Use estimated_document_count or count_documents instead. Please note that $where must be replaced by $expr, $near must be replaced by $geoWithin with $center, and $nearSphere must be replaced by $geoWithin with $centerSphere\n"
     ]
    },
    {
     "name": "stdout",
     "output_type": "stream",
     "text": [
      "58464 comments saved.\n",
      "Dropping comments source collection...\n",
      "Done! Time elapsed: 128.07\n",
      "\n",
      "Reddit comments month: 2009-12\n",
      "Downloading file...\n",
      "Extracting file...\n",
      "Removing file...\n",
      "Loading to mongodb...\n"
     ]
    },
    {
     "name": "stderr",
     "output_type": "stream",
     "text": [
      "/home/ubuntu/anaconda3/lib/python3.7/site-packages/ipykernel_launcher.py:6: DeprecationWarning: count is deprecated. Use estimated_document_count or count_documents instead. Please note that $where must be replaced by $expr, $near must be replaced by $geoWithin with $center, and $nearSphere must be replaced by $geoWithin with $centerSphere\n",
      "  \n"
     ]
    },
    {
     "name": "stdout",
     "output_type": "stream",
     "text": [
      "Saving relevant comments...\n"
     ]
    },
    {
     "name": "stderr",
     "output_type": "stream",
     "text": [
      "/home/ubuntu/anaconda3/lib/python3.7/site-packages/ipykernel_launcher.py:22: DeprecationWarning: count is deprecated. Use estimated_document_count or count_documents instead. Please note that $where must be replaced by $expr, $near must be replaced by $geoWithin with $center, and $nearSphere must be replaced by $geoWithin with $centerSphere\n"
     ]
    },
    {
     "name": "stdout",
     "output_type": "stream",
     "text": [
      "64031 comments saved.\n",
      "Dropping comments source collection...\n",
      "Done! Time elapsed: 147.48\n",
      "\n",
      "Reddit comments month: 2010-01\n",
      "Downloading file...\n",
      "Extracting file...\n",
      "Removing file...\n",
      "Loading to mongodb...\n"
     ]
    },
    {
     "name": "stderr",
     "output_type": "stream",
     "text": [
      "/home/ubuntu/anaconda3/lib/python3.7/site-packages/ipykernel_launcher.py:6: DeprecationWarning: count is deprecated. Use estimated_document_count or count_documents instead. Please note that $where must be replaced by $expr, $near must be replaced by $geoWithin with $center, and $nearSphere must be replaced by $geoWithin with $centerSphere\n",
      "  \n"
     ]
    },
    {
     "name": "stdout",
     "output_type": "stream",
     "text": [
      "Saving relevant comments...\n",
      "72100 comments saved.\n",
      "Dropping comments source collection...\n",
      "Done! Time elapsed: 166.33\n",
      "\n"
     ]
    },
    {
     "name": "stderr",
     "output_type": "stream",
     "text": [
      "/home/ubuntu/anaconda3/lib/python3.7/site-packages/ipykernel_launcher.py:22: DeprecationWarning: count is deprecated. Use estimated_document_count or count_documents instead. Please note that $where must be replaced by $expr, $near must be replaced by $geoWithin with $center, and $nearSphere must be replaced by $geoWithin with $centerSphere\n"
     ]
    }
   ],
   "source": [
    "with open('../keys/reddit_appid.txt') as f:\n",
    "    APP_ID = f.read().rstrip()\n",
    "with open('../keys/reddit_secret.txt') as f:\n",
    "    APP_SECRET = f.read().rstrip()\n",
    "reddit = praw.Reddit(client_id=APP_ID,\n",
    "                     client_secret=APP_SECRET,\n",
    "                     user_agent='script:my.project:v1.0.0 (by /u/Someone')\n",
    "\n",
    "\n",
    "# for idx, row in links_df[links_df['downloaded'] == False].iloc[12:13].iterrows():\n",
    "for idx, row in links_df.iloc[28:50].iterrows():\n",
    "    start = time.time()\n",
    "    month = row['month']\n",
    "    url = row['link']\n",
    "    print('Reddit comments month: {}'.format(month))\n",
    "\n",
    "    filename = url[url.rfind('/') + 1:]\n",
    "    s3_url = 's3://aust-galv-aust-finalcap/' + filename\n",
    "    fp, filesize = download_file(s3_url, s3_bucket='aust-galv-aust-finalcap')\n",
    "    mongoinfo = mongo_import(month, fp)\n",
    "\n",
    "    comment_count = filter_comments(mongoinfo)\n",
    "#     get_posts(reddit, month)\n",
    "    \n",
    "    links_df.iloc[idx, 2] = True\n",
    "    links_df.iloc[idx, 3] = filesize\n",
    "    links_df.iloc[idx, 4] = comment_count\n",
    "    links_df.to_csv('comment_files/links_dataframe.csv', index=False)\n",
    "\n",
    "    print('Done! Time elapsed: {:1.2f}'.format(time.time() - start))\n",
    "    print('')"
   ]
  },
  {
   "cell_type": "code",
   "execution_count": 46,
   "metadata": {},
   "outputs": [],
   "source": [
    "def get_posts(praw_reddit, month):\n",
    "    \"\"\"We need not only comments for these subreddits, but post information as well. This function looks\n",
    "    at all distinct posts ids within a month and pulls the post information from the reddit API using PRAW.\"\"\"\n",
    "\n",
    "    client = MongoClient()\n",
    "    collection_name = 'comments-{}'.format(month)\n",
    "    db = client['myreddit']\n",
    "    comments = db[collection_name]\n",
    "    post_ids = comments.distinct('link_id')\n",
    "    distinct_posts = len(post_ids)\n",
    "    print('There are {} distinct posts for the month'.format(distinct_posts))\n",
    "\n",
    "    collection_name = 'posts-{}'.format(month)\n",
    "    posts = db[collection_name]\n",
    "\n",
    "    praw_generator = praw_reddit.info(post_ids)\n",
    "    print('Getting post data...')\n",
    "    for submission in praw_generator:\n",
    "        d = {'link_id': submission.id, \n",
    "             'title': submission.title, \n",
    "             'score': submission.score, \n",
    "             'is_self': submission.is_self, \n",
    "             'datetime': submission.created_utc, \n",
    "             'sub': submission.subreddit.display_name, \n",
    "             'permalink': submission.permalink}\n",
    "        posts.insert_one(d)\n",
    "    \n",
    "    client.close()"
   ]
  },
  {
   "cell_type": "code",
   "execution_count": 47,
   "metadata": {
    "scrolled": true
   },
   "outputs": [
    {
     "name": "stdout",
     "output_type": "stream",
     "text": [
      "Reddit comments month: 2008-05\n",
      "There are 9721 distinct posts for the month\n",
      "Getting post data...\n",
      "Done! Time elapsed: 67.80\n",
      "\n",
      "Reddit comments month: 2008-06\n",
      "There are 9854 distinct posts for the month\n",
      "Getting post data...\n",
      "Done! Time elapsed: 67.34\n",
      "\n",
      "Reddit comments month: 2008-07\n",
      "There are 9926 distinct posts for the month\n",
      "Getting post data...\n",
      "Done! Time elapsed: 67.63\n",
      "\n",
      "Reddit comments month: 2008-08\n",
      "There are 11542 distinct posts for the month\n",
      "Getting post data...\n",
      "Done! Time elapsed: 77.76\n",
      "\n",
      "Reddit comments month: 2008-09\n",
      "There are 18393 distinct posts for the month\n",
      "Getting post data...\n",
      "Done! Time elapsed: 121.15\n",
      "\n",
      "Reddit comments month: 2008-10\n",
      "There are 21285 distinct posts for the month\n",
      "Getting post data...\n",
      "Done! Time elapsed: 139.52\n",
      "\n",
      "Reddit comments month: 2008-11\n",
      "There are 14654 distinct posts for the month\n",
      "Getting post data...\n",
      "Done! Time elapsed: 95.81\n",
      "\n",
      "Reddit comments month: 2008-12\n",
      "There are 9777 distinct posts for the month\n",
      "Getting post data...\n",
      "Done! Time elapsed: 64.40\n",
      "\n",
      "Reddit comments month: 2009-01\n",
      "There are 13346 distinct posts for the month\n",
      "Getting post data...\n",
      "Done! Time elapsed: 88.36\n",
      "\n",
      "Reddit comments month: 2009-02\n",
      "There are 10765 distinct posts for the month\n",
      "Getting post data...\n",
      "Done! Time elapsed: 70.47\n",
      "\n",
      "Reddit comments month: 2009-03\n",
      "There are 11848 distinct posts for the month\n",
      "Getting post data...\n",
      "Done! Time elapsed: 78.63\n",
      "\n",
      "Reddit comments month: 2009-04\n",
      "There are 11250 distinct posts for the month\n",
      "Getting post data...\n",
      "Done! Time elapsed: 74.02\n",
      "\n",
      "Reddit comments month: 2009-05\n",
      "There are 10803 distinct posts for the month\n",
      "Getting post data...\n",
      "Done! Time elapsed: 70.27\n",
      "\n",
      "Reddit comments month: 2009-06\n",
      "There are 12210 distinct posts for the month\n",
      "Getting post data...\n",
      "Done! Time elapsed: 81.53\n",
      "\n",
      "Reddit comments month: 2009-07\n",
      "There are 11809 distinct posts for the month\n",
      "Getting post data...\n",
      "Done! Time elapsed: 72.48\n",
      "\n",
      "Reddit comments month: 2009-08\n",
      "There are 12383 distinct posts for the month\n",
      "Getting post data...\n",
      "Done! Time elapsed: 86.05\n",
      "\n",
      "Reddit comments month: 2009-09\n",
      "There are 12200 distinct posts for the month\n",
      "Getting post data...\n",
      "Done! Time elapsed: 84.25\n",
      "\n",
      "Reddit comments month: 2009-10\n",
      "There are 12075 distinct posts for the month\n",
      "Getting post data...\n",
      "Done! Time elapsed: 83.68\n",
      "\n",
      "Reddit comments month: 2009-11\n",
      "There are 11086 distinct posts for the month\n",
      "Getting post data...\n",
      "Done! Time elapsed: 75.58\n",
      "\n",
      "Reddit comments month: 2009-12\n",
      "There are 12260 distinct posts for the month\n",
      "Getting post data...\n",
      "Done! Time elapsed: 85.31\n",
      "\n",
      "Reddit comments month: 2010-01\n",
      "There are 13177 distinct posts for the month\n",
      "Getting post data...\n",
      "Done! Time elapsed: 92.62\n",
      "\n"
     ]
    }
   ],
   "source": [
    "with open('../keys/reddit_appid.txt') as f:\n",
    "    APP_ID = f.read().rstrip()\n",
    "with open('../keys/reddit_secret.txt') as f:\n",
    "    APP_SECRET = f.read().rstrip()\n",
    "reddit = praw.Reddit(client_id=APP_ID,\n",
    "                     client_secret=APP_SECRET,\n",
    "                     user_agent='script:my.project:v1.0.0 (by /u/Someone')\n",
    "\n",
    "\n",
    "# for idx, row in links_df[links_df['downloaded'] == False].iloc[12:13].iterrows():\n",
    "for idx, row in links_df.iloc[29:50].iterrows():\n",
    "    start = time.time()\n",
    "    month = row['month']\n",
    "    url = row['link']\n",
    "    print('Reddit comments month: {}'.format(month))\n",
    "    \n",
    "    get_posts(reddit, month)\n",
    "\n",
    "    print('Done! Time elapsed: {:1.2f}'.format(time.time() - start))\n",
    "    print('')"
   ]
  },
  {
   "cell_type": "code",
   "execution_count": 45,
   "metadata": {
    "scrolled": true
   },
   "outputs": [
    {
     "data": {
      "text/html": [
       "<div>\n",
       "<style scoped>\n",
       "    .dataframe tbody tr th:only-of-type {\n",
       "        vertical-align: middle;\n",
       "    }\n",
       "\n",
       "    .dataframe tbody tr th {\n",
       "        vertical-align: top;\n",
       "    }\n",
       "\n",
       "    .dataframe thead th {\n",
       "        text-align: right;\n",
       "    }\n",
       "</style>\n",
       "<table border=\"1\" class=\"dataframe\">\n",
       "  <thead>\n",
       "    <tr style=\"text-align: right;\">\n",
       "      <th></th>\n",
       "      <th>month</th>\n",
       "      <th>link</th>\n",
       "      <th>downloaded</th>\n",
       "      <th>size_in_bytes</th>\n",
       "      <th>comment_count</th>\n",
       "    </tr>\n",
       "  </thead>\n",
       "  <tbody>\n",
       "    <tr>\n",
       "      <td>25</td>\n",
       "      <td>2008-01</td>\n",
       "      <td>https://files.pushshift.io/reddit/comments/RC_...</td>\n",
       "      <td>True</td>\n",
       "      <td>263972619</td>\n",
       "      <td>452990</td>\n",
       "    </tr>\n",
       "    <tr>\n",
       "      <td>26</td>\n",
       "      <td>2008-02</td>\n",
       "      <td>https://files.pushshift.io/reddit/comments/RC_...</td>\n",
       "      <td>True</td>\n",
       "      <td>256564276</td>\n",
       "      <td>441768</td>\n",
       "    </tr>\n",
       "    <tr>\n",
       "      <td>27</td>\n",
       "      <td>2008-03</td>\n",
       "      <td>https://files.pushshift.io/reddit/comments/RC_...</td>\n",
       "      <td>True</td>\n",
       "      <td>267934549</td>\n",
       "      <td>463728</td>\n",
       "    </tr>\n",
       "    <tr>\n",
       "      <td>28</td>\n",
       "      <td>2008-04</td>\n",
       "      <td>https://files.pushshift.io/reddit/comments/RC_...</td>\n",
       "      <td>True</td>\n",
       "      <td>272655574</td>\n",
       "      <td>468317</td>\n",
       "    </tr>\n",
       "    <tr>\n",
       "      <td>29</td>\n",
       "      <td>2008-05</td>\n",
       "      <td>https://files.pushshift.io/reddit/comments/RC_...</td>\n",
       "      <td>True</td>\n",
       "      <td>310404232</td>\n",
       "      <td>536380</td>\n",
       "    </tr>\n",
       "    <tr>\n",
       "      <td>30</td>\n",
       "      <td>2008-06</td>\n",
       "      <td>https://files.pushshift.io/reddit/comments/RC_...</td>\n",
       "      <td>True</td>\n",
       "      <td>336060719</td>\n",
       "      <td>577684</td>\n",
       "    </tr>\n",
       "    <tr>\n",
       "      <td>31</td>\n",
       "      <td>2008-07</td>\n",
       "      <td>https://files.pushshift.io/reddit/comments/RC_...</td>\n",
       "      <td>True</td>\n",
       "      <td>346089066</td>\n",
       "      <td>592610</td>\n",
       "    </tr>\n",
       "    <tr>\n",
       "      <td>32</td>\n",
       "      <td>2008-08</td>\n",
       "      <td>https://files.pushshift.io/reddit/comments/RC_...</td>\n",
       "      <td>True</td>\n",
       "      <td>346626502</td>\n",
       "      <td>595959</td>\n",
       "    </tr>\n",
       "    <tr>\n",
       "      <td>33</td>\n",
       "      <td>2008-09</td>\n",
       "      <td>https://files.pushshift.io/reddit/comments/RC_...</td>\n",
       "      <td>True</td>\n",
       "      <td>396060313</td>\n",
       "      <td>680892</td>\n",
       "    </tr>\n",
       "    <tr>\n",
       "      <td>34</td>\n",
       "      <td>2008-10</td>\n",
       "      <td>https://files.pushshift.io/reddit/comments/RC_...</td>\n",
       "      <td>True</td>\n",
       "      <td>456690506</td>\n",
       "      <td>789874</td>\n",
       "    </tr>\n",
       "    <tr>\n",
       "      <td>35</td>\n",
       "      <td>2008-11</td>\n",
       "      <td>https://files.pushshift.io/reddit/comments/RC_...</td>\n",
       "      <td>True</td>\n",
       "      <td>454923167</td>\n",
       "      <td>792310</td>\n",
       "    </tr>\n",
       "    <tr>\n",
       "      <td>36</td>\n",
       "      <td>2008-12</td>\n",
       "      <td>https://files.pushshift.io/reddit/comments/RC_...</td>\n",
       "      <td>True</td>\n",
       "      <td>490644703</td>\n",
       "      <td>850359</td>\n",
       "    </tr>\n",
       "    <tr>\n",
       "      <td>37</td>\n",
       "      <td>2009-01</td>\n",
       "      <td>https://files.pushshift.io/reddit/comments/RC_...</td>\n",
       "      <td>True</td>\n",
       "      <td>608871484</td>\n",
       "      <td>1051649</td>\n",
       "    </tr>\n",
       "    <tr>\n",
       "      <td>38</td>\n",
       "      <td>2009-02</td>\n",
       "      <td>https://files.pushshift.io/reddit/comments/RC_...</td>\n",
       "      <td>True</td>\n",
       "      <td>549556409</td>\n",
       "      <td>944711</td>\n",
       "    </tr>\n",
       "    <tr>\n",
       "      <td>39</td>\n",
       "      <td>2009-03</td>\n",
       "      <td>https://files.pushshift.io/reddit/comments/RC_...</td>\n",
       "      <td>True</td>\n",
       "      <td>615767139</td>\n",
       "      <td>1048643</td>\n",
       "    </tr>\n",
       "    <tr>\n",
       "      <td>40</td>\n",
       "      <td>2009-04</td>\n",
       "      <td>https://files.pushshift.io/reddit/comments/RC_...</td>\n",
       "      <td>True</td>\n",
       "      <td>641521564</td>\n",
       "      <td>1094599</td>\n",
       "    </tr>\n",
       "    <tr>\n",
       "      <td>41</td>\n",
       "      <td>2009-05</td>\n",
       "      <td>https://files.pushshift.io/reddit/comments/RC_...</td>\n",
       "      <td>True</td>\n",
       "      <td>712627459</td>\n",
       "      <td>1201257</td>\n",
       "    </tr>\n",
       "    <tr>\n",
       "      <td>42</td>\n",
       "      <td>2009-06</td>\n",
       "      <td>https://files.pushshift.io/reddit/comments/RC_...</td>\n",
       "      <td>True</td>\n",
       "      <td>749303499</td>\n",
       "      <td>1258750</td>\n",
       "    </tr>\n",
       "    <tr>\n",
       "      <td>43</td>\n",
       "      <td>2009-07</td>\n",
       "      <td>https://files.pushshift.io/reddit/comments/RC_...</td>\n",
       "      <td>True</td>\n",
       "      <td>873978527</td>\n",
       "      <td>1470290</td>\n",
       "    </tr>\n",
       "    <tr>\n",
       "      <td>44</td>\n",
       "      <td>2009-08</td>\n",
       "      <td>https://files.pushshift.io/reddit/comments/RC_...</td>\n",
       "      <td>True</td>\n",
       "      <td>1038515234</td>\n",
       "      <td>1750688</td>\n",
       "    </tr>\n",
       "    <tr>\n",
       "      <td>45</td>\n",
       "      <td>2009-09</td>\n",
       "      <td>https://files.pushshift.io/reddit/comments/RC_...</td>\n",
       "      <td>True</td>\n",
       "      <td>1192147453</td>\n",
       "      <td>2032276</td>\n",
       "    </tr>\n",
       "    <tr>\n",
       "      <td>46</td>\n",
       "      <td>2009-10</td>\n",
       "      <td>https://files.pushshift.io/reddit/comments/RC_...</td>\n",
       "      <td>True</td>\n",
       "      <td>1332958320</td>\n",
       "      <td>2242017</td>\n",
       "    </tr>\n",
       "    <tr>\n",
       "      <td>47</td>\n",
       "      <td>2009-11</td>\n",
       "      <td>https://files.pushshift.io/reddit/comments/RC_...</td>\n",
       "      <td>True</td>\n",
       "      <td>1307127106</td>\n",
       "      <td>2207444</td>\n",
       "    </tr>\n",
       "    <tr>\n",
       "      <td>48</td>\n",
       "      <td>2009-12</td>\n",
       "      <td>https://files.pushshift.io/reddit/comments/RC_...</td>\n",
       "      <td>True</td>\n",
       "      <td>1505204158</td>\n",
       "      <td>2560510</td>\n",
       "    </tr>\n",
       "    <tr>\n",
       "      <td>49</td>\n",
       "      <td>2010-01</td>\n",
       "      <td>https://files.pushshift.io/reddit/comments/RC_...</td>\n",
       "      <td>True</td>\n",
       "      <td>1695673319</td>\n",
       "      <td>2884096</td>\n",
       "    </tr>\n",
       "    <tr>\n",
       "      <td>50</td>\n",
       "      <td>2010-02</td>\n",
       "      <td>https://files.pushshift.io/reddit/comments/RC_...</td>\n",
       "      <td>False</td>\n",
       "      <td>0</td>\n",
       "      <td>0</td>\n",
       "    </tr>\n",
       "    <tr>\n",
       "      <td>51</td>\n",
       "      <td>2010-03</td>\n",
       "      <td>https://files.pushshift.io/reddit/comments/RC_...</td>\n",
       "      <td>False</td>\n",
       "      <td>0</td>\n",
       "      <td>0</td>\n",
       "    </tr>\n",
       "    <tr>\n",
       "      <td>52</td>\n",
       "      <td>2010-04</td>\n",
       "      <td>https://files.pushshift.io/reddit/comments/RC_...</td>\n",
       "      <td>False</td>\n",
       "      <td>0</td>\n",
       "      <td>0</td>\n",
       "    </tr>\n",
       "    <tr>\n",
       "      <td>53</td>\n",
       "      <td>2010-05</td>\n",
       "      <td>https://files.pushshift.io/reddit/comments/RC_...</td>\n",
       "      <td>False</td>\n",
       "      <td>0</td>\n",
       "      <td>0</td>\n",
       "    </tr>\n",
       "    <tr>\n",
       "      <td>54</td>\n",
       "      <td>2010-06</td>\n",
       "      <td>https://files.pushshift.io/reddit/comments/RC_...</td>\n",
       "      <td>False</td>\n",
       "      <td>0</td>\n",
       "      <td>0</td>\n",
       "    </tr>\n",
       "  </tbody>\n",
       "</table>\n",
       "</div>"
      ],
      "text/plain": [
       "      month                                               link  downloaded  \\\n",
       "25  2008-01  https://files.pushshift.io/reddit/comments/RC_...        True   \n",
       "26  2008-02  https://files.pushshift.io/reddit/comments/RC_...        True   \n",
       "27  2008-03  https://files.pushshift.io/reddit/comments/RC_...        True   \n",
       "28  2008-04  https://files.pushshift.io/reddit/comments/RC_...        True   \n",
       "29  2008-05  https://files.pushshift.io/reddit/comments/RC_...        True   \n",
       "30  2008-06  https://files.pushshift.io/reddit/comments/RC_...        True   \n",
       "31  2008-07  https://files.pushshift.io/reddit/comments/RC_...        True   \n",
       "32  2008-08  https://files.pushshift.io/reddit/comments/RC_...        True   \n",
       "33  2008-09  https://files.pushshift.io/reddit/comments/RC_...        True   \n",
       "34  2008-10  https://files.pushshift.io/reddit/comments/RC_...        True   \n",
       "35  2008-11  https://files.pushshift.io/reddit/comments/RC_...        True   \n",
       "36  2008-12  https://files.pushshift.io/reddit/comments/RC_...        True   \n",
       "37  2009-01  https://files.pushshift.io/reddit/comments/RC_...        True   \n",
       "38  2009-02  https://files.pushshift.io/reddit/comments/RC_...        True   \n",
       "39  2009-03  https://files.pushshift.io/reddit/comments/RC_...        True   \n",
       "40  2009-04  https://files.pushshift.io/reddit/comments/RC_...        True   \n",
       "41  2009-05  https://files.pushshift.io/reddit/comments/RC_...        True   \n",
       "42  2009-06  https://files.pushshift.io/reddit/comments/RC_...        True   \n",
       "43  2009-07  https://files.pushshift.io/reddit/comments/RC_...        True   \n",
       "44  2009-08  https://files.pushshift.io/reddit/comments/RC_...        True   \n",
       "45  2009-09  https://files.pushshift.io/reddit/comments/RC_...        True   \n",
       "46  2009-10  https://files.pushshift.io/reddit/comments/RC_...        True   \n",
       "47  2009-11  https://files.pushshift.io/reddit/comments/RC_...        True   \n",
       "48  2009-12  https://files.pushshift.io/reddit/comments/RC_...        True   \n",
       "49  2010-01  https://files.pushshift.io/reddit/comments/RC_...        True   \n",
       "50  2010-02  https://files.pushshift.io/reddit/comments/RC_...       False   \n",
       "51  2010-03  https://files.pushshift.io/reddit/comments/RC_...       False   \n",
       "52  2010-04  https://files.pushshift.io/reddit/comments/RC_...       False   \n",
       "53  2010-05  https://files.pushshift.io/reddit/comments/RC_...       False   \n",
       "54  2010-06  https://files.pushshift.io/reddit/comments/RC_...       False   \n",
       "\n",
       "    size_in_bytes  comment_count  \n",
       "25      263972619         452990  \n",
       "26      256564276         441768  \n",
       "27      267934549         463728  \n",
       "28      272655574         468317  \n",
       "29      310404232         536380  \n",
       "30      336060719         577684  \n",
       "31      346089066         592610  \n",
       "32      346626502         595959  \n",
       "33      396060313         680892  \n",
       "34      456690506         789874  \n",
       "35      454923167         792310  \n",
       "36      490644703         850359  \n",
       "37      608871484        1051649  \n",
       "38      549556409         944711  \n",
       "39      615767139        1048643  \n",
       "40      641521564        1094599  \n",
       "41      712627459        1201257  \n",
       "42      749303499        1258750  \n",
       "43      873978527        1470290  \n",
       "44     1038515234        1750688  \n",
       "45     1192147453        2032276  \n",
       "46     1332958320        2242017  \n",
       "47     1307127106        2207444  \n",
       "48     1505204158        2560510  \n",
       "49     1695673319        2884096  \n",
       "50              0              0  \n",
       "51              0              0  \n",
       "52              0              0  \n",
       "53              0              0  \n",
       "54              0              0  "
      ]
     },
     "execution_count": 45,
     "metadata": {},
     "output_type": "execute_result"
    }
   ],
   "source": [
    "links_df.iloc[25:55, :]"
   ]
  },
  {
   "cell_type": "code",
   "execution_count": 28,
   "metadata": {
    "scrolled": true
   },
   "outputs": [
    {
     "data": {
      "text/plain": [
       "{'_id': ObjectId('5e542549d70d406b412f6299'),\n",
       " 'link_id': 't3_22515',\n",
       " 'stickied': False,\n",
       " 'subreddit_id': 't5_6',\n",
       " 'controversiality': 0,\n",
       " 'body': \"Microsoft hates it's own products?\\r\\nWho knew?\",\n",
       " 'author_flair_css_class': None,\n",
       " 'created_utc': 1136078623,\n",
       " 'ups': 2,\n",
       " 'score': 2,\n",
       " 'subreddit': 'reddit.com',\n",
       " 'id': 'c2718',\n",
       " 'parent_id': 't3_22515',\n",
       " 'edited': False,\n",
       " 'author_flair_text': None,\n",
       " 'author': 'Pichu0102',\n",
       " 'retrieved_on': 1473821517,\n",
       " 'distinguished': None,\n",
       " 'gilded': 0}"
      ]
     },
     "execution_count": 28,
     "metadata": {},
     "output_type": "execute_result"
    }
   ],
   "source": [
    "temp_col.find_one()"
   ]
  },
  {
   "cell_type": "code",
   "execution_count": 72,
   "metadata": {
    "scrolled": false
   },
   "outputs": [
    {
     "data": {
      "text/plain": [
       "{'_id': ObjectId('5e5419474d3ce5d53043c5e0'),\n",
       " 'link_id': 'fnf5q',\n",
       " 'title': 'UW Milwaukee protests- Not as intense as Madison, but we do what we can.',\n",
       " 'score': 12,\n",
       " 'is_self': False,\n",
       " 'datetime': 1297974010.0,\n",
       " 'sub': 'politics',\n",
       " 'permalink': '/r/politics/comments/fnf5q/uw_milwaukee_protests_not_as_intense_as_madison/'}"
      ]
     },
     "execution_count": 72,
     "metadata": {},
     "output_type": "execute_result"
    }
   ],
   "source": [
    "posts.find_one()"
   ]
  },
  {
   "cell_type": "code",
   "execution_count": null,
   "metadata": {},
   "outputs": [],
   "source": []
  }
 ],
 "metadata": {
  "kernelspec": {
   "display_name": "Python 3",
   "language": "python",
   "name": "python3"
  },
  "language_info": {
   "codemirror_mode": {
    "name": "ipython",
    "version": 3
   },
   "file_extension": ".py",
   "mimetype": "text/x-python",
   "name": "python",
   "nbconvert_exporter": "python",
   "pygments_lexer": "ipython3",
   "version": "3.7.4"
  }
 },
 "nbformat": 4,
 "nbformat_minor": 2
}
